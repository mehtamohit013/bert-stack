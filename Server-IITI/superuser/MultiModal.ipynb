{
  "nbformat": 4,
  "nbformat_minor": 0,
  "metadata": {
    "colab": {
      "name": "MultiModal.ipynb",
      "provenance": [],
      "collapsed_sections": [
        "JHAMYwNfv5Th",
        "quJKUGIXv8zk",
        "rVzPL-EMTXpM",
        "ZuGYeCAq97yQ",
        "kYlESuc6HmGF"
      ],
      "toc_visible": true
    },
    "kernelspec": {
      "display_name": "Python 3",
      "name": "python3",
      "language": "python"
    },
    "accelerator": "GPU"
  },
  "cells": [
    {
      "cell_type": "code",
      "metadata": {
        "colab": {
          "base_uri": "https://localhost:8080/"
        },
        "id": "rXKu5-xjGwOa",
        "outputId": "8812f697-fbc0-4133-c7e2-dcb973e6d58d"
      },
      "source": [
        "!nvidia-smi"
      ],
      "execution_count": 1,
      "outputs": [
        {
          "output_type": "stream",
          "name": "stdout",
          "text": [
            "Thu May 13 01:30:32 2021       \n+-----------------------------------------------------------------------------+\n| NVIDIA-SMI 455.45.01    Driver Version: 455.45.01    CUDA Version: 11.1     |\n|-------------------------------+----------------------+----------------------+\n| GPU  Name        Persistence-M| Bus-Id        Disp.A | Volatile Uncorr. ECC |\n| Fan  Temp  Perf  Pwr:Usage/Cap|         Memory-Usage | GPU-Util  Compute M. |\n|                               |                      |               MIG M. |\n|===============================+======================+======================|\n|   0  Tesla V100-PCIE...  On   | 00000000:17:00.0 Off |                    0 |\n| N/A   63C    P0    36W / 250W |      4MiB / 16160MiB |      0%      Default |\n|                               |                      |                  N/A |\n+-------------------------------+----------------------+----------------------+\n                                                                               \n+-----------------------------------------------------------------------------+\n| Processes:                                                                  |\n|  GPU   GI   CI        PID   Type   Process name                  GPU Memory |\n|        ID   ID                                                   Usage      |\n|=============================================================================|\n|    0   N/A  N/A      1074      G   /usr/lib/xorg/Xorg                  4MiB |\n+-----------------------------------------------------------------------------+\nWARNING: infoROM is corrupted at gpu 0000:17:00.0\n"
          ]
        }
      ]
    },
    {
      "cell_type": "markdown",
      "metadata": {
        "id": "JHAMYwNfv5Th"
      },
      "source": [
        "# Imports"
      ]
    },
    {
      "cell_type": "code",
      "metadata": {
        "id": "jKIzzX6J3QtS"
      },
      "source": [
        "import pandas as pd\n",
        "import pickle\n",
        "import random\n",
        "import torch\n",
        "from torch import nn\n",
        "from torch.utils.data import DataLoader, Dataset\n",
        "from enum import Enum\n",
        "from torch.nn import functional as F\n",
        "import time\n",
        "import logging\n",
        "import numpy as np\n",
        "import matplotlib.pyplot as plt\n",
        "import os\n",
        "import sys\n",
        "\n",
        "logger = logging.getLogger(__name__)\n",
        "random.seed(13)"
      ],
      "execution_count": 2,
      "outputs": []
    },
    {
      "cell_type": "markdown",
      "metadata": {
        "id": "quJKUGIXv8zk"
      },
      "source": [
        "# Utilities"
      ]
    },
    {
      "cell_type": "code",
      "metadata": {
        "id": "u1t9DLnOsFN_"
      },
      "source": [
        "def pytorch_cos_sim(a: torch.Tensor, b: torch.Tensor):\n",
        "    \"\"\"\n",
        "    Computes the cosine similarity cos_sim(a[i], b[j]) for all i and j.\n",
        "    This function can be used as a faster replacement for 1-scipy.spatial.distance.cdist(a,b)\n",
        "    :return: Matrix with res[i][j]  = cos_sim(a[i], b[j])\n",
        "    \"\"\"\n",
        "    if not isinstance(a, torch.Tensor):\n",
        "        a = torch.tensor(a)\n",
        "\n",
        "    if not isinstance(b, torch.Tensor):\n",
        "        b = torch.tensor(b)\n",
        "\n",
        "    if len(a.shape) == 1:\n",
        "        a = a.unsqueeze(0)\n",
        "\n",
        "    if len(b.shape) == 1:\n",
        "        b = b.unsqueeze(0)\n",
        "\n",
        "    a_norm = torch.nn.functional.normalize(a, p=2, dim=1)\n",
        "    b_norm = torch.nn.functional.normalize(b, p=2, dim=1)\n",
        "    return torch.mm(a_norm, b_norm.transpose(0, 1))"
      ],
      "execution_count": 3,
      "outputs": []
    },
    {
      "cell_type": "code",
      "execution_count": 4,
      "metadata": {},
      "outputs": [],
      "source": [
        "def nan_to_None(qr:pd.DataFrame,col:str):\n",
        "    a = qr[col].tolist()\n",
        "    for i in range(0,len(a)):\n",
        "        if(type(a[i])!=list):\n",
        "            a[i] = None\n",
        "    qr[col] = a\n",
        "    return qr"
      ]
    },
    {
      "cell_type": "code",
      "metadata": {
        "id": "DQdj5p8fzl-1"
      },
      "source": [
        "def string_sentence(i,qr):\n",
        "    return qr.loc[i,'Title'] + ' '  + ' '.join(qr.loc[i,'Tags']) + ' '  + qr.loc[i,'Text']"
      ],
      "execution_count": 5,
      "outputs": []
    },
    {
      "cell_type": "markdown",
      "metadata": {
        "id": "STnKB8R7NVEa"
      },
      "source": [
        "# Model Hyper-Parameters"
      ]
    },
    {
      "cell_type": "code",
      "metadata": {
        "colab": {
          "base_uri": "https://localhost:8080/"
        },
        "id": "DebNqaCF2uE_",
        "outputId": "3a0afc19-1a93-4e43-fd07-bad572de2258"
      },
      "source": [
        "folder_quora = '/home/ckm/visualqatickets/superuser/Data'\n",
        "folder = '.'\n",
        "img_dir = folder_quora+'/'\n",
        "os.makedirs(folder,exist_ok = True)\n",
        "BATCH_SIZE = 8\n",
        "fin_BATCH_SIZE = 32\n",
        "n_worker = 8\n",
        "margin  = 0.9\n",
        "#---------\n",
        "#Note that amp cannot be used without sigmoid\n",
        "use_amp = False\n",
        "use_sig = True # For BCEloss\n",
        "#----------\n",
        "\n",
        "# eval_BATCH_SIZE = 4 \n",
        "device = torch.device('cuda' if torch.cuda.is_available() else 'cpu')\n",
        "print(device)"
      ],
      "execution_count": 6,
      "outputs": [
        {
          "output_type": "stream",
          "name": "stdout",
          "text": [
            "cuda\n"
          ]
        }
      ]
    },
    {
      "cell_type": "markdown",
      "metadata": {
        "id": "tgk_opqd2prV"
      },
      "source": [
        "# Creating Dataset and Dataloader"
      ]
    },
    {
      "cell_type": "markdown",
      "metadata": {
        "id": "xnOxcgwk5WiU"
      },
      "source": [
        "### Loading Data"
      ]
    },
    {
      "cell_type": "code",
      "metadata": {
        "id": "N1RqPrOk5Ynm"
      },
      "source": [
        "with open(folder_quora+'/pandas/split.txt','rb') as a:\n",
        "    train_qr=pickle.load(a)\n",
        "    dev_qr = pickle.load(a)\n",
        "    test_qr = pickle.load(a)"
      ],
      "execution_count": 7,
      "outputs": []
    },
    {
      "cell_type": "code",
      "metadata": {
        "id": "Z5qm94QOFH2V"
      },
      "source": [
        "with open(folder_quora+'/pairs_related/train_dev_test.txt','rb') as a:\n",
        "    train_data=pickle.load(a)\n",
        "    train_score = pickle.load(a)\n",
        "    dev_data = pickle.load(a)\n",
        "    dev_score = pickle.load(a)\n",
        "    test_data = pickle.load(a)\n",
        "    test_score = pickle.load(a)"
      ],
      "execution_count": 8,
      "outputs": []
    },
    {
      "cell_type": "code",
      "metadata": {
        "id": "oo8Ihxt3lEyK"
      },
      "source": [
        "with open(folder_quora+'/pairs_related/data_pos_neg.txt','rb') as a:\n",
        "    train_data_pos = pickle.load(a)\n",
        "    train_data_neg = pickle.load(a)\n",
        "    dev_data_pos = pickle.load(a)\n",
        "    dev_data_neg = pickle.load(a)\n",
        "    test_data_pos = pickle.load(a)\n",
        "    test_data_neg = pickle.load(a)"
      ],
      "execution_count": 9,
      "outputs": []
    },
    {
      "cell_type": "code",
      "execution_count": 10,
      "metadata": {},
      "outputs": [],
      "source": [
        "train_qr = nan_to_None(train_qr,'Attachments')\n",
        "dev_qr = nan_to_None(dev_qr,'Attachments')\n",
        "test_qr = nan_to_None(test_qr,'Attachments')\n",
        "qr = pd.concat([train_qr,dev_qr,test_qr])"
      ]
    },
    {
      "cell_type": "markdown",
      "metadata": {
        "id": "M2mT9dqsm5Vy"
      },
      "source": [
        "### Creating Dataset "
      ]
    },
    {
      "cell_type": "code",
      "metadata": {
        "id": "X86sdgPk3lQx"
      },
      "source": [
        "from PIL import Image\n",
        "from torchvision import transforms\n",
        "transform_pipe = transforms.Compose([\n",
        "    transforms.Resize(256),\n",
        "    transforms.CenterCrop(224),\n",
        "    transforms.ToTensor(),\n",
        "    transforms.Normalize(mean=[0.485, 0.456, 0.406], std=[0.229, 0.224, 0.225]),\n",
        "])"
      ],
      "execution_count": 11,
      "outputs": []
    },
    {
      "cell_type": "code",
      "metadata": {
        "id": "E6I9YioKE8uK"
      },
      "source": [
        "from transformers import BertTokenizerFast, BertConfig,BertModel\n",
        "config = BertConfig()\n",
        "tokenizer = BertTokenizerFast.from_pretrained('bert-base-uncased')"
      ],
      "execution_count": 12,
      "outputs": []
    },
    {
      "cell_type": "code",
      "metadata": {
        "id": "KXPoomQx4Zby"
      },
      "source": [
        "class custom_dataset(Dataset):\n",
        "    def __init__(self,qr,qr_idx,img_dir,label,transform = transform_pipe):\n",
        "        self.qr = qr\n",
        "        self.qr_idx = qr_idx\n",
        "        self.img_dir = img_dir\n",
        "        self.label = label\n",
        "        self.transform = transform\n",
        "\n",
        "    def image_adder(self,id1):\n",
        "        img_id1 = list()\n",
        "        if((self.qr.at[id1,'Attachments'])!=None):\n",
        "            for i in self.qr.at[id1,'Attachments']:\n",
        "                try:\n",
        "                    img_path = os.path.join(self.img_dir,i)\n",
        "                    img = Image.open(img_path).convert('RGB')\n",
        "                    if(self.transform):\n",
        "                        img = self.transform(img)\n",
        "                        # print(img.shape)\n",
        "                        if(img.shape==(224,224,3)):\n",
        "                            img.permute(2,0,1)\n",
        "                        # img = img.permute(2,0,1)\n",
        "                        if(img.shape!=(3,224,224)):\n",
        "                            print(f'something wrong with image transformation id: {id1} image shape: {img.shape}')\n",
        "                    img_id1.append(img)\n",
        "                except Exception as e: \n",
        "                    print(e)\n",
        "        else:\n",
        "            img_id1.append(torch.randn(3,224,224))\n",
        "\n",
        "        # Work on this, for few examples, it is still saying list index out of range\n",
        "        if(len(img_id1)==0):\n",
        "            # print('No attachments found for id {}'.format(id1))\n",
        "            print(f'Something went wrong with the image of id {id1}')\n",
        "            img_id1.append(torch.randn(3,224,224))\n",
        "\n",
        "        return img_id1\n",
        "    \n",
        "    def __getitem__(self,idx):\n",
        "        id1 = self.qr_idx[idx][0]\n",
        "        id2 = self.qr_idx[idx][1]\n",
        "        img_id1 = self.image_adder(id1)\n",
        "        img_id2 = self.image_adder(id2)\n",
        "\n",
        "        # print(len(img_id1))\n",
        "\n",
        "        # print('Printing id1 {} and len {} and id2 {} and len {} '.format(\n",
        "        #     id1,len(img_id1),\n",
        "        #     id2, len(img_id2)\n",
        "        # ))\n",
        "\n",
        "        # print('Printing id1 shape {} and id2  shape {}'.format(\n",
        "        #     img_id1[0].shape,\n",
        "        #     img_id2[0].shape\n",
        "        # ))        \n",
        "\n",
        "        sample = {\n",
        "            'image': [img_id1[0],img_id2[0]]    #Currently taking only one input image\n",
        "        }\n",
        "\n",
        "        t1 = self.qr.loc[id1,'Title'] + ' ' + ' '.join(self.qr.loc[id1,'Tags']) + ' ' + self.qr.loc[id1,'Text']\n",
        "        t2 = self.qr.loc[id2,'Title']+ ' ' + ' '.join(self.qr.loc[id2,'Tags']) + ' ' + self.qr.loc[id2,'Text']\n",
        "        indexed_t1 = tokenizer.encode(t1,max_length = 350,truncation = True)\n",
        "        indexed_t2 = tokenizer.encode(t2,max_length = 350,truncation = True)\n",
        "\n",
        "        while(len(indexed_t1)<350):\n",
        "            indexed_t1.append(0)\n",
        "        while(len(indexed_t2)<350):\n",
        "            indexed_t2.append(0)\n",
        "\n",
        "        ten_t1 = torch.tensor(indexed_t1)[:512]\n",
        "        ten_t2 = torch.tensor(indexed_t2)[:512]\n",
        "\n",
        "        label_cos = self.label[idx]\n",
        "        if(label_cos==0.0):\n",
        "            label_cos = -1.0\n",
        "\n",
        "\n",
        "        try:\n",
        "            sample[\"label\"] = self.label[idx]\n",
        "            sample[\"token\"] = [ten_t1,ten_t2] # torch.Size([batch_size, 512])\n",
        "            sample[\"label_cos\"] = label_cos \n",
        "        except Exception as e:\n",
        "            print(e)\n",
        "        \n",
        "        return sample\n",
        "\n",
        "    def __len__(self):\n",
        "        return len(self.label)"
      ],
      "execution_count": 13,
      "outputs": []
    },
    {
      "cell_type": "markdown",
      "metadata": {
        "id": "hV30ckW6NElG"
      },
      "source": [
        "## Train, dev and test dataloader"
      ]
    },
    {
      "cell_type": "code",
      "metadata": {
        "id": "qRNteBxHOomg"
      },
      "source": [
        "train_dataset = custom_dataset(train_qr,\n",
        "                               train_data,\n",
        "                               img_dir,\n",
        "                               train_score,\n",
        "                               transform = transform_pipe)"
      ],
      "execution_count": 14,
      "outputs": []
    },
    {
      "cell_type": "code",
      "execution_count": 15,
      "metadata": {},
      "outputs": [
        {
          "output_type": "execute_result",
          "data": {
            "text/plain": [
              "True"
            ]
          },
          "metadata": {},
          "execution_count": 15
        }
      ],
      "source": [
        "train_dataset[3]['image'][0].shape == (3,224,224)"
      ]
    },
    {
      "cell_type": "code",
      "metadata": {
        "id": "d78ebAQBSdJI"
      },
      "source": [
        "train_loader = DataLoader(\n",
        "    train_dataset,\n",
        "    batch_size=BATCH_SIZE,\n",
        "    pin_memory=True,\n",
        "    num_workers = n_worker,\n",
        "    drop_last = True\n",
        "    )"
      ],
      "execution_count": 16,
      "outputs": []
    },
    {
      "cell_type": "code",
      "metadata": {
        "id": "IU4CNMybfgqI"
      },
      "source": [
        "dev_dataset = custom_dataset(pd.concat([train_qr,dev_qr]),\n",
        "                             dev_data,\n",
        "                             img_dir,\n",
        "                             dev_score,\n",
        "                             transform = transform_pipe)"
      ],
      "execution_count": 17,
      "outputs": []
    },
    {
      "cell_type": "code",
      "metadata": {
        "id": "AUvKZ6rifxQW"
      },
      "source": [
        "dev_loader = DataLoader(\n",
        "    dev_dataset,\n",
        "    batch_size=BATCH_SIZE,\n",
        "    pin_memory=True,\n",
        "    num_workers = n_worker,\n",
        "    drop_last = True\n",
        "    )"
      ],
      "execution_count": 18,
      "outputs": []
    },
    {
      "cell_type": "code",
      "metadata": {
        "id": "fe1vYfiifhM2"
      },
      "source": [
        "test_dataset = custom_dataset(pd.concat([train_qr,test_qr]),\n",
        "                              test_data,\n",
        "                              img_dir,\n",
        "                              test_score,\n",
        "                              transform = transform_pipe)"
      ],
      "execution_count": 19,
      "outputs": []
    },
    {
      "cell_type": "code",
      "metadata": {
        "id": "RP_N_Kb5f1jD"
      },
      "source": [
        "test_loader = DataLoader(\n",
        "    test_dataset,\n",
        "    batch_size=BATCH_SIZE,\n",
        "    pin_memory=True,\n",
        "    num_workers = n_worker,\n",
        "    drop_last = True\n",
        "    )"
      ],
      "execution_count": 20,
      "outputs": []
    },
    {
      "cell_type": "markdown",
      "metadata": {
        "id": "rVzPL-EMTXpM"
      },
      "source": [
        "# Model"
      ]
    },
    {
      "cell_type": "markdown",
      "metadata": {
        "id": "beqWAJVP2_aP"
      },
      "source": [
        "## Loading Model "
      ]
    },
    {
      "cell_type": "code",
      "metadata": {
        "collapsed": true,
        "id": "Ye9P1XUUToUA"
      },
      "source": [
        "from torchvision import models\n",
        "res50 = models.resnet50(pretrained = True)\n",
        "res50 = res50.to(device)\n",
        "for param in res50.parameters():\n",
        "    param.requires_grad = True\n",
        "# res50.eval()\n",
        "\n",
        "bert = BertModel.from_pretrained('bert-base-uncased')\n",
        "bert = bert.to(device)\n",
        "for param in bert.parameters():\n",
        "    param.requires_grad = True\n",
        "# bert.eval()\n",
        "\n",
        "for param in bert.embeddings.parameters():\n",
        "    param.requires_grad = False\n",
        "\n",
        "for param in bert.encoder.layer[0].parameters():\n",
        "    param.requires_grad = False\n",
        "\n",
        "for param in res50.layer1.parameters():\n",
        "    param.requires_grad = False\n",
        "\n",
        "for param in res50.layer2.parameters():\n",
        "    param.requires_grad = False\n",
        "\n"
      ],
      "execution_count": 21,
      "outputs": []
    },
    {
      "cell_type": "code",
      "metadata": {
        "id": "9H9pkv80TYxA"
      },
      "source": [
        "def get_activation(name, activation):\n",
        "    def hook(model, input, output):\n",
        "        activation[name] = output.detach()\n",
        "    return hook"
      ],
      "execution_count": 22,
      "outputs": []
    },
    {
      "cell_type": "markdown",
      "metadata": {
        "id": "Io4zt1KC27nl"
      },
      "source": [
        "## Final 2d attention"
      ]
    },
    {
      "cell_type": "code",
      "metadata": {
        "id": "T967YR1fTcFo"
      },
      "source": [
        "import math\n",
        "class Final2d(torch.nn.Module):\n",
        "    \"\"\" Custom Linear layer for equation (9) in paper --> 2D intra attention layer\"\"\" \n",
        "    def __init__(self, size_in, size_out):\n",
        "        super().__init__()\n",
        "        self.size_in, self.size_out = size_in, size_out\n",
        "        weights = torch.Tensor(size_out, size_in)\n",
        "        self.weights = torch.nn.Parameter(weights)  # nn.Parameter is a Tensor that's a module parameter.\n",
        "\n",
        "        # initialize weights and biases\n",
        "        torch.nn.init.kaiming_uniform_(self.weights, a=math.sqrt(5)) # weight init\n",
        "        fan_in, _ = torch.nn.init._calculate_fan_in_and_fan_out(self.weights)\n",
        "\n",
        "    def forward(self, x, a):\n",
        "        # x.shape = batch_size, 768, 119\n",
        "        # a.shape = batch_size, 119\n",
        "        n = x.shape[2]\n",
        "        h_cap = torch.zeros(x.shape[0], x.shape[1], device = device)\n",
        "        # for k in range(x.shape[0]):\n",
        "        #     for i in range(n):\n",
        "        #         h_cap[k] = h_cap[k] + a[k][i]*torch.matmul(self.weights, x[k, :,i])\n",
        "        z = torch.matmul(self.weights, x)\n",
        "        for k in range(x.shape[0]):\n",
        "            h_cap[k] = torch.sum(a[k, :]*z[k, :, :], dim = 1)\n",
        "        return h_cap"
      ],
      "execution_count": 23,
      "outputs": []
    },
    {
      "cell_type": "markdown",
      "metadata": {
        "id": "0B-Z266v25jR"
      },
      "source": [
        "## Mask"
      ]
    },
    {
      "cell_type": "code",
      "metadata": {
        "id": "GvmgGBtPTt3W"
      },
      "source": [
        "# n_val = 463+49 #360 is the text input vector length, and 49 is the image vector length\n",
        "# sz = (BATCH_SIZE, n_val*n_val, 1)\n",
        "# mask = torch.zeros(sz, dtype=torch.bool, device = device)\n",
        "# for i in range(n_val):\n",
        "#     mask[:, i*n_val+i] = 1\n",
        "        \n",
        "# for i in range(463-1, n_val):\n",
        "#     for j in range(463-1, n_val):\n",
        "#         mask[:, i*n_val+j] = 1"
      ],
      "execution_count": 24,
      "outputs": []
    },
    {
      "cell_type": "markdown",
      "metadata": {
        "id": "rEHU_G8u2zQ0"
      },
      "source": [
        "## Bridge Model"
      ]
    },
    {
      "cell_type": "code",
      "metadata": {
        "id": "zv3UCSWbUNGO"
      },
      "source": [
        "class BridgeModel(torch.nn.Module):\n",
        "    # define model elements\n",
        "    def __init__(self):\n",
        "        super(BridgeModel, self).__init__()\n",
        "        # input to first hidden layer\n",
        "        self.activation = {}\n",
        "        self.res50 = res50.to(device)\n",
        "        self.res50.layer4[2].relu.register_forward_hook(get_activation('conv1', self.activation))\n",
        "        self.res50.avgpool.register_forward_hook(get_activation('conv2', self.activation))\n",
        "        self.bridge_seven_conv = torch.nn.Conv2d(in_channels=2048, out_channels=768, kernel_size=1, stride=1, padding = 0)\n",
        "        self.bridge_one_conv = torch.nn.Conv2d(in_channels=2048, out_channels=768, kernel_size=1, stride=1, padding = 0)\n",
        "        self.flatten = torch.nn.Flatten(start_dim = 2)\n",
        "        self.bert = bert.to(device)\n",
        "        self.mod_v = 463 #Overall text token length\n",
        "        self.linear_2d = torch.nn.Linear(768*2, 1)\n",
        "        self.soft_2d = torch.nn.Softmax(dim = 1)\n",
        "        self.final_2d = Final2d(768, 768) #2D intra attention layer\n",
        "        self.fc = torch.nn.Linear(768, 768)\n",
        "\n",
        "    # forward propagate input\n",
        "    def forward(self, X1, X2):\n",
        "        # input to first hidden layer/\n",
        "        res_out = self.res50(X1)  # torch.Size([batch_size, 1000])\n",
        "        seven_conv = self.activation['conv1'] # torch.Size([batch_size, 2048, 7, 7])\n",
        "        one_conv = self.activation['conv2'] # torch.Size([batch_size, 2048, 1, 1])\n",
        "        out3 = one_conv # torch.Size([batch_size, 2048, 1, 1])\n",
        "        out3 = out3[:, :, 0, 0].clone()\n",
        "        seven_conv = self.bridge_seven_conv(seven_conv)  # torch.Size([batch_size, 768, 7, 7])\n",
        "        one_conv = self.bridge_one_conv(one_conv)  # torch.Size([batch_size, 768, 1, 1])\n",
        "        seven_conv = self.flatten(seven_conv) # torch.Size([batch_size, 768, 49])\n",
        "        one_conv = self.flatten(one_conv) # torch.Size([batch_size, 768, 1])\n",
        "        bridge_cat_temp = torch.cat((one_conv, seven_conv), dim = 2) # torch.Size([1, 768, 50])\n",
        "        bridge_cat = bridge_cat_temp.permute(0, 2, 1) # torch.Size([1, 50, 768])\n",
        "        bert_embed = self.bert.embeddings(input_ids = X2) # torch.Size([1, 512, 768])\n",
        "        bert_embed = bert_embed[:,:self.mod_v,:]\n",
        "        prev = torch.cat((bert_embed, bridge_cat), dim = 1) #562\n",
        "        prev2 = prev[:, self.mod_v:, :]\n",
        "        \n",
        "        for i in range(12):\n",
        "            part1 = self.bert.encoder.layer[i](prev)[0] # torch.Size([1, 562, 768])\n",
        "            part2 = torch.matmul(part1[:, self.mod_v:, :], self.bert.encoder.layer[i].attention.self.value.weight)\n",
        "            part1 = part1[:, :self.mod_v, :] # torch.Size([1, 512, 768])\n",
        "            part1 = torch.cat((part1, part2), dim = 1)\n",
        "            prev = part1\n",
        "            prev2 = prev[:, self.mod_v:, :]\n",
        "\n",
        "        # Mean Pooling\n",
        "        # out1 = torch.mean(prev,dim=1) #[BATCH_SIZE,768]\n",
        "\n",
        "        # Taking CLS token only\n",
        "        out1 = prev[:,0,:]\n",
        "            \n",
        "        # out1 = prev[:, 0, :]\n",
        "        # prev = prev[:, 1:, :]\n",
        "        \n",
        "        # n = self.mod_v + 49 # length(n) = |v| + |g| \n",
        "        # hij = torch.zeros(prev.shape[0], n*n, 2*prev.shape[2], device = device) # batch_size, 119*119=14161, 768+768\n",
        "        # # for k in range(prev.shape[0]):\n",
        "        # #    for i in range(n):\n",
        "        # #        for j in range(n):\n",
        "        # #            hij[k][i*n+j] = torch.cat((prev[k][i], prev[k][j]), dim = 0)\n",
        "\n",
        "        # prev_repeat1 =  prev.repeat(1, n, 1) \n",
        "        # prev_repeat2 = torch.repeat_interleave(prev, repeats = n, dim = 1)\n",
        "        # hij = torch.cat((prev_repeat1, prev_repeat2), dim = 2)\n",
        "\n",
        "        # sij = self.linear_2d(hij) # batch_size, 14161, 1\n",
        "        \n",
        "        # # aij = self.soft_2d(sij) # batch_size, 14161, 1\n",
        "        \n",
        "        # sij[mask] = -1000\n",
        "\n",
        "        # aij_tmp = self.soft_2d(sij) # batch_size, 14161, 1\n",
        "\n",
        "        # aij = aij_tmp.reshape(aij_tmp.shape[0], n, n) # batch_size, n, n\n",
        "        \n",
        "        # ai_cap = torch.zeros(prev.shape[0], n, device = device) # batch_size, n\n",
        "        \n",
        "        # ai_cap = (torch.sum(aij, dim = 1) + torch.sum(aij, dim = 2))/2\n",
        "        \n",
        "        # #for k in range(prev.shape[0]):\n",
        "        #  #   for i in range(n):\n",
        "        #   #      for j in range(n):\n",
        "        #    #         ai_cap[k][i] = ai_cap[k][i] + aij[k][i*n+j][0]/2\n",
        "        #     #        ai_cap[k][i] = ai_cap[k][i] + aij[k][j*n+i][0]/2\n",
        "        \n",
        "        # new_hi = prev.permute(0, 2, 1)\n",
        "        # out2 = self.final_2d(new_hi, ai_cap) # torch.Size([batch_size, 768])\n",
        "        \n",
        "        # out = torch.cat((out1,out3), dim = 1) # torch.Size([batch_size, 2048+768+768])\n",
        "        \n",
        "        out = self.fc(out1) # torch.Size([batch_size, 1])\n",
        "        # yhat = self.sigm(out)\n",
        "        # yhat = yhat[:, 0]\n",
        "        # # print(\"Activation dict len : \" + str(len(self.activation)))\n",
        "        return out\n",
        "\n",
        "    def mask_creation(batch):\n",
        "        n_val = 463+49 #360 is the text input vector length, and 49 is the image vector length\n",
        "        sz = (batch, n_val*n_val, 1)\n",
        "        mask = torch.zeros(sz, dtype=torch.bool, device = device)\n",
        "        for i in range(n_val):\n",
        "            mask[:, i*n_val+i] = 1\n",
        "                \n",
        "        for i in range(463-1, n_val):\n",
        "            for j in range(463-1, n_val):\n",
        "                mask[:, i*n_val+j] = 1\n",
        "        return mask"
      ],
      "execution_count": 25,
      "outputs": []
    },
    {
      "cell_type": "code",
      "metadata": {
        "id": "Zo9KJIqd7IGb"
      },
      "source": [
        "model = BridgeModel().to(device)"
      ],
      "execution_count": 26,
      "outputs": []
    },
    {
      "cell_type": "markdown",
      "metadata": {
        "id": "J2Mw6eG5KqVn"
      },
      "source": [
        "# Losses"
      ]
    },
    {
      "cell_type": "markdown",
      "metadata": {
        "id": "hFtpg_GR4iNJ"
      },
      "source": [
        "## Multiple Negative Ranking loss"
      ]
    },
    {
      "cell_type": "code",
      "metadata": {
        "id": "xMIA3Ydod65P"
      },
      "source": [
        "class negrankloss():\n",
        "    def __init__(self,scale: float = 20.0):\n",
        "        # self.cosine_sim = nn.CosineSimilarity()\n",
        "        self.scale = scale\n",
        "        self.cross_entropy = nn.CrossEntropyLoss()\n",
        "\n",
        "    def cal_loss(self,emb1: torch.Tensor,emb2: torch.Tensor, labels: torch.Tensor):\n",
        "        scores  = pytorch_cos_sim(emb1,emb2) *self.scale\n",
        "        # print(f'The scores of cosine similarity for MNRloss is {scores}')\n",
        "        labels = torch.tensor(range(len(scores)), dtype=torch.long, device=scores.device)\n",
        "        loss = self.cross_entropy(scores, labels)\n",
        "        return loss"
      ],
      "execution_count": 27,
      "outputs": []
    },
    {
      "cell_type": "code",
      "metadata": {
        "id": "tMbsWT-DlN1G"
      },
      "source": [
        "MNRloss = negrankloss()"
      ],
      "execution_count": 28,
      "outputs": []
    },
    {
      "cell_type": "markdown",
      "metadata": {
        "id": "3O5iEjYD7H-s"
      },
      "source": [
        "## Online Constrantive Loss\n"
      ]
    },
    {
      "cell_type": "code",
      "metadata": {
        "id": "pv3V30gQ7LKy"
      },
      "source": [
        "class SiameseDistanceMetric(Enum):\n",
        "    \"\"\"\n",
        "    The metric for the contrastive loss\n",
        "    \"\"\"\n",
        "    EUCLIDEAN = lambda x, y: F.pairwise_distance(x, y, p=2)\n",
        "    MANHATTAN = lambda x, y: F.pairwise_distance(x, y, p=1)\n",
        "    COSINE_DISTANCE = lambda x, y: 1-F.cosine_similarity(x, y)\n"
      ],
      "execution_count": 29,
      "outputs": []
    },
    {
      "cell_type": "code",
      "metadata": {
        "id": "0zSArl7MQ4sO"
      },
      "source": [
        "class OnlineConstrantiveLoss():\n",
        "    def __init__(self,distance_metric=SiameseDistanceMetric.COSINE_DISTANCE,margin: float = 0.5):\n",
        "        self.distance_metric = distance_metric\n",
        "        self.margin = margin\n",
        "\n",
        "    def cal_loss(self,emb1,emb2,labels,size_average=False):\n",
        "        distance_matrix = self.distance_metric(emb1,emb2)\n",
        "        # print(f'distance matrix of OCloss is {distance_matrix}')\n",
        "        negs = distance_matrix[labels == 0]\n",
        "        poss = distance_matrix[labels == 1]\n",
        "        # print(f'positive and negatives are {poss} and {negs}')\n",
        "\n",
        "        # select hard positive and hard negative pairs\n",
        "        negative_pairs = negs[negs < (poss.max() if len(poss) > 1 else negs.mean())]\n",
        "        positive_pairs = poss[poss > (negs.min() if len(negs) > 1 else poss.mean())]\n",
        "\n",
        "        negative_pairs = negs\n",
        "        positive_pairs = poss\n",
        "\n",
        "        # print(f'positive and negative pairs are {positive_pairs} and {negative_pairs}')\n",
        "\n",
        "        positive_loss = positive_pairs.pow(2).sum()\n",
        "        negative_loss = F.relu(self.margin - negative_pairs).pow(2).sum()\n",
        "        # print(f'positive loss is {positive_loss} and negative loss is {negative_loss}')\n",
        "        loss = positive_loss + negative_loss\n",
        "        return loss\n",
        "    "
      ],
      "execution_count": 30,
      "outputs": []
    },
    {
      "cell_type": "code",
      "metadata": {
        "id": "cr5sO1wM8NIc"
      },
      "source": [
        "OCloss = OnlineConstrantiveLoss(margin = margin)"
      ],
      "execution_count": 31,
      "outputs": []
    },
    {
      "cell_type": "markdown",
      "metadata": {
        "id": "76ht5qjQMVsm"
      },
      "source": [
        "## Cross Entropy Loss"
      ]
    },
    {
      "cell_type": "code",
      "metadata": {
        "id": "iSxbp43HMVHn"
      },
      "source": [
        "class crossentropy():\n",
        "    def __init__(self):\n",
        "        self.cross_entropy = nn.BCELoss()\n",
        "        self.cos_sim =  nn.CosineSimilarity(dim=1,eps=1e-6)\n",
        "        self.sig = nn.Sigmoid()\n",
        "        self.BCE_with_sig = nn.BCEWithLogitsLoss()\n",
        "    \n",
        "    def cal_loss(self,emb1:torch.Tensor,emb2:torch.Tensor,label:torch.Tensor):\n",
        "        sim = (self.cos_sim(emb1,emb2))\n",
        "\n",
        "        if(use_sig == True):\n",
        "            loss = self.BCE_with_sig(sim,label)\n",
        "        else:\n",
        "            sim[sim<0] = 0\n",
        "            loss = self.cross_entropy(sim,label)\n",
        "        return loss"
      ],
      "execution_count": 32,
      "outputs": []
    },
    {
      "cell_type": "code",
      "metadata": {
        "id": "tfdnKk2HUW9X"
      },
      "source": [
        "BCEloss = crossentropy()"
      ],
      "execution_count": 33,
      "outputs": []
    },
    {
      "cell_type": "markdown",
      "metadata": {
        "id": "QowUWC1A4F6C"
      },
      "source": [
        "## Cosine Similarity Loss"
      ]
    },
    {
      "cell_type": "code",
      "metadata": {
        "id": "RAiSxopL4Fpz"
      },
      "source": [
        "class cos_sim():\n",
        "    def __init__(self):\n",
        "        self.cossim = nn.CosineEmbeddingLoss()\n",
        "\n",
        "    def cal_loss(self,emb1,emb2,target):\n",
        "        loss = self.cossim(emb1,emb2,target)\n",
        "        return loss"
      ],
      "execution_count": 34,
      "outputs": []
    },
    {
      "cell_type": "code",
      "metadata": {
        "id": "DfuqR7LB4MRm"
      },
      "source": [
        "Cosloss = cos_sim()"
      ],
      "execution_count": 35,
      "outputs": []
    },
    {
      "cell_type": "markdown",
      "metadata": {
        "id": "iaMPRBwZdBjN"
      },
      "source": [
        "# Evaluators: AUC(0.05) and Binary accuracy"
      ]
    },
    {
      "cell_type": "code",
      "metadata": {
        "id": "mAUnsRkLdQLC"
      },
      "source": [
        "import sklearn.metrics as skm"
      ],
      "execution_count": 36,
      "outputs": []
    },
    {
      "cell_type": "code",
      "metadata": {
        "id": "N2Z1Yk_TEPj9"
      },
      "source": [
        "class AUC():\n",
        "    def __init__(self,max_fpr:float = 0.05):\n",
        "        self.max_fpr = 0.05\n",
        "        self.cos_sim =  nn.CosineSimilarity(dim=1,eps=1e-6)\n",
        "        self.sig = nn.Sigmoid()\n",
        "\n",
        "    def cal(self,model:BridgeModel,loader:DataLoader):\n",
        "        y_pred = []\n",
        "        y_true = []\n",
        "        y_pred_sig = []\n",
        "        start = time.time()\n",
        "        model.eval()\n",
        "        for i,batch in enumerate(loader):\n",
        "            with torch.no_grad():\n",
        "                images = batch[\"image\"]\n",
        "                label = batch[\"label\"]\n",
        "                label = label.float()\n",
        "                token = batch[\"token\"]\n",
        "\n",
        "                images[0],images[1] = images[0].to(device),images[1].to(device)\n",
        "                token[0],token[1] = token[0].to(device), token[1].to(device)\n",
        "                label = label.to(device)\n",
        "            \n",
        "                # compute the model output\n",
        "                yhat1 = model(images[0], token[0])\n",
        "                yhat2 = model(images[1],token[1])\n",
        "\n",
        "                if(i%1000==0):\n",
        "                    print(f'    {i} iterations have been done in {time.time()-start} seconds')\n",
        "\n",
        "                sim = (self.cos_sim(yhat1,yhat2))\n",
        "                a=self.sig(sim)\n",
        "                a[a>0.5] = 1\n",
        "                a[a<0.5] = 0\n",
        "\n",
        "                y_pred_sig.append(a.cpu().numpy())\n",
        "                y_pred.append(sim.cpu().numpy())\n",
        "                y_true.append(label.cpu().numpy())\n",
        "\n",
        "                del  label, token,yhat1,yhat2,sim,a,images \n",
        "        \n",
        "        y_true = np.array(y_true).flatten()\n",
        "        y_pred = np.array(y_pred).flatten()\n",
        "        y_pred_sig = np.array(y_pred_sig).flatten()\n",
        "        Bin_score = skm.accuracy_score(y_true,y_pred_sig) \n",
        "        AUC_score = skm.roc_auc_score(y_true,y_pred,max_fpr = self.max_fpr)\n",
        "        conf_matrix = skm.confusion_matrix(y_true,y_pred_sig)\n",
        "        plt.hist(y_pred,bins='auto')\n",
        "        plt.show()\n",
        "        return AUC_score,Bin_score,conf_matrix"
      ],
      "execution_count": 37,
      "outputs": []
    },
    {
      "cell_type": "code",
      "metadata": {
        "id": "CXrynrKZLn2M"
      },
      "source": [
        "AUC_evaluator = AUC()"
      ],
      "execution_count": 38,
      "outputs": []
    },
    {
      "cell_type": "markdown",
      "metadata": {
        "id": "mwKqXD75KiPI"
      },
      "source": [
        "# Calculating loss and executing"
      ]
    },
    {
      "cell_type": "code",
      "metadata": {
        "id": "bKJz98PeGje6"
      },
      "source": [
        "save_dir = folder + '/model_state_dict'\n",
        "os.makedirs(save_dir,exist_ok = True)"
      ],
      "execution_count": 39,
      "outputs": []
    },
    {
      "cell_type": "code",
      "metadata": {
        "id": "c0yCE0MjkWKT"
      },
      "source": [
        "from torch.optim import Adam\n",
        "from torch.nn import BCELoss\n",
        "import time\n",
        "import copy\n",
        "from transformers import get_linear_schedule_with_warmup\n",
        "\n",
        "def train_model(train_loader, model,num_epochs):\n",
        "    model.train()\n",
        "\n",
        "    since = time.time()\n",
        "\n",
        "    optimizer = Adam(model.parameters(), lr=1e-4)\n",
        "    optimizer = Adam([{'params': model.res50.parameters(), 'lr': 4e-6},\n",
        "                      {'params': model.bert.parameters(), 'lr': 4e-6}\n",
        "                      ], lr=4e-4)\n",
        "    train_steps = num_epochs\n",
        "    \n",
        "    best_acc = 0.0\n",
        "\n",
        "    acc_steps = fin_BATCH_SIZE/BATCH_SIZE\n",
        "\n",
        "    scaler = torch.cuda.amp.GradScaler(enabled=use_amp)\n",
        "    cos_sim = nn.CosineSimilarity(dim=1,eps=1e-6)\n",
        "    sig = nn.Sigmoid()\n",
        "\n",
        "    #Clipping grads\n",
        "    torch.nn.utils.clip_grad_value_(model.parameters(),-1)\n",
        "\n",
        "    # model.eval()\n",
        "    # Evaluating on dev loader\n",
        "    # print('Running dev_evaluator for 2000 samples i.e. 1000 iterations. Time taken: 5 min')\n",
        "    # a,b,c = AUC_evaluator.cal(model,dev_loader)\n",
        "    # print(f'AUC score is {a}  while binary score is {b} and the confusion matrix is {c} on dev loader before training')\n",
        "\n",
        "    # enumerate epochs\n",
        "    for epoch in range(num_epochs):\n",
        "        model.train()\n",
        "        print('Epoch {}/{}'.format(epoch, num_epochs - 1))\n",
        "        print('-' * 10)\n",
        "        \n",
        "        running_OCloss = 0.0\n",
        "        running_MNRloss = 0.0\n",
        "        running_BCEloss = 0.0\n",
        "        running_Cosloss = 0.0\n",
        "\n",
        "        model.zero_grad()\n",
        "        optimizer.zero_grad()\n",
        "\n",
        "        y_pred = []\n",
        "        y_true = []\n",
        "        y_pred_sig = []\n",
        "\n",
        "        for i, batch in enumerate(train_loader):\n",
        "            model.train()\n",
        "\n",
        "            with torch.cuda.amp.autocast(enabled=use_amp):\n",
        "                \n",
        "                if(i%50000 == 0 and i!=0):\n",
        "                    model.eval()\n",
        "                    print('Running dev_evaluator for 2000 samples i.e. 1000 iterations. Time taken: 5 min')\n",
        "                    a,b,c = AUC_evaluator.cal(model,dev_loader)\n",
        "                    print(f'AUC score is {a}  while binary score is {b} and the confusion matrix is {c} on dev loader')\n",
        "                    torch.save(model.state_dict(), save_dir+'/multimodal_cos.bin')\n",
        "                    print(f'Model is saved after {i} iterations ')\n",
        "                    model.train()\n",
        "        \n",
        "                images = batch[\"image\"]\n",
        "                label = batch[\"label\"]\n",
        "                label = label.float()\n",
        "                token = batch[\"token\"]\n",
        "                label_cos = batch['label_cos']\n",
        "                \n",
        "                images[0],images[1] = images[0].to(device),images[1].to(device)\n",
        "                token[0],token[1] = token[0].to(device), token[1].to(device)\n",
        "                label = label.to(device)\n",
        "                label_cos = label_cos.to(device)\n",
        "                \n",
        "                yhat1= model(images[0],token[0])\n",
        "                yhat2 = model(images[1],token[1])\n",
        "\n",
        "                sim = (cos_sim(yhat1,yhat2))\n",
        "                a=sig(sim)\n",
        "                a[a>=0.5] = 1\n",
        "                a[a<0.5] = 0\n",
        "\n",
        "                y_pred_sig.append(a.detach().cpu().numpy())\n",
        "                y_pred.append(sim.detach().cpu().numpy())\n",
        "                y_true.append(label.detach().cpu().numpy())\n",
        "\n",
        "                # yhat1_pos = model(pos_token[0])\n",
        "                # yhat2_pos = model(pos_token[1])\n",
        "                \n",
        "                BCEloss_val = BCEloss.cal_loss(yhat1,yhat2,label)\n",
        "                running_BCEloss += BCEloss_val.item()*BATCH_SIZE\n",
        "                BCEloss_val = BCEloss_val/acc_steps\n",
        "\n",
        "                # MNRloss_val = MNRloss.cal_loss(yhat1_pos,yhat2_pos)\n",
        "                # running_MNRloss += MNRloss_val.item()*BATCH_SIZE\n",
        "                # MNRloss_val = MNRloss_val/acc_steps\n",
        "\n",
        "                OCloss_val = OCloss.cal_loss(yhat1,yhat2,label)\n",
        "                running_OCloss +=  OCloss_val.item()*BATCH_SIZE\n",
        "                OCloss_val = OCloss_val/acc_steps\n",
        "\n",
        "                Cosloss_val = Cosloss.cal_loss(yhat1,yhat2,label_cos)\n",
        "                running_Cosloss += Cosloss_val.item()*BATCH_SIZE\n",
        "                Cosloss_val = Cosloss_val/acc_steps\n",
        "            \n",
        "            scaler.scale(Cosloss_val).backward(retain_graph = True)\n",
        "            scaler.scale(BCEloss_val).backward(retain_graph = True)\n",
        "            # scaler.scale(MNRloss_val).backward(retain_graph=True)\n",
        "            scaler.scale(OCloss_val).backward()\n",
        "\n",
        "            if((i+1)%acc_steps==0):\n",
        "                scaler.step(optimizer)\n",
        "                scaler.update()\n",
        "                model.zero_grad()\n",
        "            \n",
        "            if(i%10000 == 0 ):\n",
        "                print('OCloss is {} and BCEloss is {} and MNRloss is {} and Cosloss is {}  and time taken is {} after {} iterations'.format(\n",
        "                    running_OCloss/((i+1)*BATCH_SIZE),\n",
        "                    running_BCEloss/((i+1)*BATCH_SIZE),\n",
        "                    running_MNRloss/((i+1)*BATCH_SIZE),\n",
        "                    running_Cosloss/((i+1)*BATCH_SIZE),\n",
        "                    time.time()-since,\n",
        "                    i))\n",
        "            \n",
        "            del  yhat1,yhat2, label, token, images,Cosloss_val,label_cos,BCEloss_val,OCloss_val\n",
        "\n",
        "        epoch_OC = running_OCloss / len(train_dataset)\n",
        "        epoch_BCE = running_BCEloss / len(train_dataset)\n",
        "        epoch_MNR = running_MNRloss / len(train_dataset)\n",
        "        epoch_Cos = running_Cosloss/len(train_dataset)\n",
        "        print(f'{epoch+1} Epoch completed. OCloss is {epoch_OC} and BCEloss is {epoch_BCE} and MNRloss is {epoch_MNR} and Cosloss is {epoch_Cos}')\n",
        "        y_true = np.array(y_true).flatten()\n",
        "        y_pred = np.array(y_pred).flatten()\n",
        "        y_pred_sig = np.array(y_pred_sig).flatten()\n",
        "        Bin_score = skm.accuracy_score(y_true,y_pred_sig) \n",
        "        AUC_score = skm.roc_auc_score(y_true,y_pred,max_fpr = 0.05)\n",
        "        conf_matrix = skm.confusion_matrix(y_true,y_pred_sig)\n",
        "        plt.hist(y_pred,bins='auto')\n",
        "        plt.show()\n",
        "        print(f'AUC and Bin_acc after training {epoch+1} on train dataloader is {AUC_score,Bin_score} and confusion matrix is {conf_matrix}')\n",
        "        a,b,c = AUC_evaluator.cal(model,dev_loader)\n",
        "        print(f'AUC and Bin_acc after training {epoch+1} on dev dataloader is {a,b} and the confusion matris is {c}')\n",
        "        torch.save(model.state_dict(), save_dir+'/multimodal_cos.bin')\n",
        "        print(f'Model is saved after {epoch+1} epochs ')\n",
        "        "
      ],
      "execution_count": 40,
      "outputs": []
    },
    {
      "cell_type": "markdown",
      "metadata": {
        "id": "zXsl7QFAQ1UR"
      },
      "source": [
        "# Training the model"
      ]
    },
    {
      "cell_type": "code",
      "metadata": {
        "id": "LUJqW9Xu5FnX"
      },
      "source": [
        "model.load_state_dict(torch.load(save_dir+'/multimodal_cos_1.bin'))"
      ],
      "execution_count": 41,
      "outputs": [
        {
          "output_type": "execute_result",
          "data": {
            "text/plain": [
              "<All keys matched successfully>"
            ]
          },
          "metadata": {},
          "execution_count": 41
        }
      ]
    },
    {
      "cell_type": "code",
      "metadata": {
        "colab": {
          "base_uri": "https://localhost:8080/",
          "height": 1000
        },
        "id": "GaOYt_HqWcSO",
        "outputId": "214fa072-b710-4e44-bac5-dfb9ddb10abe"
      },
      "source": [
        "#Overall parameters in model\n",
        "print(sum(p.numel() for p in model.parameters() if p.requires_grad))\n",
        "train_model(train_loader,model,1)"
      ],
      "execution_count": 42,
      "outputs": [
        {
          "output_type": "stream",
          "name": "stdout",
          "text": [
            "107008041\n",
            "Epoch 0/0\n",
            "----------\n",
            "OCloss is 0.006960487924516201 and BCEloss is 0.509874701499939 and MNRloss is 0.0 and Cosloss is 0.02865147590637207  and time taken is 1.4379551410675049 after 0 iterations\n",
            "cannot identify image file '/home/ckm/visualqatickets/superuser/Data/images/1141373_2.png'\n",
            "/home/ckm/anaconda3/envs/visualqa/lib/python3.8/site-packages/PIL/Image.py:962: UserWarning: Palette images with Transparency expressed in bytes should be converted to RGBA images\n",
            "  warnings.warn(\n",
            "cannot identify image file '/home/ckm/visualqatickets/superuser/Data/images/1141373_2.png'\n",
            "/home/ckm/anaconda3/envs/visualqa/lib/python3.8/site-packages/PIL/Image.py:962: UserWarning: Palette images with Transparency expressed in bytes should be converted to RGBA images\n",
            "  warnings.warn(\n",
            "cannot identify image file '/home/ckm/visualqatickets/superuser/Data/images/1141373_2.png'\n",
            "cannot identify image file '/home/ckm/visualqatickets/superuser/Data/images/1141373_2.png'\n",
            "/home/ckm/anaconda3/envs/visualqa/lib/python3.8/site-packages/PIL/Image.py:962: UserWarning: Palette images with Transparency expressed in bytes should be converted to RGBA images\n",
            "  warnings.warn(\n",
            "cannot identify image file '/home/ckm/visualqatickets/superuser/Data/images/1141373_2.png'\n",
            "cannot identify image file '/home/ckm/visualqatickets/superuser/Data/images/1141373_2.png'\n",
            "/home/ckm/anaconda3/envs/visualqa/lib/python3.8/site-packages/PIL/Image.py:962: UserWarning: Palette images with Transparency expressed in bytes should be converted to RGBA images\n",
            "  warnings.warn(\n",
            "cannot identify image file '/home/ckm/visualqatickets/superuser/Data/images/1141373_2.png'\n",
            "cannot identify image file '/home/ckm/visualqatickets/superuser/Data/images/1141373_2.png'\n",
            "cannot identify image file '/home/ckm/visualqatickets/superuser/Data/images/1141373_2.png'\n",
            "/home/ckm/anaconda3/envs/visualqa/lib/python3.8/site-packages/PIL/Image.py:962: UserWarning: Palette images with Transparency expressed in bytes should be converted to RGBA images\n",
            "  warnings.warn(\n",
            "image file is truncated\n",
            "Something went wrong with the image of id 154842.0\n",
            "/home/ckm/anaconda3/envs/visualqa/lib/python3.8/site-packages/PIL/Image.py:962: UserWarning: Palette images with Transparency expressed in bytes should be converted to RGBA images\n",
            "  warnings.warn(\n",
            "cannot identify image file '/home/ckm/visualqatickets/superuser/Data/images/1141373_2.png'\n",
            "cannot identify image file '/home/ckm/visualqatickets/superuser/Data/images/1141373_2.png'\n",
            "cannot identify image file '/home/ckm/visualqatickets/superuser/Data/images/1141373_2.png'\n",
            "OCloss is 0.3303641456034701 and BCEloss is 0.5402235528425317 and MNRloss is 0.0 and Cosloss is 0.14423069224082274  and time taken is 15202.495923280716 after 10000 iterations\n",
            "cannot identify image file '/home/ckm/visualqatickets/superuser/Data/images/1141373_2.png'\n",
            "cannot identify image file '/home/ckm/visualqatickets/superuser/Data/images/1141373_2.png'\n",
            "image file is truncated\n",
            "Something went wrong with the image of id 247087.0\n",
            "cannot identify image file '/home/ckm/visualqatickets/superuser/Data/images/1141373_2.png'\n",
            "cannot identify image file '/home/ckm/visualqatickets/superuser/Data/images/1141373_2.png'\n",
            "image file is truncated\n",
            "Something went wrong with the image of id 154842.0\n",
            "image file is truncated\n",
            "Something went wrong with the image of id 247087\n",
            "image file is truncated\n",
            "Something went wrong with the image of id 247087.0\n",
            "/home/ckm/anaconda3/envs/visualqa/lib/python3.8/site-packages/PIL/Image.py:962: UserWarning: Palette images with Transparency expressed in bytes should be converted to RGBA images\n",
            "  warnings.warn(\n",
            "cannot identify image file '/home/ckm/visualqatickets/superuser/Data/images/1141373_2.png'\n",
            "cannot identify image file '/home/ckm/visualqatickets/superuser/Data/images/1141373_2.png'\n",
            "cannot identify image file '/home/ckm/visualqatickets/superuser/Data/images/1141373_2.png'\n",
            "image file is truncated\n",
            "Something went wrong with the image of id 247087\n",
            "cannot identify image file '/home/ckm/visualqatickets/superuser/Data/images/1141373_2.png'\n",
            "cannot identify image file '/home/ckm/visualqatickets/superuser/Data/images/1141373_2.png'\n",
            "OCloss is 0.3298837553660975 and BCEloss is 0.5405646865814664 and MNRloss is 0.0 and Cosloss is 0.14404413370365  and time taken is 29991.367524385452 after 20000 iterations\n",
            "cannot identify image file '/home/ckm/visualqatickets/superuser/Data/images/1141373_2.png'\n",
            "image file is truncated\n",
            "Something went wrong with the image of id 154842.0\n",
            "cannot identify image file '/home/ckm/visualqatickets/superuser/Data/images/1141373_2.png'\n",
            "cannot identify image file '/home/ckm/visualqatickets/superuser/Data/images/1141373_2.png'\n",
            "cannot identify image file '/home/ckm/visualqatickets/superuser/Data/images/1141373_2.png'\n",
            "cannot identify image file '/home/ckm/visualqatickets/superuser/Data/images/1141373_2.png'\n",
            "cannot identify image file '/home/ckm/visualqatickets/superuser/Data/images/1141373_2.png'\n",
            "cannot identify image file '/home/ckm/visualqatickets/superuser/Data/images/1141373_2.png'\n",
            "image file is truncated\n",
            "Something went wrong with the image of id 154842.0\n",
            "cannot identify image file '/home/ckm/visualqatickets/superuser/Data/images/1141373_2.png'\n",
            "/home/ckm/anaconda3/envs/visualqa/lib/python3.8/site-packages/PIL/Image.py:962: UserWarning: Palette images with Transparency expressed in bytes should be converted to RGBA images\n",
            "  warnings.warn(\n",
            "image file is truncated\n",
            "Something went wrong with the image of id 247087.0\n",
            "cannot identify image file '/home/ckm/visualqatickets/superuser/Data/images/1141373_2.png'\n",
            "image file is truncated\n",
            "Something went wrong with the image of id 247087.0\n",
            "cannot identify image file '/home/ckm/visualqatickets/superuser/Data/images/1141373_2.png'\n",
            "image file is truncated\n",
            "Something went wrong with the image of id 154842.0\n",
            "image file is truncated\n",
            "Something went wrong with the image of id 247087.0\n",
            "OCloss is 0.3274793563805537 and BCEloss is 0.5396398984310266 and MNRloss is 0.0 and Cosloss is 0.143294181409099  and time taken is 45452.678451538086 after 30000 iterations\n",
            "cannot identify image file '/home/ckm/visualqatickets/superuser/Data/images/1141373_2.png'\n",
            "cannot identify image file '/home/ckm/visualqatickets/superuser/Data/images/1141373_2.png'\n",
            "cannot identify image file '/home/ckm/visualqatickets/superuser/Data/images/1141373_2.png'\n",
            "cannot identify image file '/home/ckm/visualqatickets/superuser/Data/images/1141373_2.png'\n",
            "cannot identify image file '/home/ckm/visualqatickets/superuser/Data/images/1141373_2.png'\n",
            "cannot identify image file '/home/ckm/visualqatickets/superuser/Data/images/1141373_2.png'\n",
            "cannot identify image file '/home/ckm/visualqatickets/superuser/Data/images/1141373_2.png'\n",
            "cannot identify image file '/home/ckm/visualqatickets/superuser/Data/images/1141373_2.png'\n",
            "cannot identify image file '/home/ckm/visualqatickets/superuser/Data/images/1141373_2.png'\n",
            "cannot identify image file '/home/ckm/visualqatickets/superuser/Data/images/1141373_2.png'\n",
            "cannot identify image file '/home/ckm/visualqatickets/superuser/Data/images/1141373_2.png'\n",
            "cannot identify image file '/home/ckm/visualqatickets/superuser/Data/images/1141373_2.png'\n",
            "image file is truncated\n",
            "Something went wrong with the image of id 154842.0\n",
            "image file is truncated\n",
            "Something went wrong with the image of id 154842.0\n",
            "image file is truncated\n",
            "Something went wrong with the image of id 154842.0\n",
            "image file is truncated\n",
            "Something went wrong with the image of id 247087.0\n",
            "OCloss is 0.3251920284363146 and BCEloss is 0.5392149755215425 and MNRloss is 0.0 and Cosloss is 0.14253584486214566  and time taken is 61202.06360769272 after 40000 iterations\n",
            "cannot identify image file '/home/ckm/visualqatickets/superuser/Data/images/1141373_2.png'\n",
            "cannot identify image file '/home/ckm/visualqatickets/superuser/Data/images/1141373_2.png'\n",
            "cannot identify image file '/home/ckm/visualqatickets/superuser/Data/images/1141373_2.png'\n",
            "cannot identify image file '/home/ckm/visualqatickets/superuser/Data/images/1141373_2.png'\n",
            "cannot identify image file '/home/ckm/visualqatickets/superuser/Data/images/1141373_2.png'\n",
            "cannot identify image file '/home/ckm/visualqatickets/superuser/Data/images/1141373_2.png'\n",
            "image file is truncated\n",
            "Something went wrong with the image of id 247087.0\n",
            "cannot identify image file '/home/ckm/visualqatickets/superuser/Data/images/1141373_2.png'\n",
            "cannot identify image file '/home/ckm/visualqatickets/superuser/Data/images/1141373_2.png'\n",
            "Running dev_evaluator for 2000 samples i.e. 1000 iterations. Time taken: 5 min\n",
            "    0 iterations have been done in 0.8082149028778076 seconds\n",
            "/home/ckm/anaconda3/envs/visualqa/lib/python3.8/site-packages/PIL/Image.py:962: UserWarning: Palette images with Transparency expressed in bytes should be converted to RGBA images\n",
            "  warnings.warn(\n",
            "/home/ckm/anaconda3/envs/visualqa/lib/python3.8/site-packages/PIL/Image.py:962: UserWarning: Palette images with Transparency expressed in bytes should be converted to RGBA images\n",
            "  warnings.warn(\n",
            "/home/ckm/anaconda3/envs/visualqa/lib/python3.8/site-packages/PIL/Image.py:962: UserWarning: Palette images with Transparency expressed in bytes should be converted to RGBA images\n",
            "  warnings.warn(\n",
            "/home/ckm/anaconda3/envs/visualqa/lib/python3.8/site-packages/PIL/Image.py:962: UserWarning: Palette images with Transparency expressed in bytes should be converted to RGBA images\n",
            "  warnings.warn(\n",
            "cannot identify image file '/home/ckm/visualqatickets/superuser/Data/images/1141373_2.png'\n",
            "/home/ckm/anaconda3/envs/visualqa/lib/python3.8/site-packages/PIL/Image.py:962: UserWarning: Palette images with Transparency expressed in bytes should be converted to RGBA images\n",
            "  warnings.warn(\n",
            "    1000 iterations have been done in 263.3124394416809 seconds\n",
            "/home/ckm/anaconda3/envs/visualqa/lib/python3.8/site-packages/PIL/Image.py:962: UserWarning: Palette images with Transparency expressed in bytes should be converted to RGBA images\n",
            "  warnings.warn(\n",
            "image file is truncated\n",
            "Something went wrong with the image of id 154842.0\n",
            "/home/ckm/anaconda3/envs/visualqa/lib/python3.8/site-packages/PIL/Image.py:962: UserWarning: Palette images with Transparency expressed in bytes should be converted to RGBA images\n",
            "  warnings.warn(\n",
            "cannot identify image file '/home/ckm/visualqatickets/superuser/Data/images/1141373_2.png'\n",
            "    2000 iterations have been done in 526.6169543266296 seconds\n",
            "image file is truncated\n",
            "Something went wrong with the image of id 154842.0\n"
          ]
        },
        {
          "output_type": "display_data",
          "data": {
            "text/plain": "<Figure size 432x288 with 1 Axes>",
            "image/svg+xml": "<?xml version=\"1.0\" encoding=\"utf-8\" standalone=\"no\"?>\n<!DOCTYPE svg PUBLIC \"-//W3C//DTD SVG 1.1//EN\"\n  \"http://www.w3.org/Graphics/SVG/1.1/DTD/svg11.dtd\">\n<svg height=\"248.518125pt\" version=\"1.1\" viewBox=\"0 0 381.65 248.518125\" width=\"381.65pt\" xmlns=\"http://www.w3.org/2000/svg\" xmlns:xlink=\"http://www.w3.org/1999/xlink\">\n <metadata>\n  <rdf:RDF xmlns:cc=\"http://creativecommons.org/ns#\" xmlns:dc=\"http://purl.org/dc/elements/1.1/\" xmlns:rdf=\"http://www.w3.org/1999/02/22-rdf-syntax-ns#\">\n   <cc:Work>\n    <dc:type rdf:resource=\"http://purl.org/dc/dcmitype/StillImage\"/>\n    <dc:date>2021-05-13T23:03:18.748776</dc:date>\n    <dc:format>image/svg+xml</dc:format>\n    <dc:creator>\n     <cc:Agent>\n      <dc:title>Matplotlib v3.4.1, https://matplotlib.org/</dc:title>\n     </cc:Agent>\n    </dc:creator>\n   </cc:Work>\n  </rdf:RDF>\n </metadata>\n <defs>\n  <style type=\"text/css\">*{stroke-linecap:butt;stroke-linejoin:round;}</style>\n </defs>\n <g id=\"figure_1\">\n  <g id=\"patch_1\">\n   <path d=\"M -0 248.518125 \nL 381.65 248.518125 \nL 381.65 0 \nL -0 0 \nz\n\" style=\"fill:none;\"/>\n  </g>\n  <g id=\"axes_1\">\n   <g id=\"patch_2\">\n    <path d=\"M 39.65 224.64 \nL 374.45 224.64 \nL 374.45 7.2 \nL 39.65 7.2 \nz\n\" style=\"fill:#ffffff;\"/>\n   </g>\n   <g id=\"patch_3\">\n    <path clip-path=\"url(#p8fd5d3a152)\" d=\"M 54.868182 224.64 \nL 67.042725 224.64 \nL 67.042725 223.881074 \nL 54.868182 223.881074 \nz\n\" style=\"fill:#1f77b4;\"/>\n   </g>\n   <g id=\"patch_4\">\n    <path clip-path=\"url(#p8fd5d3a152)\" d=\"M 67.042725 224.64 \nL 79.217275 224.64 \nL 79.217275 222.666791 \nL 67.042725 222.666791 \nz\n\" style=\"fill:#1f77b4;\"/>\n   </g>\n   <g id=\"patch_5\">\n    <path clip-path=\"url(#p8fd5d3a152)\" d=\"M 79.217275 224.64 \nL 91.391818 224.64 \nL 91.391818 218.062638 \nL 79.217275 218.062638 \nz\n\" style=\"fill:#1f77b4;\"/>\n   </g>\n   <g id=\"patch_6\">\n    <path clip-path=\"url(#p8fd5d3a152)\" d=\"M 91.391818 224.64 \nL 103.566362 224.64 \nL 103.566362 210.321589 \nL 91.391818 210.321589 \nz\n\" style=\"fill:#1f77b4;\"/>\n   </g>\n   <g id=\"patch_7\">\n    <path clip-path=\"url(#p8fd5d3a152)\" d=\"M 103.566368 224.64 \nL 115.740917 224.64 \nL 115.740917 193.928779 \nL 103.566368 193.928779 \nz\n\" style=\"fill:#1f77b4;\"/>\n   </g>\n   <g id=\"patch_8\">\n    <path clip-path=\"url(#p8fd5d3a152)\" d=\"M 115.740911 224.64 \nL 127.915455 224.64 \nL 127.915455 179.205607 \nL 115.740911 179.205607 \nz\n\" style=\"fill:#1f77b4;\"/>\n   </g>\n   <g id=\"patch_9\">\n    <path clip-path=\"url(#p8fd5d3a152)\" d=\"M 127.915455 224.64 \nL 140.089999 224.64 \nL 140.089999 171.110392 \nL 127.915455 171.110392 \nz\n\" style=\"fill:#1f77b4;\"/>\n   </g>\n   <g id=\"patch_10\">\n    <path clip-path=\"url(#p8fd5d3a152)\" d=\"M 140.089999 224.64 \nL 152.264542 224.64 \nL 152.264542 165.494337 \nL 140.089999 165.494337 \nz\n\" style=\"fill:#1f77b4;\"/>\n   </g>\n   <g id=\"patch_11\">\n    <path clip-path=\"url(#p8fd5d3a152)\" d=\"M 152.264547 224.64 \nL 164.43909 224.64 \nL 164.43909 162.357441 \nL 152.264547 162.357441 \nz\n\" style=\"fill:#1f77b4;\"/>\n   </g>\n   <g id=\"patch_12\">\n    <path clip-path=\"url(#p8fd5d3a152)\" d=\"M 164.439092 224.64 \nL 176.613636 224.64 \nL 176.613636 166.202668 \nL 164.439092 166.202668 \nz\n\" style=\"fill:#1f77b4;\"/>\n   </g>\n   <g id=\"patch_13\">\n    <path clip-path=\"url(#p8fd5d3a152)\" d=\"M 176.613638 224.64 \nL 188.788182 224.64 \nL 188.788182 173.640147 \nL 176.613638 173.640147 \nz\n\" style=\"fill:#1f77b4;\"/>\n   </g>\n   <g id=\"patch_14\">\n    <path clip-path=\"url(#p8fd5d3a152)\" d=\"M 188.788185 224.64 \nL 200.962728 224.64 \nL 200.962728 184.872257 \nL 188.788185 184.872257 \nz\n\" style=\"fill:#1f77b4;\"/>\n   </g>\n   <g id=\"patch_15\">\n    <path clip-path=\"url(#p8fd5d3a152)\" d=\"M 200.962728 224.64 \nL 213.137272 224.64 \nL 213.137272 185.985349 \nL 200.962728 185.985349 \nz\n\" style=\"fill:#1f77b4;\"/>\n   </g>\n   <g id=\"patch_16\">\n    <path clip-path=\"url(#p8fd5d3a152)\" d=\"M 213.137272 224.64 \nL 225.311815 224.64 \nL 225.311815 197.52103 \nL 213.137272 197.52103 \nz\n\" style=\"fill:#1f77b4;\"/>\n   </g>\n   <g id=\"patch_17\">\n    <path clip-path=\"url(#p8fd5d3a152)\" d=\"M 225.311815 224.64 \nL 237.486365 224.64 \nL 237.486365 199.291859 \nL 225.311815 199.291859 \nz\n\" style=\"fill:#1f77b4;\"/>\n   </g>\n   <g id=\"patch_18\">\n    <path clip-path=\"url(#p8fd5d3a152)\" d=\"M 237.486365 224.64 \nL 249.660908 224.64 \nL 249.660908 206.678742 \nL 237.486365 206.678742 \nz\n\" style=\"fill:#1f77b4;\"/>\n   </g>\n   <g id=\"patch_19\">\n    <path clip-path=\"url(#p8fd5d3a152)\" d=\"M 249.660908 224.64 \nL 261.835452 224.64 \nL 261.835452 205.869221 \nL 249.660908 205.869221 \nz\n\" style=\"fill:#1f77b4;\"/>\n   </g>\n   <g id=\"patch_20\">\n    <path clip-path=\"url(#p8fd5d3a152)\" d=\"M 261.835458 224.64 \nL 274.010013 224.64 \nL 274.010013 205.26208 \nL 261.835458 205.26208 \nz\n\" style=\"fill:#1f77b4;\"/>\n   </g>\n   <g id=\"patch_21\">\n    <path clip-path=\"url(#p8fd5d3a152)\" d=\"M 274.010001 224.64 \nL 286.184545 224.64 \nL 286.184545 204.098392 \nL 274.010001 204.098392 \nz\n\" style=\"fill:#1f77b4;\"/>\n   </g>\n   <g id=\"patch_22\">\n    <path clip-path=\"url(#p8fd5d3a152)\" d=\"M 286.184545 224.64 \nL 298.359089 224.64 \nL 298.359089 198.077576 \nL 286.184545 198.077576 \nz\n\" style=\"fill:#1f77b4;\"/>\n   </g>\n   <g id=\"patch_23\">\n    <path clip-path=\"url(#p8fd5d3a152)\" d=\"M 298.359089 224.64 \nL 310.533632 224.64 \nL 310.533632 189.27403 \nL 298.359089 189.27403 \nz\n\" style=\"fill:#1f77b4;\"/>\n   </g>\n   <g id=\"patch_24\">\n    <path clip-path=\"url(#p8fd5d3a152)\" d=\"M 310.533644 224.64 \nL 322.708199 224.64 \nL 322.708199 176.018116 \nL 310.533644 176.018116 \nz\n\" style=\"fill:#1f77b4;\"/>\n   </g>\n   <g id=\"patch_25\">\n    <path clip-path=\"url(#p8fd5d3a152)\" d=\"M 322.708187 224.64 \nL 334.882731 224.64 \nL 334.882731 148.14022 \nL 322.708187 148.14022 \nz\n\" style=\"fill:#1f77b4;\"/>\n   </g>\n   <g id=\"patch_26\">\n    <path clip-path=\"url(#p8fd5d3a152)\" d=\"M 334.882731 224.64 \nL 347.057275 224.64 \nL 347.057275 84.036237 \nL 334.882731 84.036237 \nz\n\" style=\"fill:#1f77b4;\"/>\n   </g>\n   <g id=\"patch_27\">\n    <path clip-path=\"url(#p8fd5d3a152)\" d=\"M 347.057275 224.64 \nL 359.231818 224.64 \nL 359.231818 17.554286 \nL 347.057275 17.554286 \nz\n\" style=\"fill:#1f77b4;\"/>\n   </g>\n   <g id=\"matplotlib.axis_1\">\n    <g id=\"xtick_1\">\n     <g id=\"line2d_1\">\n      <defs>\n       <path d=\"M 0 0 \nL 0 3.5 \n\" id=\"m4962f3ac5d\" style=\"stroke:#000000;stroke-width:0.8;\"/>\n      </defs>\n      <g>\n       <use style=\"stroke:#000000;stroke-width:0.8;\" x=\"50.750394\" xlink:href=\"#m4962f3ac5d\" y=\"224.64\"/>\n      </g>\n     </g>\n     <g id=\"text_1\">\n      <!-- −0.6 -->\n      <g transform=\"translate(38.608988 239.238437)scale(0.1 -0.1)\">\n       <defs>\n        <path d=\"M 678 2272 \nL 4684 2272 \nL 4684 1741 \nL 678 1741 \nL 678 2272 \nz\n\" id=\"DejaVuSans-2212\" transform=\"scale(0.015625)\"/>\n        <path d=\"M 2034 4250 \nQ 1547 4250 1301 3770 \nQ 1056 3291 1056 2328 \nQ 1056 1369 1301 889 \nQ 1547 409 2034 409 \nQ 2525 409 2770 889 \nQ 3016 1369 3016 2328 \nQ 3016 3291 2770 3770 \nQ 2525 4250 2034 4250 \nz\nM 2034 4750 \nQ 2819 4750 3233 4129 \nQ 3647 3509 3647 2328 \nQ 3647 1150 3233 529 \nQ 2819 -91 2034 -91 \nQ 1250 -91 836 529 \nQ 422 1150 422 2328 \nQ 422 3509 836 4129 \nQ 1250 4750 2034 4750 \nz\n\" id=\"DejaVuSans-30\" transform=\"scale(0.015625)\"/>\n        <path d=\"M 684 794 \nL 1344 794 \nL 1344 0 \nL 684 0 \nL 684 794 \nz\n\" id=\"DejaVuSans-2e\" transform=\"scale(0.015625)\"/>\n        <path d=\"M 2113 2584 \nQ 1688 2584 1439 2293 \nQ 1191 2003 1191 1497 \nQ 1191 994 1439 701 \nQ 1688 409 2113 409 \nQ 2538 409 2786 701 \nQ 3034 994 3034 1497 \nQ 3034 2003 2786 2293 \nQ 2538 2584 2113 2584 \nz\nM 3366 4563 \nL 3366 3988 \nQ 3128 4100 2886 4159 \nQ 2644 4219 2406 4219 \nQ 1781 4219 1451 3797 \nQ 1122 3375 1075 2522 \nQ 1259 2794 1537 2939 \nQ 1816 3084 2150 3084 \nQ 2853 3084 3261 2657 \nQ 3669 2231 3669 1497 \nQ 3669 778 3244 343 \nQ 2819 -91 2113 -91 \nQ 1303 -91 875 529 \nQ 447 1150 447 2328 \nQ 447 3434 972 4092 \nQ 1497 4750 2381 4750 \nQ 2619 4750 2861 4703 \nQ 3103 4656 3366 4563 \nz\n\" id=\"DejaVuSans-36\" transform=\"scale(0.015625)\"/>\n       </defs>\n       <use xlink:href=\"#DejaVuSans-2212\"/>\n       <use x=\"83.789062\" xlink:href=\"#DejaVuSans-30\"/>\n       <use x=\"147.412109\" xlink:href=\"#DejaVuSans-2e\"/>\n       <use x=\"179.199219\" xlink:href=\"#DejaVuSans-36\"/>\n      </g>\n     </g>\n    </g>\n    <g id=\"xtick_2\">\n     <g id=\"line2d_2\">\n      <g>\n       <use style=\"stroke:#000000;stroke-width:0.8;\" x=\"89.314822\" xlink:href=\"#m4962f3ac5d\" y=\"224.64\"/>\n      </g>\n     </g>\n     <g id=\"text_2\">\n      <!-- −0.4 -->\n      <g transform=\"translate(77.173416 239.238437)scale(0.1 -0.1)\">\n       <defs>\n        <path d=\"M 2419 4116 \nL 825 1625 \nL 2419 1625 \nL 2419 4116 \nz\nM 2253 4666 \nL 3047 4666 \nL 3047 1625 \nL 3713 1625 \nL 3713 1100 \nL 3047 1100 \nL 3047 0 \nL 2419 0 \nL 2419 1100 \nL 313 1100 \nL 313 1709 \nL 2253 4666 \nz\n\" id=\"DejaVuSans-34\" transform=\"scale(0.015625)\"/>\n       </defs>\n       <use xlink:href=\"#DejaVuSans-2212\"/>\n       <use x=\"83.789062\" xlink:href=\"#DejaVuSans-30\"/>\n       <use x=\"147.412109\" xlink:href=\"#DejaVuSans-2e\"/>\n       <use x=\"179.199219\" xlink:href=\"#DejaVuSans-34\"/>\n      </g>\n     </g>\n    </g>\n    <g id=\"xtick_3\">\n     <g id=\"line2d_3\">\n      <g>\n       <use style=\"stroke:#000000;stroke-width:0.8;\" x=\"127.879249\" xlink:href=\"#m4962f3ac5d\" y=\"224.64\"/>\n      </g>\n     </g>\n     <g id=\"text_3\">\n      <!-- −0.2 -->\n      <g transform=\"translate(115.737843 239.238437)scale(0.1 -0.1)\">\n       <defs>\n        <path d=\"M 1228 531 \nL 3431 531 \nL 3431 0 \nL 469 0 \nL 469 531 \nQ 828 903 1448 1529 \nQ 2069 2156 2228 2338 \nQ 2531 2678 2651 2914 \nQ 2772 3150 2772 3378 \nQ 2772 3750 2511 3984 \nQ 2250 4219 1831 4219 \nQ 1534 4219 1204 4116 \nQ 875 4013 500 3803 \nL 500 4441 \nQ 881 4594 1212 4672 \nQ 1544 4750 1819 4750 \nQ 2544 4750 2975 4387 \nQ 3406 4025 3406 3419 \nQ 3406 3131 3298 2873 \nQ 3191 2616 2906 2266 \nQ 2828 2175 2409 1742 \nQ 1991 1309 1228 531 \nz\n\" id=\"DejaVuSans-32\" transform=\"scale(0.015625)\"/>\n       </defs>\n       <use xlink:href=\"#DejaVuSans-2212\"/>\n       <use x=\"83.789062\" xlink:href=\"#DejaVuSans-30\"/>\n       <use x=\"147.412109\" xlink:href=\"#DejaVuSans-2e\"/>\n       <use x=\"179.199219\" xlink:href=\"#DejaVuSans-32\"/>\n      </g>\n     </g>\n    </g>\n    <g id=\"xtick_4\">\n     <g id=\"line2d_4\">\n      <g>\n       <use style=\"stroke:#000000;stroke-width:0.8;\" x=\"166.443677\" xlink:href=\"#m4962f3ac5d\" y=\"224.64\"/>\n      </g>\n     </g>\n     <g id=\"text_4\">\n      <!-- 0.0 -->\n      <g transform=\"translate(158.492115 239.238437)scale(0.1 -0.1)\">\n       <use xlink:href=\"#DejaVuSans-30\"/>\n       <use x=\"63.623047\" xlink:href=\"#DejaVuSans-2e\"/>\n       <use x=\"95.410156\" xlink:href=\"#DejaVuSans-30\"/>\n      </g>\n     </g>\n    </g>\n    <g id=\"xtick_5\">\n     <g id=\"line2d_5\">\n      <g>\n       <use style=\"stroke:#000000;stroke-width:0.8;\" x=\"205.008105\" xlink:href=\"#m4962f3ac5d\" y=\"224.64\"/>\n      </g>\n     </g>\n     <g id=\"text_5\">\n      <!-- 0.2 -->\n      <g transform=\"translate(197.056542 239.238437)scale(0.1 -0.1)\">\n       <use xlink:href=\"#DejaVuSans-30\"/>\n       <use x=\"63.623047\" xlink:href=\"#DejaVuSans-2e\"/>\n       <use x=\"95.410156\" xlink:href=\"#DejaVuSans-32\"/>\n      </g>\n     </g>\n    </g>\n    <g id=\"xtick_6\">\n     <g id=\"line2d_6\">\n      <g>\n       <use style=\"stroke:#000000;stroke-width:0.8;\" x=\"243.572532\" xlink:href=\"#m4962f3ac5d\" y=\"224.64\"/>\n      </g>\n     </g>\n     <g id=\"text_6\">\n      <!-- 0.4 -->\n      <g transform=\"translate(235.62097 239.238437)scale(0.1 -0.1)\">\n       <use xlink:href=\"#DejaVuSans-30\"/>\n       <use x=\"63.623047\" xlink:href=\"#DejaVuSans-2e\"/>\n       <use x=\"95.410156\" xlink:href=\"#DejaVuSans-34\"/>\n      </g>\n     </g>\n    </g>\n    <g id=\"xtick_7\">\n     <g id=\"line2d_7\">\n      <g>\n       <use style=\"stroke:#000000;stroke-width:0.8;\" x=\"282.13696\" xlink:href=\"#m4962f3ac5d\" y=\"224.64\"/>\n      </g>\n     </g>\n     <g id=\"text_7\">\n      <!-- 0.6 -->\n      <g transform=\"translate(274.185397 239.238437)scale(0.1 -0.1)\">\n       <use xlink:href=\"#DejaVuSans-30\"/>\n       <use x=\"63.623047\" xlink:href=\"#DejaVuSans-2e\"/>\n       <use x=\"95.410156\" xlink:href=\"#DejaVuSans-36\"/>\n      </g>\n     </g>\n    </g>\n    <g id=\"xtick_8\">\n     <g id=\"line2d_8\">\n      <g>\n       <use style=\"stroke:#000000;stroke-width:0.8;\" x=\"320.701387\" xlink:href=\"#m4962f3ac5d\" y=\"224.64\"/>\n      </g>\n     </g>\n     <g id=\"text_8\">\n      <!-- 0.8 -->\n      <g transform=\"translate(312.749825 239.238437)scale(0.1 -0.1)\">\n       <defs>\n        <path d=\"M 2034 2216 \nQ 1584 2216 1326 1975 \nQ 1069 1734 1069 1313 \nQ 1069 891 1326 650 \nQ 1584 409 2034 409 \nQ 2484 409 2743 651 \nQ 3003 894 3003 1313 \nQ 3003 1734 2745 1975 \nQ 2488 2216 2034 2216 \nz\nM 1403 2484 \nQ 997 2584 770 2862 \nQ 544 3141 544 3541 \nQ 544 4100 942 4425 \nQ 1341 4750 2034 4750 \nQ 2731 4750 3128 4425 \nQ 3525 4100 3525 3541 \nQ 3525 3141 3298 2862 \nQ 3072 2584 2669 2484 \nQ 3125 2378 3379 2068 \nQ 3634 1759 3634 1313 \nQ 3634 634 3220 271 \nQ 2806 -91 2034 -91 \nQ 1263 -91 848 271 \nQ 434 634 434 1313 \nQ 434 1759 690 2068 \nQ 947 2378 1403 2484 \nz\nM 1172 3481 \nQ 1172 3119 1398 2916 \nQ 1625 2713 2034 2713 \nQ 2441 2713 2670 2916 \nQ 2900 3119 2900 3481 \nQ 2900 3844 2670 4047 \nQ 2441 4250 2034 4250 \nQ 1625 4250 1398 4047 \nQ 1172 3844 1172 3481 \nz\n\" id=\"DejaVuSans-38\" transform=\"scale(0.015625)\"/>\n       </defs>\n       <use xlink:href=\"#DejaVuSans-30\"/>\n       <use x=\"63.623047\" xlink:href=\"#DejaVuSans-2e\"/>\n       <use x=\"95.410156\" xlink:href=\"#DejaVuSans-38\"/>\n      </g>\n     </g>\n    </g>\n    <g id=\"xtick_9\">\n     <g id=\"line2d_9\">\n      <g>\n       <use style=\"stroke:#000000;stroke-width:0.8;\" x=\"359.265815\" xlink:href=\"#m4962f3ac5d\" y=\"224.64\"/>\n      </g>\n     </g>\n     <g id=\"text_9\">\n      <!-- 1.0 -->\n      <g transform=\"translate(351.314252 239.238437)scale(0.1 -0.1)\">\n       <defs>\n        <path d=\"M 794 531 \nL 1825 531 \nL 1825 4091 \nL 703 3866 \nL 703 4441 \nL 1819 4666 \nL 2450 4666 \nL 2450 531 \nL 3481 531 \nL 3481 0 \nL 794 0 \nL 794 531 \nz\n\" id=\"DejaVuSans-31\" transform=\"scale(0.015625)\"/>\n       </defs>\n       <use xlink:href=\"#DejaVuSans-31\"/>\n       <use x=\"63.623047\" xlink:href=\"#DejaVuSans-2e\"/>\n       <use x=\"95.410156\" xlink:href=\"#DejaVuSans-30\"/>\n      </g>\n     </g>\n    </g>\n   </g>\n   <g id=\"matplotlib.axis_2\">\n    <g id=\"ytick_1\">\n     <g id=\"line2d_10\">\n      <defs>\n       <path d=\"M 0 0 \nL -3.5 0 \n\" id=\"m576b5523bd\" style=\"stroke:#000000;stroke-width:0.8;\"/>\n      </defs>\n      <g>\n       <use style=\"stroke:#000000;stroke-width:0.8;\" x=\"39.65\" xlink:href=\"#m576b5523bd\" y=\"224.64\"/>\n      </g>\n     </g>\n     <g id=\"text_10\">\n      <!-- 0 -->\n      <g transform=\"translate(26.2875 228.439219)scale(0.1 -0.1)\">\n       <use xlink:href=\"#DejaVuSans-30\"/>\n      </g>\n     </g>\n    </g>\n    <g id=\"ytick_2\">\n     <g id=\"line2d_11\">\n      <g>\n       <use style=\"stroke:#000000;stroke-width:0.8;\" x=\"39.65\" xlink:href=\"#m576b5523bd\" y=\"199.342454\"/>\n      </g>\n     </g>\n     <g id=\"text_11\">\n      <!-- 500 -->\n      <g transform=\"translate(13.5625 203.141672)scale(0.1 -0.1)\">\n       <defs>\n        <path d=\"M 691 4666 \nL 3169 4666 \nL 3169 4134 \nL 1269 4134 \nL 1269 2991 \nQ 1406 3038 1543 3061 \nQ 1681 3084 1819 3084 \nQ 2600 3084 3056 2656 \nQ 3513 2228 3513 1497 \nQ 3513 744 3044 326 \nQ 2575 -91 1722 -91 \nQ 1428 -91 1123 -41 \nQ 819 9 494 109 \nL 494 744 \nQ 775 591 1075 516 \nQ 1375 441 1709 441 \nQ 2250 441 2565 725 \nQ 2881 1009 2881 1497 \nQ 2881 1984 2565 2268 \nQ 2250 2553 1709 2553 \nQ 1456 2553 1204 2497 \nQ 953 2441 691 2322 \nL 691 4666 \nz\n\" id=\"DejaVuSans-35\" transform=\"scale(0.015625)\"/>\n       </defs>\n       <use xlink:href=\"#DejaVuSans-35\"/>\n       <use x=\"63.623047\" xlink:href=\"#DejaVuSans-30\"/>\n       <use x=\"127.246094\" xlink:href=\"#DejaVuSans-30\"/>\n      </g>\n     </g>\n    </g>\n    <g id=\"ytick_3\">\n     <g id=\"line2d_12\">\n      <g>\n       <use style=\"stroke:#000000;stroke-width:0.8;\" x=\"39.65\" xlink:href=\"#m576b5523bd\" y=\"174.044907\"/>\n      </g>\n     </g>\n     <g id=\"text_12\">\n      <!-- 1000 -->\n      <g transform=\"translate(7.2 177.844126)scale(0.1 -0.1)\">\n       <use xlink:href=\"#DejaVuSans-31\"/>\n       <use x=\"63.623047\" xlink:href=\"#DejaVuSans-30\"/>\n       <use x=\"127.246094\" xlink:href=\"#DejaVuSans-30\"/>\n       <use x=\"190.869141\" xlink:href=\"#DejaVuSans-30\"/>\n      </g>\n     </g>\n    </g>\n    <g id=\"ytick_4\">\n     <g id=\"line2d_13\">\n      <g>\n       <use style=\"stroke:#000000;stroke-width:0.8;\" x=\"39.65\" xlink:href=\"#m576b5523bd\" y=\"148.747361\"/>\n      </g>\n     </g>\n     <g id=\"text_13\">\n      <!-- 1500 -->\n      <g transform=\"translate(7.2 152.54658)scale(0.1 -0.1)\">\n       <use xlink:href=\"#DejaVuSans-31\"/>\n       <use x=\"63.623047\" xlink:href=\"#DejaVuSans-35\"/>\n       <use x=\"127.246094\" xlink:href=\"#DejaVuSans-30\"/>\n       <use x=\"190.869141\" xlink:href=\"#DejaVuSans-30\"/>\n      </g>\n     </g>\n    </g>\n    <g id=\"ytick_5\">\n     <g id=\"line2d_14\">\n      <g>\n       <use style=\"stroke:#000000;stroke-width:0.8;\" x=\"39.65\" xlink:href=\"#m576b5523bd\" y=\"123.449815\"/>\n      </g>\n     </g>\n     <g id=\"text_14\">\n      <!-- 2000 -->\n      <g transform=\"translate(7.2 127.249033)scale(0.1 -0.1)\">\n       <use xlink:href=\"#DejaVuSans-32\"/>\n       <use x=\"63.623047\" xlink:href=\"#DejaVuSans-30\"/>\n       <use x=\"127.246094\" xlink:href=\"#DejaVuSans-30\"/>\n       <use x=\"190.869141\" xlink:href=\"#DejaVuSans-30\"/>\n      </g>\n     </g>\n    </g>\n    <g id=\"ytick_6\">\n     <g id=\"line2d_15\">\n      <g>\n       <use style=\"stroke:#000000;stroke-width:0.8;\" x=\"39.65\" xlink:href=\"#m576b5523bd\" y=\"98.152268\"/>\n      </g>\n     </g>\n     <g id=\"text_15\">\n      <!-- 2500 -->\n      <g transform=\"translate(7.2 101.951487)scale(0.1 -0.1)\">\n       <use xlink:href=\"#DejaVuSans-32\"/>\n       <use x=\"63.623047\" xlink:href=\"#DejaVuSans-35\"/>\n       <use x=\"127.246094\" xlink:href=\"#DejaVuSans-30\"/>\n       <use x=\"190.869141\" xlink:href=\"#DejaVuSans-30\"/>\n      </g>\n     </g>\n    </g>\n    <g id=\"ytick_7\">\n     <g id=\"line2d_16\">\n      <g>\n       <use style=\"stroke:#000000;stroke-width:0.8;\" x=\"39.65\" xlink:href=\"#m576b5523bd\" y=\"72.854722\"/>\n      </g>\n     </g>\n     <g id=\"text_16\">\n      <!-- 3000 -->\n      <g transform=\"translate(7.2 76.653941)scale(0.1 -0.1)\">\n       <defs>\n        <path d=\"M 2597 2516 \nQ 3050 2419 3304 2112 \nQ 3559 1806 3559 1356 \nQ 3559 666 3084 287 \nQ 2609 -91 1734 -91 \nQ 1441 -91 1130 -33 \nQ 819 25 488 141 \nL 488 750 \nQ 750 597 1062 519 \nQ 1375 441 1716 441 \nQ 2309 441 2620 675 \nQ 2931 909 2931 1356 \nQ 2931 1769 2642 2001 \nQ 2353 2234 1838 2234 \nL 1294 2234 \nL 1294 2753 \nL 1863 2753 \nQ 2328 2753 2575 2939 \nQ 2822 3125 2822 3475 \nQ 2822 3834 2567 4026 \nQ 2313 4219 1838 4219 \nQ 1578 4219 1281 4162 \nQ 984 4106 628 3988 \nL 628 4550 \nQ 988 4650 1302 4700 \nQ 1616 4750 1894 4750 \nQ 2613 4750 3031 4423 \nQ 3450 4097 3450 3541 \nQ 3450 3153 3228 2886 \nQ 3006 2619 2597 2516 \nz\n\" id=\"DejaVuSans-33\" transform=\"scale(0.015625)\"/>\n       </defs>\n       <use xlink:href=\"#DejaVuSans-33\"/>\n       <use x=\"63.623047\" xlink:href=\"#DejaVuSans-30\"/>\n       <use x=\"127.246094\" xlink:href=\"#DejaVuSans-30\"/>\n       <use x=\"190.869141\" xlink:href=\"#DejaVuSans-30\"/>\n      </g>\n     </g>\n    </g>\n    <g id=\"ytick_8\">\n     <g id=\"line2d_17\">\n      <g>\n       <use style=\"stroke:#000000;stroke-width:0.8;\" x=\"39.65\" xlink:href=\"#m576b5523bd\" y=\"47.557176\"/>\n      </g>\n     </g>\n     <g id=\"text_17\">\n      <!-- 3500 -->\n      <g transform=\"translate(7.2 51.356394)scale(0.1 -0.1)\">\n       <use xlink:href=\"#DejaVuSans-33\"/>\n       <use x=\"63.623047\" xlink:href=\"#DejaVuSans-35\"/>\n       <use x=\"127.246094\" xlink:href=\"#DejaVuSans-30\"/>\n       <use x=\"190.869141\" xlink:href=\"#DejaVuSans-30\"/>\n      </g>\n     </g>\n    </g>\n    <g id=\"ytick_9\">\n     <g id=\"line2d_18\">\n      <g>\n       <use style=\"stroke:#000000;stroke-width:0.8;\" x=\"39.65\" xlink:href=\"#m576b5523bd\" y=\"22.259629\"/>\n      </g>\n     </g>\n     <g id=\"text_18\">\n      <!-- 4000 -->\n      <g transform=\"translate(7.2 26.058848)scale(0.1 -0.1)\">\n       <use xlink:href=\"#DejaVuSans-34\"/>\n       <use x=\"63.623047\" xlink:href=\"#DejaVuSans-30\"/>\n       <use x=\"127.246094\" xlink:href=\"#DejaVuSans-30\"/>\n       <use x=\"190.869141\" xlink:href=\"#DejaVuSans-30\"/>\n      </g>\n     </g>\n    </g>\n   </g>\n   <g id=\"patch_28\">\n    <path d=\"M 39.65 224.64 \nL 39.65 7.2 \n\" style=\"fill:none;stroke:#000000;stroke-linecap:square;stroke-linejoin:miter;stroke-width:0.8;\"/>\n   </g>\n   <g id=\"patch_29\">\n    <path d=\"M 374.45 224.64 \nL 374.45 7.2 \n\" style=\"fill:none;stroke:#000000;stroke-linecap:square;stroke-linejoin:miter;stroke-width:0.8;\"/>\n   </g>\n   <g id=\"patch_30\">\n    <path d=\"M 39.65 224.64 \nL 374.45 224.64 \n\" style=\"fill:none;stroke:#000000;stroke-linecap:square;stroke-linejoin:miter;stroke-width:0.8;\"/>\n   </g>\n   <g id=\"patch_31\">\n    <path d=\"M 39.65 7.2 \nL 374.45 7.2 \n\" style=\"fill:none;stroke:#000000;stroke-linecap:square;stroke-linejoin:miter;stroke-width:0.8;\"/>\n   </g>\n  </g>\n </g>\n <defs>\n  <clipPath id=\"p8fd5d3a152\">\n   <rect height=\"217.44\" width=\"334.8\" x=\"39.65\" y=\"7.2\"/>\n  </clipPath>\n </defs>\n</svg>\n",
            "image/png": "[encoded data removed]"
          },
          "metadata": {
            "needs_background": "light"
          }
        },
        {
          "output_type": "stream",
          "name": "stdout",
          "text": [
            "AUC score is 0.9258503331297072  while binary score is 0.7496406755300036 and the confusion matrix is [[ 5578  5554]\n",
            " [   20 11112]] on dev loader\n",
            "Model is saved after 50000 iterations \n",
            "OCloss is 0.32180956962478596 and BCEloss is 0.538626188906533 and MNRloss is 0.0 and Cosloss is 0.1415585722096725  and time taken is 77557.65913152695 after 50000 iterations\n",
            "cannot identify image file '/home/ckm/visualqatickets/superuser/Data/images/1141373_2.png'\n",
            "cannot identify image file '/home/ckm/visualqatickets/superuser/Data/images/1141373_2.png'\n",
            "cannot identify image file '/home/ckm/visualqatickets/superuser/Data/images/1141373_2.png'\n",
            "image file is truncated\n",
            "Something went wrong with the image of id 247087\n",
            "cannot identify image file '/home/ckm/visualqatickets/superuser/Data/images/1141373_2.png'\n",
            "cannot identify image file '/home/ckm/visualqatickets/superuser/Data/images/1141373_2.png'\n",
            "cannot identify image file '/home/ckm/visualqatickets/superuser/Data/images/1141373_2.png'\n",
            "image file is truncated\n",
            "Something went wrong with the image of id 247087.0\n",
            "cannot identify image file '/home/ckm/visualqatickets/superuser/Data/images/1141373_2.png'\n",
            "cannot identify image file '/home/ckm/visualqatickets/superuser/Data/images/1141373_2.png'\n",
            "OCloss is 0.31998390518713604 and BCEloss is 0.5383881854038652 and MNRloss is 0.0 and Cosloss is 0.1410233016635956  and time taken is 92901.30632376671 after 60000 iterations\n",
            "image file is truncated\n",
            "Something went wrong with the image of id 247087.0\n",
            "image file is truncated\n",
            "Something went wrong with the image of id 154842.0\n",
            "cannot identify image file '/home/ckm/visualqatickets/superuser/Data/images/1141373_2.png'\n",
            "cannot identify image file '/home/ckm/visualqatickets/superuser/Data/images/1141373_2.png'\n",
            "cannot identify image file '/home/ckm/visualqatickets/superuser/Data/images/1141373_2.png'\n",
            "cannot identify image file '/home/ckm/visualqatickets/superuser/Data/images/1141373_2.png'\n",
            "image file is truncated\n",
            "Something went wrong with the image of id 154842.0\n",
            "cannot identify image file '/home/ckm/visualqatickets/superuser/Data/images/1141373_2.png'\n",
            "cannot identify image file '/home/ckm/visualqatickets/superuser/Data/images/1141373_2.png'\n",
            "cannot identify image file '/home/ckm/visualqatickets/superuser/Data/images/1141373_2.png'\n",
            "cannot identify image file '/home/ckm/visualqatickets/superuser/Data/images/1141373_2.png'\n",
            "cannot identify image file '/home/ckm/visualqatickets/superuser/Data/images/1141373_2.png'\n",
            "cannot identify image file '/home/ckm/visualqatickets/superuser/Data/images/1141373_2.png'\n",
            "OCloss is 0.3177901876555399 and BCEloss is 0.5379678726339339 and MNRloss is 0.0 and Cosloss is 0.14037673837843648  and time taken is 107840.84184932709 after 70000 iterations\n",
            "cannot identify image file '/home/ckm/visualqatickets/superuser/Data/images/1141373_2.png'\n",
            "image file is truncated\n",
            "Something went wrong with the image of id 154842.0\n",
            "image file is truncated\n",
            "Something went wrong with the image of id 247087.0\n",
            "cannot identify image file '/home/ckm/visualqatickets/superuser/Data/images/1141373_2.png'\n",
            "cannot identify image file '/home/ckm/visualqatickets/superuser/Data/images/1141373_2.png'\n",
            "cannot identify image file '/home/ckm/visualqatickets/superuser/Data/images/1141373_2.png'\n",
            "image file is truncated\n",
            "Something went wrong with the image of id 154842.0\n",
            "image file is truncated\n",
            "Something went wrong with the image of id 247087.0\n",
            "image file is truncated\n",
            "Something went wrong with the image of id 154842.0\n",
            "cannot identify image file '/home/ckm/visualqatickets/superuser/Data/images/1141373_2.png'\n",
            "cannot identify image file '/home/ckm/visualqatickets/superuser/Data/images/1141373_2.png'\n",
            "cannot identify image file '/home/ckm/visualqatickets/superuser/Data/images/1141373_2.png'\n",
            "cannot identify image file '/home/ckm/visualqatickets/superuser/Data/images/1141373_2.png'\n",
            "cannot identify image file '/home/ckm/visualqatickets/superuser/Data/images/1141373_2.png'\n",
            "cannot identify image file '/home/ckm/visualqatickets/superuser/Data/images/1141373_2.png'\n",
            "cannot identify image file '/home/ckm/visualqatickets/superuser/Data/images/1141373_2.png'\n",
            "cannot identify image file '/home/ckm/visualqatickets/superuser/Data/images/1141373_2.png'\n",
            "image file is truncated\n",
            "Something went wrong with the image of id 154842.0\n",
            "cannot identify image file '/home/ckm/visualqatickets/superuser/Data/images/1141373_2.png'\n",
            "cannot identify image file '/home/ckm/visualqatickets/superuser/Data/images/1141373_2.png'\n",
            "image file is truncated\n",
            "Something went wrong with the image of id 154842.0\n",
            "image file is truncated\n",
            "Something went wrong with the image of id 154842.0\n",
            "cannot identify image file '/home/ckm/visualqatickets/superuser/Data/images/1141373_2.png'\n",
            "cannot identify image file '/home/ckm/visualqatickets/superuser/Data/images/1141373_2.png'\n",
            "OCloss is 0.3152753052558399 and BCEloss is 0.5375809239106045 and MNRloss is 0.0 and Cosloss is 0.13961005353612016  and time taken is 122925.71714997292 after 80000 iterations\n",
            "image file is truncated\n",
            "Something went wrong with the image of id 154842.0\n",
            "cannot identify image file '/home/ckm/visualqatickets/superuser/Data/images/1141373_2.png'\n",
            "image file is truncated\n",
            "Something went wrong with the image of id 154842.0\n",
            "cannot identify image file '/home/ckm/visualqatickets/superuser/Data/images/1141373_2.png'\n",
            "cannot identify image file '/home/ckm/visualqatickets/superuser/Data/images/1141373_2.png'\n",
            "cannot identify image file '/home/ckm/visualqatickets/superuser/Data/images/1141373_2.png'\n",
            "cannot identify image file '/home/ckm/visualqatickets/superuser/Data/images/1141373_2.png'\n",
            "cannot identify image file '/home/ckm/visualqatickets/superuser/Data/images/1141373_2.png'\n",
            "image file is truncated\n",
            "Something went wrong with the image of id 154842.0\n",
            "cannot identify image file '/home/ckm/visualqatickets/superuser/Data/images/1141373_2.png'\n",
            "image file is truncated\n",
            "Something went wrong with the image of id 154842.0\n",
            "image file is truncated\n",
            "Something went wrong with the image of id 247087.0\n",
            "cannot identify image file '/home/ckm/visualqatickets/superuser/Data/images/1141373_2.png'\n",
            "image file is truncated\n",
            "Something went wrong with the image of id 247087\n",
            "image file is truncated\n",
            "Something went wrong with the image of id 247087\n",
            "cannot identify image file '/home/ckm/visualqatickets/superuser/Data/images/1141373_2.png'\n",
            "cannot identify image file '/home/ckm/visualqatickets/superuser/Data/images/1141373_2.png'\n",
            "cannot identify image file '/home/ckm/visualqatickets/superuser/Data/images/1141373_2.png'\n",
            "cannot identify image file '/home/ckm/visualqatickets/superuser/Data/images/1141373_2.png'\n",
            "cannot identify image file '/home/ckm/visualqatickets/superuser/Data/images/1141373_2.png'\n",
            "image file is truncated\n",
            "Something went wrong with the image of id 154842.0\n",
            "image file is truncated\n",
            "Something went wrong with the image of id 154842.0\n",
            "image file is truncated\n",
            "Something went wrong with the image of id 247087.0\n",
            "OCloss is 0.31383860568762606 and BCEloss is 0.5372805156417929 and MNRloss is 0.0 and Cosloss is 0.13913715682838296  and time taken is 138496.71773147583 after 90000 iterations\n",
            "cannot identify image file '/home/ckm/visualqatickets/superuser/Data/images/1141373_2.png'\n",
            "cannot identify image file '/home/ckm/visualqatickets/superuser/Data/images/1141373_2.png'\n",
            "cannot identify image file '/home/ckm/visualqatickets/superuser/Data/images/1141373_2.png'\n",
            "cannot identify image file '/home/ckm/visualqatickets/superuser/Data/images/1141373_2.png'\n",
            "cannot identify image file '/home/ckm/visualqatickets/superuser/Data/images/1141373_2.png'\n",
            "cannot identify image file '/home/ckm/visualqatickets/superuser/Data/images/1141373_2.png'\n",
            "image file is truncated\n",
            "Something went wrong with the image of id 247087\n",
            "image file is truncated\n",
            "Something went wrong with the image of id 247087.0\n",
            "image file is truncated\n",
            "Something went wrong with the image of id 154842.0\n",
            "image file is truncated\n",
            "Something went wrong with the image of id 247087.0\n",
            "cannot identify image file '/home/ckm/visualqatickets/superuser/Data/images/1141373_2.png'\n",
            "cannot identify image file '/home/ckm/visualqatickets/superuser/Data/images/1141373_2.png'\n",
            "image file is truncated\n",
            "Something went wrong with the image of id 154842.0\n",
            "cannot identify image file '/home/ckm/visualqatickets/superuser/Data/images/1141373_2.png'\n",
            "image file is truncated\n",
            "Something went wrong with the image of id 247087.0\n",
            "cannot identify image file '/home/ckm/visualqatickets/superuser/Data/images/1141373_2.png'\n",
            "image file is truncated\n",
            "Something went wrong with the image of id 154842.0\n",
            "cannot identify image file '/home/ckm/visualqatickets/superuser/Data/images/1141373_2.png'\n",
            "cannot identify image file '/home/ckm/visualqatickets/superuser/Data/images/1141373_2.png'\n",
            "cannot identify image file '/home/ckm/visualqatickets/superuser/Data/images/1141373_2.png'\n",
            "Running dev_evaluator for 2000 samples i.e. 1000 iterations. Time taken: 5 min\n",
            "    0 iterations have been done in 0.6334457397460938 seconds\n",
            "/home/ckm/anaconda3/envs/visualqa/lib/python3.8/site-packages/PIL/Image.py:962: UserWarning: Palette images with Transparency expressed in bytes should be converted to RGBA images\n",
            "  warnings.warn(\n",
            "/home/ckm/anaconda3/envs/visualqa/lib/python3.8/site-packages/PIL/Image.py:962: UserWarning: Palette images with Transparency expressed in bytes should be converted to RGBA images\n",
            "  warnings.warn(\n",
            "/home/ckm/anaconda3/envs/visualqa/lib/python3.8/site-packages/PIL/Image.py:962: UserWarning: Palette images with Transparency expressed in bytes should be converted to RGBA images\n",
            "  warnings.warn(\n",
            "/home/ckm/anaconda3/envs/visualqa/lib/python3.8/site-packages/PIL/Image.py:962: UserWarning: Palette images with Transparency expressed in bytes should be converted to RGBA images\n",
            "  warnings.warn(\n",
            "cannot identify image file '/home/ckm/visualqatickets/superuser/Data/images/1141373_2.png'\n",
            "/home/ckm/anaconda3/envs/visualqa/lib/python3.8/site-packages/PIL/Image.py:962: UserWarning: Palette images with Transparency expressed in bytes should be converted to RGBA images\n",
            "  warnings.warn(\n",
            "    1000 iterations have been done in 265.6260893344879 seconds\n",
            "/home/ckm/anaconda3/envs/visualqa/lib/python3.8/site-packages/PIL/Image.py:962: UserWarning: Palette images with Transparency expressed in bytes should be converted to RGBA images\n",
            "  warnings.warn(\n",
            "image file is truncated\n",
            "Something went wrong with the image of id 154842.0\n",
            "/home/ckm/anaconda3/envs/visualqa/lib/python3.8/site-packages/PIL/Image.py:962: UserWarning: Palette images with Transparency expressed in bytes should be converted to RGBA images\n",
            "  warnings.warn(\n",
            "cannot identify image file '/home/ckm/visualqatickets/superuser/Data/images/1141373_2.png'\n",
            "    2000 iterations have been done in 530.3827774524689 seconds\n",
            "image file is truncated\n",
            "Something went wrong with the image of id 154842.0\n"
          ]
        },
        {
          "output_type": "display_data",
          "data": {
            "text/plain": "<Figure size 432x288 with 1 Axes>",
            "image/svg+xml": "<?xml version=\"1.0\" encoding=\"utf-8\" standalone=\"no\"?>\n<!DOCTYPE svg PUBLIC \"-//W3C//DTD SVG 1.1//EN\"\n  \"http://www.w3.org/Graphics/SVG/1.1/DTD/svg11.dtd\">\n<svg height=\"248.518125pt\" version=\"1.1\" viewBox=\"0 0 381.65 248.518125\" width=\"381.65pt\" xmlns=\"http://www.w3.org/2000/svg\" xmlns:xlink=\"http://www.w3.org/1999/xlink\">\n <metadata>\n  <rdf:RDF xmlns:cc=\"http://creativecommons.org/ns#\" xmlns:dc=\"http://purl.org/dc/elements/1.1/\" xmlns:rdf=\"http://www.w3.org/1999/02/22-rdf-syntax-ns#\">\n   <cc:Work>\n    <dc:type rdf:resource=\"http://purl.org/dc/dcmitype/StillImage\"/>\n    <dc:date>2021-05-14T20:33:29.530044</dc:date>\n    <dc:format>image/svg+xml</dc:format>\n    <dc:creator>\n     <cc:Agent>\n      <dc:title>Matplotlib v3.4.1, https://matplotlib.org/</dc:title>\n     </cc:Agent>\n    </dc:creator>\n   </cc:Work>\n  </rdf:RDF>\n </metadata>\n <defs>\n  <style type=\"text/css\">*{stroke-linecap:butt;stroke-linejoin:round;}</style>\n </defs>\n <g id=\"figure_1\">\n  <g id=\"patch_1\">\n   <path d=\"M -0 248.518125 \nL 381.65 248.518125 \nL 381.65 0 \nL -0 0 \nz\n\" style=\"fill:none;\"/>\n  </g>\n  <g id=\"axes_1\">\n   <g id=\"patch_2\">\n    <path d=\"M 39.65 224.64 \nL 374.45 224.64 \nL 374.45 7.2 \nL 39.65 7.2 \nz\n\" style=\"fill:#ffffff;\"/>\n   </g>\n   <g id=\"patch_3\">\n    <path clip-path=\"url(#p399728b35e)\" d=\"M 54.868182 224.64 \nL 67.042731 224.64 \nL 67.042731 224.220054 \nL 54.868182 224.220054 \nz\n\" style=\"fill:#1f77b4;\"/>\n   </g>\n   <g id=\"patch_4\">\n    <path clip-path=\"url(#p399728b35e)\" d=\"M 67.042731 224.64 \nL 79.217274 224.64 \nL 79.217274 221.85786 \nL 67.042731 221.85786 \nz\n\" style=\"fill:#1f77b4;\"/>\n   </g>\n   <g id=\"patch_5\">\n    <path clip-path=\"url(#p399728b35e)\" d=\"M 79.21728 224.64 \nL 91.391823 224.64 \nL 91.391823 217.920869 \nL 79.21728 217.920869 \nz\n\" style=\"fill:#1f77b4;\"/>\n   </g>\n   <g id=\"patch_6\">\n    <path clip-path=\"url(#p399728b35e)\" d=\"M 91.391818 224.64 \nL 103.566361 224.64 \nL 103.566361 210.834286 \nL 91.391818 210.834286 \nz\n\" style=\"fill:#1f77b4;\"/>\n   </g>\n   <g id=\"patch_7\">\n    <path clip-path=\"url(#p399728b35e)\" d=\"M 103.566361 224.64 \nL 115.74091 224.64 \nL 115.74091 196.451146 \nL 103.566361 196.451146 \nz\n\" style=\"fill:#1f77b4;\"/>\n   </g>\n   <g id=\"patch_8\">\n    <path clip-path=\"url(#p399728b35e)\" d=\"M 115.74091 224.64 \nL 127.915454 224.64 \nL 127.915454 182.855405 \nL 115.74091 182.855405 \nz\n\" style=\"fill:#1f77b4;\"/>\n   </g>\n   <g id=\"patch_9\">\n    <path clip-path=\"url(#p399728b35e)\" d=\"M 127.915454 224.64 \nL 140.090003 224.64 \nL 140.090003 172.356763 \nL 127.915454 172.356763 \nz\n\" style=\"fill:#1f77b4;\"/>\n   </g>\n   <g id=\"patch_10\">\n    <path clip-path=\"url(#p399728b35e)\" d=\"M 140.089997 224.64 \nL 152.264546 224.64 \nL 152.264546 163.747876 \nL 140.089997 163.747876 \nz\n\" style=\"fill:#1f77b4;\"/>\n   </g>\n   <g id=\"patch_11\">\n    <path clip-path=\"url(#p399728b35e)\" d=\"M 152.264546 224.64 \nL 164.43909 224.64 \nL 164.43909 155.873895 \nL 152.264546 155.873895 \nz\n\" style=\"fill:#1f77b4;\"/>\n   </g>\n   <g id=\"patch_12\">\n    <path clip-path=\"url(#p399728b35e)\" d=\"M 164.43909 224.64 \nL 176.613639 224.64 \nL 176.613639 161.333188 \nL 164.43909 161.333188 \nz\n\" style=\"fill:#1f77b4;\"/>\n   </g>\n   <g id=\"patch_13\">\n    <path clip-path=\"url(#p399728b35e)\" d=\"M 176.613636 224.64 \nL 188.788185 224.64 \nL 188.788185 168.892211 \nL 176.613636 168.892211 \nz\n\" style=\"fill:#1f77b4;\"/>\n   </g>\n   <g id=\"patch_14\">\n    <path clip-path=\"url(#p399728b35e)\" d=\"M 188.788182 224.64 \nL 200.962731 224.64 \nL 200.962731 178.918414 \nL 188.788182 178.918414 \nz\n\" style=\"fill:#1f77b4;\"/>\n   </g>\n   <g id=\"patch_15\">\n    <path clip-path=\"url(#p399728b35e)\" d=\"M 200.962728 224.64 \nL 213.137272 224.64 \nL 213.137272 186.319957 \nL 200.962728 186.319957 \nz\n\" style=\"fill:#1f77b4;\"/>\n   </g>\n   <g id=\"patch_16\">\n    <path clip-path=\"url(#p399728b35e)\" d=\"M 213.137269 224.64 \nL 225.311818 224.64 \nL 225.311818 195.243802 \nL 213.137269 195.243802 \nz\n\" style=\"fill:#1f77b4;\"/>\n   </g>\n   <g id=\"patch_17\">\n    <path clip-path=\"url(#p399728b35e)\" d=\"M 225.311824 224.64 \nL 237.486367 224.64 \nL 237.486367 197.238544 \nL 225.311824 197.238544 \nz\n\" style=\"fill:#1f77b4;\"/>\n   </g>\n   <g id=\"patch_18\">\n    <path clip-path=\"url(#p399728b35e)\" d=\"M 237.486361 224.64 \nL 249.66091 224.64 \nL 249.66091 204.5351 \nL 237.486361 204.5351 \nz\n\" style=\"fill:#1f77b4;\"/>\n   </g>\n   <g id=\"patch_19\">\n    <path clip-path=\"url(#p399728b35e)\" d=\"M 249.66091 224.64 \nL 261.835454 224.64 \nL 261.835454 204.430114 \nL 249.66091 204.430114 \nz\n\" style=\"fill:#1f77b4;\"/>\n   </g>\n   <g id=\"patch_20\">\n    <path clip-path=\"url(#p399728b35e)\" d=\"M 261.83546 224.64 \nL 274.009997 224.64 \nL 274.009997 205.689951 \nL 261.83546 205.689951 \nz\n\" style=\"fill:#1f77b4;\"/>\n   </g>\n   <g id=\"patch_21\">\n    <path clip-path=\"url(#p399728b35e)\" d=\"M 274.009997 224.64 \nL 286.184546 224.64 \nL 286.184546 201.438001 \nL 274.009997 201.438001 \nz\n\" style=\"fill:#1f77b4;\"/>\n   </g>\n   <g id=\"patch_22\">\n    <path clip-path=\"url(#p399728b35e)\" d=\"M 286.184535 224.64 \nL 298.359084 224.64 \nL 298.359084 199.338273 \nL 286.184535 199.338273 \nz\n\" style=\"fill:#1f77b4;\"/>\n   </g>\n   <g id=\"patch_23\">\n    <path clip-path=\"url(#p399728b35e)\" d=\"M 298.359095 224.64 \nL 310.533633 224.64 \nL 310.533633 187.474807 \nL 298.359095 187.474807 \nz\n\" style=\"fill:#1f77b4;\"/>\n   </g>\n   <g id=\"patch_24\">\n    <path clip-path=\"url(#p399728b35e)\" d=\"M 310.533633 224.64 \nL 322.708182 224.64 \nL 322.708182 171.569364 \nL 310.533633 171.569364 \nz\n\" style=\"fill:#1f77b4;\"/>\n   </g>\n   <g id=\"patch_25\">\n    <path clip-path=\"url(#p399728b35e)\" d=\"M 322.708171 224.64 \nL 334.88272 224.64 \nL 334.88272 143.590483 \nL 322.708171 143.590483 \nz\n\" style=\"fill:#1f77b4;\"/>\n   </g>\n   <g id=\"patch_26\">\n    <path clip-path=\"url(#p399728b35e)\" d=\"M 334.882731 224.64 \nL 347.057269 224.64 \nL 347.057269 77.606518 \nL 334.882731 77.606518 \nz\n\" style=\"fill:#1f77b4;\"/>\n   </g>\n   <g id=\"patch_27\">\n    <path clip-path=\"url(#p399728b35e)\" d=\"M 347.057269 224.64 \nL 359.231818 224.64 \nL 359.231818 17.554286 \nL 347.057269 17.554286 \nz\n\" style=\"fill:#1f77b4;\"/>\n   </g>\n   <g id=\"matplotlib.axis_1\">\n    <g id=\"xtick_1\">\n     <g id=\"line2d_1\">\n      <defs>\n       <path d=\"M 0 0 \nL 0 3.5 \n\" id=\"mafe667d5e0\" style=\"stroke:#000000;stroke-width:0.8;\"/>\n      </defs>\n      <g>\n       <use style=\"stroke:#000000;stroke-width:0.8;\" x=\"53.756988\" xlink:href=\"#mafe667d5e0\" y=\"224.64\"/>\n      </g>\n     </g>\n     <g id=\"text_1\">\n      <!-- −0.6 -->\n      <g transform=\"translate(41.615582 239.238437)scale(0.1 -0.1)\">\n       <defs>\n        <path d=\"M 678 2272 \nL 4684 2272 \nL 4684 1741 \nL 678 1741 \nL 678 2272 \nz\n\" id=\"DejaVuSans-2212\" transform=\"scale(0.015625)\"/>\n        <path d=\"M 2034 4250 \nQ 1547 4250 1301 3770 \nQ 1056 3291 1056 2328 \nQ 1056 1369 1301 889 \nQ 1547 409 2034 409 \nQ 2525 409 2770 889 \nQ 3016 1369 3016 2328 \nQ 3016 3291 2770 3770 \nQ 2525 4250 2034 4250 \nz\nM 2034 4750 \nQ 2819 4750 3233 4129 \nQ 3647 3509 3647 2328 \nQ 3647 1150 3233 529 \nQ 2819 -91 2034 -91 \nQ 1250 -91 836 529 \nQ 422 1150 422 2328 \nQ 422 3509 836 4129 \nQ 1250 4750 2034 4750 \nz\n\" id=\"DejaVuSans-30\" transform=\"scale(0.015625)\"/>\n        <path d=\"M 684 794 \nL 1344 794 \nL 1344 0 \nL 684 0 \nL 684 794 \nz\n\" id=\"DejaVuSans-2e\" transform=\"scale(0.015625)\"/>\n        <path d=\"M 2113 2584 \nQ 1688 2584 1439 2293 \nQ 1191 2003 1191 1497 \nQ 1191 994 1439 701 \nQ 1688 409 2113 409 \nQ 2538 409 2786 701 \nQ 3034 994 3034 1497 \nQ 3034 2003 2786 2293 \nQ 2538 2584 2113 2584 \nz\nM 3366 4563 \nL 3366 3988 \nQ 3128 4100 2886 4159 \nQ 2644 4219 2406 4219 \nQ 1781 4219 1451 3797 \nQ 1122 3375 1075 2522 \nQ 1259 2794 1537 2939 \nQ 1816 3084 2150 3084 \nQ 2853 3084 3261 2657 \nQ 3669 2231 3669 1497 \nQ 3669 778 3244 343 \nQ 2819 -91 2113 -91 \nQ 1303 -91 875 529 \nQ 447 1150 447 2328 \nQ 447 3434 972 4092 \nQ 1497 4750 2381 4750 \nQ 2619 4750 2861 4703 \nQ 3103 4656 3366 4563 \nz\n\" id=\"DejaVuSans-36\" transform=\"scale(0.015625)\"/>\n       </defs>\n       <use xlink:href=\"#DejaVuSans-2212\"/>\n       <use x=\"83.789062\" xlink:href=\"#DejaVuSans-30\"/>\n       <use x=\"147.412109\" xlink:href=\"#DejaVuSans-2e\"/>\n       <use x=\"179.199219\" xlink:href=\"#DejaVuSans-36\"/>\n      </g>\n     </g>\n    </g>\n    <g id=\"xtick_2\">\n     <g id=\"line2d_2\">\n      <g>\n       <use style=\"stroke:#000000;stroke-width:0.8;\" x=\"91.945386\" xlink:href=\"#mafe667d5e0\" y=\"224.64\"/>\n      </g>\n     </g>\n     <g id=\"text_2\">\n      <!-- −0.4 -->\n      <g transform=\"translate(79.80398 239.238437)scale(0.1 -0.1)\">\n       <defs>\n        <path d=\"M 2419 4116 \nL 825 1625 \nL 2419 1625 \nL 2419 4116 \nz\nM 2253 4666 \nL 3047 4666 \nL 3047 1625 \nL 3713 1625 \nL 3713 1100 \nL 3047 1100 \nL 3047 0 \nL 2419 0 \nL 2419 1100 \nL 313 1100 \nL 313 1709 \nL 2253 4666 \nz\n\" id=\"DejaVuSans-34\" transform=\"scale(0.015625)\"/>\n       </defs>\n       <use xlink:href=\"#DejaVuSans-2212\"/>\n       <use x=\"83.789062\" xlink:href=\"#DejaVuSans-30\"/>\n       <use x=\"147.412109\" xlink:href=\"#DejaVuSans-2e\"/>\n       <use x=\"179.199219\" xlink:href=\"#DejaVuSans-34\"/>\n      </g>\n     </g>\n    </g>\n    <g id=\"xtick_3\">\n     <g id=\"line2d_3\">\n      <g>\n       <use style=\"stroke:#000000;stroke-width:0.8;\" x=\"130.133785\" xlink:href=\"#mafe667d5e0\" y=\"224.64\"/>\n      </g>\n     </g>\n     <g id=\"text_3\">\n      <!-- −0.2 -->\n      <g transform=\"translate(117.992378 239.238437)scale(0.1 -0.1)\">\n       <defs>\n        <path d=\"M 1228 531 \nL 3431 531 \nL 3431 0 \nL 469 0 \nL 469 531 \nQ 828 903 1448 1529 \nQ 2069 2156 2228 2338 \nQ 2531 2678 2651 2914 \nQ 2772 3150 2772 3378 \nQ 2772 3750 2511 3984 \nQ 2250 4219 1831 4219 \nQ 1534 4219 1204 4116 \nQ 875 4013 500 3803 \nL 500 4441 \nQ 881 4594 1212 4672 \nQ 1544 4750 1819 4750 \nQ 2544 4750 2975 4387 \nQ 3406 4025 3406 3419 \nQ 3406 3131 3298 2873 \nQ 3191 2616 2906 2266 \nQ 2828 2175 2409 1742 \nQ 1991 1309 1228 531 \nz\n\" id=\"DejaVuSans-32\" transform=\"scale(0.015625)\"/>\n       </defs>\n       <use xlink:href=\"#DejaVuSans-2212\"/>\n       <use x=\"83.789062\" xlink:href=\"#DejaVuSans-30\"/>\n       <use x=\"147.412109\" xlink:href=\"#DejaVuSans-2e\"/>\n       <use x=\"179.199219\" xlink:href=\"#DejaVuSans-32\"/>\n      </g>\n     </g>\n    </g>\n    <g id=\"xtick_4\">\n     <g id=\"line2d_4\">\n      <g>\n       <use style=\"stroke:#000000;stroke-width:0.8;\" x=\"168.322183\" xlink:href=\"#mafe667d5e0\" y=\"224.64\"/>\n      </g>\n     </g>\n     <g id=\"text_4\">\n      <!-- 0.0 -->\n      <g transform=\"translate(160.370621 239.238437)scale(0.1 -0.1)\">\n       <use xlink:href=\"#DejaVuSans-30\"/>\n       <use x=\"63.623047\" xlink:href=\"#DejaVuSans-2e\"/>\n       <use x=\"95.410156\" xlink:href=\"#DejaVuSans-30\"/>\n      </g>\n     </g>\n    </g>\n    <g id=\"xtick_5\">\n     <g id=\"line2d_5\">\n      <g>\n       <use style=\"stroke:#000000;stroke-width:0.8;\" x=\"206.510581\" xlink:href=\"#mafe667d5e0\" y=\"224.64\"/>\n      </g>\n     </g>\n     <g id=\"text_5\">\n      <!-- 0.2 -->\n      <g transform=\"translate(198.559019 239.238437)scale(0.1 -0.1)\">\n       <use xlink:href=\"#DejaVuSans-30\"/>\n       <use x=\"63.623047\" xlink:href=\"#DejaVuSans-2e\"/>\n       <use x=\"95.410156\" xlink:href=\"#DejaVuSans-32\"/>\n      </g>\n     </g>\n    </g>\n    <g id=\"xtick_6\">\n     <g id=\"line2d_6\">\n      <g>\n       <use style=\"stroke:#000000;stroke-width:0.8;\" x=\"244.69898\" xlink:href=\"#mafe667d5e0\" y=\"224.64\"/>\n      </g>\n     </g>\n     <g id=\"text_6\">\n      <!-- 0.4 -->\n      <g transform=\"translate(236.747417 239.238437)scale(0.1 -0.1)\">\n       <use xlink:href=\"#DejaVuSans-30\"/>\n       <use x=\"63.623047\" xlink:href=\"#DejaVuSans-2e\"/>\n       <use x=\"95.410156\" xlink:href=\"#DejaVuSans-34\"/>\n      </g>\n     </g>\n    </g>\n    <g id=\"xtick_7\">\n     <g id=\"line2d_7\">\n      <g>\n       <use style=\"stroke:#000000;stroke-width:0.8;\" x=\"282.887378\" xlink:href=\"#mafe667d5e0\" y=\"224.64\"/>\n      </g>\n     </g>\n     <g id=\"text_7\">\n      <!-- 0.6 -->\n      <g transform=\"translate(274.935815 239.238437)scale(0.1 -0.1)\">\n       <use xlink:href=\"#DejaVuSans-30\"/>\n       <use x=\"63.623047\" xlink:href=\"#DejaVuSans-2e\"/>\n       <use x=\"95.410156\" xlink:href=\"#DejaVuSans-36\"/>\n      </g>\n     </g>\n    </g>\n    <g id=\"xtick_8\">\n     <g id=\"line2d_8\">\n      <g>\n       <use style=\"stroke:#000000;stroke-width:0.8;\" x=\"321.075776\" xlink:href=\"#mafe667d5e0\" y=\"224.64\"/>\n      </g>\n     </g>\n     <g id=\"text_8\">\n      <!-- 0.8 -->\n      <g transform=\"translate(313.124214 239.238437)scale(0.1 -0.1)\">\n       <defs>\n        <path d=\"M 2034 2216 \nQ 1584 2216 1326 1975 \nQ 1069 1734 1069 1313 \nQ 1069 891 1326 650 \nQ 1584 409 2034 409 \nQ 2484 409 2743 651 \nQ 3003 894 3003 1313 \nQ 3003 1734 2745 1975 \nQ 2488 2216 2034 2216 \nz\nM 1403 2484 \nQ 997 2584 770 2862 \nQ 544 3141 544 3541 \nQ 544 4100 942 4425 \nQ 1341 4750 2034 4750 \nQ 2731 4750 3128 4425 \nQ 3525 4100 3525 3541 \nQ 3525 3141 3298 2862 \nQ 3072 2584 2669 2484 \nQ 3125 2378 3379 2068 \nQ 3634 1759 3634 1313 \nQ 3634 634 3220 271 \nQ 2806 -91 2034 -91 \nQ 1263 -91 848 271 \nQ 434 634 434 1313 \nQ 434 1759 690 2068 \nQ 947 2378 1403 2484 \nz\nM 1172 3481 \nQ 1172 3119 1398 2916 \nQ 1625 2713 2034 2713 \nQ 2441 2713 2670 2916 \nQ 2900 3119 2900 3481 \nQ 2900 3844 2670 4047 \nQ 2441 4250 2034 4250 \nQ 1625 4250 1398 4047 \nQ 1172 3844 1172 3481 \nz\n\" id=\"DejaVuSans-38\" transform=\"scale(0.015625)\"/>\n       </defs>\n       <use xlink:href=\"#DejaVuSans-30\"/>\n       <use x=\"63.623047\" xlink:href=\"#DejaVuSans-2e\"/>\n       <use x=\"95.410156\" xlink:href=\"#DejaVuSans-38\"/>\n      </g>\n     </g>\n    </g>\n    <g id=\"xtick_9\">\n     <g id=\"line2d_9\">\n      <g>\n       <use style=\"stroke:#000000;stroke-width:0.8;\" x=\"359.264174\" xlink:href=\"#mafe667d5e0\" y=\"224.64\"/>\n      </g>\n     </g>\n     <g id=\"text_9\">\n      <!-- 1.0 -->\n      <g transform=\"translate(351.312612 239.238437)scale(0.1 -0.1)\">\n       <defs>\n        <path d=\"M 794 531 \nL 1825 531 \nL 1825 4091 \nL 703 3866 \nL 703 4441 \nL 1819 4666 \nL 2450 4666 \nL 2450 531 \nL 3481 531 \nL 3481 0 \nL 794 0 \nL 794 531 \nz\n\" id=\"DejaVuSans-31\" transform=\"scale(0.015625)\"/>\n       </defs>\n       <use xlink:href=\"#DejaVuSans-31\"/>\n       <use x=\"63.623047\" xlink:href=\"#DejaVuSans-2e\"/>\n       <use x=\"95.410156\" xlink:href=\"#DejaVuSans-30\"/>\n      </g>\n     </g>\n    </g>\n   </g>\n   <g id=\"matplotlib.axis_2\">\n    <g id=\"ytick_1\">\n     <g id=\"line2d_10\">\n      <defs>\n       <path d=\"M 0 0 \nL -3.5 0 \n\" id=\"m4c2e2ad749\" style=\"stroke:#000000;stroke-width:0.8;\"/>\n      </defs>\n      <g>\n       <use style=\"stroke:#000000;stroke-width:0.8;\" x=\"39.65\" xlink:href=\"#m4c2e2ad749\" y=\"224.64\"/>\n      </g>\n     </g>\n     <g id=\"text_10\">\n      <!-- 0 -->\n      <g transform=\"translate(26.2875 228.439219)scale(0.1 -0.1)\">\n       <use xlink:href=\"#DejaVuSans-30\"/>\n      </g>\n     </g>\n    </g>\n    <g id=\"ytick_2\">\n     <g id=\"line2d_11\">\n      <g>\n       <use style=\"stroke:#000000;stroke-width:0.8;\" x=\"39.65\" xlink:href=\"#m4c2e2ad749\" y=\"198.393395\"/>\n      </g>\n     </g>\n     <g id=\"text_11\">\n      <!-- 500 -->\n      <g transform=\"translate(13.5625 202.192614)scale(0.1 -0.1)\">\n       <defs>\n        <path d=\"M 691 4666 \nL 3169 4666 \nL 3169 4134 \nL 1269 4134 \nL 1269 2991 \nQ 1406 3038 1543 3061 \nQ 1681 3084 1819 3084 \nQ 2600 3084 3056 2656 \nQ 3513 2228 3513 1497 \nQ 3513 744 3044 326 \nQ 2575 -91 1722 -91 \nQ 1428 -91 1123 -41 \nQ 819 9 494 109 \nL 494 744 \nQ 775 591 1075 516 \nQ 1375 441 1709 441 \nQ 2250 441 2565 725 \nQ 2881 1009 2881 1497 \nQ 2881 1984 2565 2268 \nQ 2250 2553 1709 2553 \nQ 1456 2553 1204 2497 \nQ 953 2441 691 2322 \nL 691 4666 \nz\n\" id=\"DejaVuSans-35\" transform=\"scale(0.015625)\"/>\n       </defs>\n       <use xlink:href=\"#DejaVuSans-35\"/>\n       <use x=\"63.623047\" xlink:href=\"#DejaVuSans-30\"/>\n       <use x=\"127.246094\" xlink:href=\"#DejaVuSans-30\"/>\n      </g>\n     </g>\n    </g>\n    <g id=\"ytick_3\">\n     <g id=\"line2d_12\">\n      <g>\n       <use style=\"stroke:#000000;stroke-width:0.8;\" x=\"39.65\" xlink:href=\"#m4c2e2ad749\" y=\"172.14679\"/>\n      </g>\n     </g>\n     <g id=\"text_12\">\n      <!-- 1000 -->\n      <g transform=\"translate(7.2 175.946009)scale(0.1 -0.1)\">\n       <use xlink:href=\"#DejaVuSans-31\"/>\n       <use x=\"63.623047\" xlink:href=\"#DejaVuSans-30\"/>\n       <use x=\"127.246094\" xlink:href=\"#DejaVuSans-30\"/>\n       <use x=\"190.869141\" xlink:href=\"#DejaVuSans-30\"/>\n      </g>\n     </g>\n    </g>\n    <g id=\"ytick_4\">\n     <g id=\"line2d_13\">\n      <g>\n       <use style=\"stroke:#000000;stroke-width:0.8;\" x=\"39.65\" xlink:href=\"#m4c2e2ad749\" y=\"145.900185\"/>\n      </g>\n     </g>\n     <g id=\"text_13\">\n      <!-- 1500 -->\n      <g transform=\"translate(7.2 149.699403)scale(0.1 -0.1)\">\n       <use xlink:href=\"#DejaVuSans-31\"/>\n       <use x=\"63.623047\" xlink:href=\"#DejaVuSans-35\"/>\n       <use x=\"127.246094\" xlink:href=\"#DejaVuSans-30\"/>\n       <use x=\"190.869141\" xlink:href=\"#DejaVuSans-30\"/>\n      </g>\n     </g>\n    </g>\n    <g id=\"ytick_5\">\n     <g id=\"line2d_14\">\n      <g>\n       <use style=\"stroke:#000000;stroke-width:0.8;\" x=\"39.65\" xlink:href=\"#m4c2e2ad749\" y=\"119.65358\"/>\n      </g>\n     </g>\n     <g id=\"text_14\">\n      <!-- 2000 -->\n      <g transform=\"translate(7.2 123.452798)scale(0.1 -0.1)\">\n       <use xlink:href=\"#DejaVuSans-32\"/>\n       <use x=\"63.623047\" xlink:href=\"#DejaVuSans-30\"/>\n       <use x=\"127.246094\" xlink:href=\"#DejaVuSans-30\"/>\n       <use x=\"190.869141\" xlink:href=\"#DejaVuSans-30\"/>\n      </g>\n     </g>\n    </g>\n    <g id=\"ytick_6\">\n     <g id=\"line2d_15\">\n      <g>\n       <use style=\"stroke:#000000;stroke-width:0.8;\" x=\"39.65\" xlink:href=\"#m4c2e2ad749\" y=\"93.406974\"/>\n      </g>\n     </g>\n     <g id=\"text_15\">\n      <!-- 2500 -->\n      <g transform=\"translate(7.2 97.206193)scale(0.1 -0.1)\">\n       <use xlink:href=\"#DejaVuSans-32\"/>\n       <use x=\"63.623047\" xlink:href=\"#DejaVuSans-35\"/>\n       <use x=\"127.246094\" xlink:href=\"#DejaVuSans-30\"/>\n       <use x=\"190.869141\" xlink:href=\"#DejaVuSans-30\"/>\n      </g>\n     </g>\n    </g>\n    <g id=\"ytick_7\">\n     <g id=\"line2d_16\">\n      <g>\n       <use style=\"stroke:#000000;stroke-width:0.8;\" x=\"39.65\" xlink:href=\"#m4c2e2ad749\" y=\"67.160369\"/>\n      </g>\n     </g>\n     <g id=\"text_16\">\n      <!-- 3000 -->\n      <g transform=\"translate(7.2 70.959588)scale(0.1 -0.1)\">\n       <defs>\n        <path d=\"M 2597 2516 \nQ 3050 2419 3304 2112 \nQ 3559 1806 3559 1356 \nQ 3559 666 3084 287 \nQ 2609 -91 1734 -91 \nQ 1441 -91 1130 -33 \nQ 819 25 488 141 \nL 488 750 \nQ 750 597 1062 519 \nQ 1375 441 1716 441 \nQ 2309 441 2620 675 \nQ 2931 909 2931 1356 \nQ 2931 1769 2642 2001 \nQ 2353 2234 1838 2234 \nL 1294 2234 \nL 1294 2753 \nL 1863 2753 \nQ 2328 2753 2575 2939 \nQ 2822 3125 2822 3475 \nQ 2822 3834 2567 4026 \nQ 2313 4219 1838 4219 \nQ 1578 4219 1281 4162 \nQ 984 4106 628 3988 \nL 628 4550 \nQ 988 4650 1302 4700 \nQ 1616 4750 1894 4750 \nQ 2613 4750 3031 4423 \nQ 3450 4097 3450 3541 \nQ 3450 3153 3228 2886 \nQ 3006 2619 2597 2516 \nz\n\" id=\"DejaVuSans-33\" transform=\"scale(0.015625)\"/>\n       </defs>\n       <use xlink:href=\"#DejaVuSans-33\"/>\n       <use x=\"63.623047\" xlink:href=\"#DejaVuSans-30\"/>\n       <use x=\"127.246094\" xlink:href=\"#DejaVuSans-30\"/>\n       <use x=\"190.869141\" xlink:href=\"#DejaVuSans-30\"/>\n      </g>\n     </g>\n    </g>\n    <g id=\"ytick_8\">\n     <g id=\"line2d_17\">\n      <g>\n       <use style=\"stroke:#000000;stroke-width:0.8;\" x=\"39.65\" xlink:href=\"#m4c2e2ad749\" y=\"40.913764\"/>\n      </g>\n     </g>\n     <g id=\"text_17\">\n      <!-- 3500 -->\n      <g transform=\"translate(7.2 44.712983)scale(0.1 -0.1)\">\n       <use xlink:href=\"#DejaVuSans-33\"/>\n       <use x=\"63.623047\" xlink:href=\"#DejaVuSans-35\"/>\n       <use x=\"127.246094\" xlink:href=\"#DejaVuSans-30\"/>\n       <use x=\"190.869141\" xlink:href=\"#DejaVuSans-30\"/>\n      </g>\n     </g>\n    </g>\n    <g id=\"ytick_9\">\n     <g id=\"line2d_18\">\n      <g>\n       <use style=\"stroke:#000000;stroke-width:0.8;\" x=\"39.65\" xlink:href=\"#m4c2e2ad749\" y=\"14.667159\"/>\n      </g>\n     </g>\n     <g id=\"text_18\">\n      <!-- 4000 -->\n      <g transform=\"translate(7.2 18.466378)scale(0.1 -0.1)\">\n       <use xlink:href=\"#DejaVuSans-34\"/>\n       <use x=\"63.623047\" xlink:href=\"#DejaVuSans-30\"/>\n       <use x=\"127.246094\" xlink:href=\"#DejaVuSans-30\"/>\n       <use x=\"190.869141\" xlink:href=\"#DejaVuSans-30\"/>\n      </g>\n     </g>\n    </g>\n   </g>\n   <g id=\"patch_28\">\n    <path d=\"M 39.65 224.64 \nL 39.65 7.2 \n\" style=\"fill:none;stroke:#000000;stroke-linecap:square;stroke-linejoin:miter;stroke-width:0.8;\"/>\n   </g>\n   <g id=\"patch_29\">\n    <path d=\"M 374.45 224.64 \nL 374.45 7.2 \n\" style=\"fill:none;stroke:#000000;stroke-linecap:square;stroke-linejoin:miter;stroke-width:0.8;\"/>\n   </g>\n   <g id=\"patch_30\">\n    <path d=\"M 39.65 224.64 \nL 374.45 224.64 \n\" style=\"fill:none;stroke:#000000;stroke-linecap:square;stroke-linejoin:miter;stroke-width:0.8;\"/>\n   </g>\n   <g id=\"patch_31\">\n    <path d=\"M 39.65 7.2 \nL 374.45 7.2 \n\" style=\"fill:none;stroke:#000000;stroke-linecap:square;stroke-linejoin:miter;stroke-width:0.8;\"/>\n   </g>\n  </g>\n </g>\n <defs>\n  <clipPath id=\"p399728b35e\">\n   <rect height=\"217.44\" width=\"334.8\" x=\"39.65\" y=\"7.2\"/>\n  </clipPath>\n </defs>\n</svg>\n",
            "image/png": "[encoded data removed]"
          },
          "metadata": {
            "needs_background": "light"
          }
        },
        {
          "output_type": "stream",
          "name": "stdout",
          "text": [
            "AUC score is 0.9328905263511051  while binary score is 0.7518864534674812 and the confusion matrix is [[ 5624  5508]\n",
            " [   16 11116]] on dev loader\n",
            "Model is saved after 100000 iterations \n",
            "OCloss is 0.31195738282081265 and BCEloss is 0.5369502808130726 and MNRloss is 0.0 and Cosloss is 0.13851435675799717  and time taken is 154970.74119377136 after 100000 iterations\n",
            "cannot identify image file '/home/ckm/visualqatickets/superuser/Data/images/1141373_2.png'\n",
            "cannot identify image file '/home/ckm/visualqatickets/superuser/Data/images/1141373_2.png'\n",
            "image file is truncated\n",
            "Something went wrong with the image of id 154842.0\n",
            "image file is truncated\n",
            "Something went wrong with the image of id 247087.0\n",
            "image file is truncated\n",
            "Something went wrong with the image of id 154842.0\n",
            "image file is truncated\n",
            "Something went wrong with the image of id 154842.0\n",
            "cannot identify image file '/home/ckm/visualqatickets/superuser/Data/images/1141373_2.png'\n",
            "cannot identify image file '/home/ckm/visualqatickets/superuser/Data/images/1141373_2.png'\n",
            "cannot identify image file '/home/ckm/visualqatickets/superuser/Data/images/1141373_2.png'\n",
            "cannot identify image file '/home/ckm/visualqatickets/superuser/Data/images/1141373_2.png'\n",
            "cannot identify image file '/home/ckm/visualqatickets/superuser/Data/images/1141373_2.png'\n",
            "cannot identify image file '/home/ckm/visualqatickets/superuser/Data/images/1141373_2.png'\n",
            "cannot identify image file '/home/ckm/visualqatickets/superuser/Data/images/1141373_2.png'\n",
            "image file is truncated\n",
            "Something went wrong with the image of id 247087.0\n",
            "cannot identify image file '/home/ckm/visualqatickets/superuser/Data/images/1141373_2.png'\n",
            "image file is truncated\n",
            "Something went wrong with the image of id 247087\n",
            "cannot identify image file '/home/ckm/visualqatickets/superuser/Data/images/1141373_2.png'\n",
            "image file is truncated\n",
            "Something went wrong with the image of id 154842.0\n",
            "image file is truncated\n",
            "Something went wrong with the image of id 247087.0\n",
            "OCloss is 0.3105642511726 and BCEloss is 0.536716917141378 and MNRloss is 0.0 and Cosloss is 0.13807424623964468  and time taken is 170512.3039045334 after 110000 iterations\n",
            "cannot identify image file '/home/ckm/visualqatickets/superuser/Data/images/1141373_2.png'\n",
            "cannot identify image file '/home/ckm/visualqatickets/superuser/Data/images/1141373_2.png'\n",
            "image file is truncated\n",
            "Something went wrong with the image of id 154842.0\n",
            "cannot identify image file '/home/ckm/visualqatickets/superuser/Data/images/1141373_2.png'\n",
            "image file is truncated\n",
            "Something went wrong with the image of id 247087.0\n",
            "image file is truncated\n",
            "Something went wrong with the image of id 247087\n",
            "cannot identify image file '/home/ckm/visualqatickets/superuser/Data/images/1141373_2.png'\n",
            "1 Epoch completed. OCloss is 0.31006769554869934 and BCEloss is 0.5366245314853885 and MNRloss is 0.0 and Cosloss is 0.13792414567493452\n"
          ]
        },
        {
          "output_type": "display_data",
          "data": {
            "text/plain": "<Figure size 432x288 with 1 Axes>",
            "image/svg+xml": "<?xml version=\"1.0\" encoding=\"utf-8\" standalone=\"no\"?>\n<!DOCTYPE svg PUBLIC \"-//W3C//DTD SVG 1.1//EN\"\n  \"http://www.w3.org/Graphics/SVG/1.1/DTD/svg11.dtd\">\n<svg height=\"248.518125pt\" version=\"1.1\" viewBox=\"0 0 388.0125 248.518125\" width=\"388.0125pt\" xmlns=\"http://www.w3.org/2000/svg\" xmlns:xlink=\"http://www.w3.org/1999/xlink\">\n <metadata>\n  <rdf:RDF xmlns:cc=\"http://creativecommons.org/ns#\" xmlns:dc=\"http://purl.org/dc/elements/1.1/\" xmlns:rdf=\"http://www.w3.org/1999/02/22-rdf-syntax-ns#\">\n   <cc:Work>\n    <dc:type rdf:resource=\"http://purl.org/dc/dcmitype/StillImage\"/>\n    <dc:date>2021-05-15T03:02:03.703484</dc:date>\n    <dc:format>image/svg+xml</dc:format>\n    <dc:creator>\n     <cc:Agent>\n      <dc:title>Matplotlib v3.4.1, https://matplotlib.org/</dc:title>\n     </cc:Agent>\n    </dc:creator>\n   </cc:Work>\n  </rdf:RDF>\n </metadata>\n <defs>\n  <style type=\"text/css\">*{stroke-linecap:butt;stroke-linejoin:round;}</style>\n </defs>\n <g id=\"figure_1\">\n  <g id=\"patch_1\">\n   <path d=\"M 0 248.518125 \nL 388.0125 248.518125 \nL 388.0125 0 \nL 0 0 \nz\n\" style=\"fill:none;\"/>\n  </g>\n  <g id=\"axes_1\">\n   <g id=\"patch_2\">\n    <path d=\"M 46.0125 224.64 \nL 380.8125 224.64 \nL 380.8125 7.2 \nL 46.0125 7.2 \nz\n\" style=\"fill:#ffffff;\"/>\n   </g>\n   <g id=\"patch_3\">\n    <path clip-path=\"url(#pffc6de36ed)\" d=\"M 61.230682 224.64 \nL 64.575337 224.64 \nL 64.575337 224.624975 \nL 61.230682 224.624975 \nz\n\" style=\"fill:#1f77b4;\"/>\n   </g>\n   <g id=\"patch_4\">\n    <path clip-path=\"url(#pffc6de36ed)\" d=\"M 64.575348 224.64 \nL 67.920003 224.64 \nL 67.920003 224.617463 \nL 64.575348 224.617463 \nz\n\" style=\"fill:#1f77b4;\"/>\n   </g>\n   <g id=\"patch_5\">\n    <path clip-path=\"url(#pffc6de36ed)\" d=\"M 67.919993 224.64 \nL 71.264648 224.64 \nL 71.264648 224.5799 \nL 67.919993 224.5799 \nz\n\" style=\"fill:#1f77b4;\"/>\n   </g>\n   <g id=\"patch_6\">\n    <path clip-path=\"url(#pffc6de36ed)\" d=\"M 71.264659 224.64 \nL 74.609314 224.64 \nL 74.609314 224.542338 \nL 71.264659 224.542338 \nz\n\" style=\"fill:#1f77b4;\"/>\n   </g>\n   <g id=\"patch_7\">\n    <path clip-path=\"url(#pffc6de36ed)\" d=\"M 74.609303 224.64 \nL 77.953959 224.64 \nL 77.953959 224.497263 \nL 74.609303 224.497263 \nz\n\" style=\"fill:#1f77b4;\"/>\n   </g>\n   <g id=\"patch_8\">\n    <path clip-path=\"url(#pffc6de36ed)\" d=\"M 77.953969 224.64 \nL 81.298625 224.64 \nL 81.298625 224.467213 \nL 77.953969 224.467213 \nz\n\" style=\"fill:#1f77b4;\"/>\n   </g>\n   <g id=\"patch_9\">\n    <path clip-path=\"url(#pffc6de36ed)\" d=\"M 81.298614 224.64 \nL 84.643269 224.64 \nL 84.643269 224.256863 \nL 81.298614 224.256863 \nz\n\" style=\"fill:#1f77b4;\"/>\n   </g>\n   <g id=\"patch_10\">\n    <path clip-path=\"url(#pffc6de36ed)\" d=\"M 84.64328 224.64 \nL 87.987935 224.64 \nL 87.987935 224.215544 \nL 84.64328 224.215544 \nz\n\" style=\"fill:#1f77b4;\"/>\n   </g>\n   <g id=\"patch_11\">\n    <path clip-path=\"url(#pffc6de36ed)\" d=\"M 87.987925 224.64 \nL 91.33258 224.64 \nL 91.33258 223.776063 \nL 87.987925 223.776063 \nz\n\" style=\"fill:#1f77b4;\"/>\n   </g>\n   <g id=\"patch_12\">\n    <path clip-path=\"url(#pffc6de36ed)\" d=\"M 91.332591 224.64 \nL 94.677246 224.64 \nL 94.677246 223.453026 \nL 91.332591 223.453026 \nz\n\" style=\"fill:#1f77b4;\"/>\n   </g>\n   <g id=\"patch_13\">\n    <path clip-path=\"url(#pffc6de36ed)\" d=\"M 94.677246 224.64 \nL 98.021901 224.64 \nL 98.021901 222.882076 \nL 94.677246 222.882076 \nz\n\" style=\"fill:#1f77b4;\"/>\n   </g>\n   <g id=\"patch_14\">\n    <path clip-path=\"url(#pffc6de36ed)\" d=\"M 98.021901 224.64 \nL 101.366557 224.64 \nL 101.366557 222.06697 \nL 98.021901 222.06697 \nz\n\" style=\"fill:#1f77b4;\"/>\n   </g>\n   <g id=\"patch_15\">\n    <path clip-path=\"url(#pffc6de36ed)\" d=\"M 101.366557 224.64 \nL 104.711212 224.64 \nL 104.711212 221.390845 \nL 101.366557 221.390845 \nz\n\" style=\"fill:#1f77b4;\"/>\n   </g>\n   <g id=\"patch_16\">\n    <path clip-path=\"url(#pffc6de36ed)\" d=\"M 104.711212 224.64 \nL 108.055867 224.64 \nL 108.055867 219.783171 \nL 104.711212 219.783171 \nz\n\" style=\"fill:#1f77b4;\"/>\n   </g>\n   <g id=\"patch_17\">\n    <path clip-path=\"url(#pffc6de36ed)\" d=\"M 108.055867 224.64 \nL 111.400523 224.64 \nL 111.400523 218.299453 \nL 108.055867 218.299453 \nz\n\" style=\"fill:#1f77b4;\"/>\n   </g>\n   <g id=\"patch_18\">\n    <path clip-path=\"url(#pffc6de36ed)\" d=\"M 111.400523 224.64 \nL 114.745178 224.64 \nL 114.745178 216.38001 \nL 111.400523 216.38001 \nz\n\" style=\"fill:#1f77b4;\"/>\n   </g>\n   <g id=\"patch_19\">\n    <path clip-path=\"url(#pffc6de36ed)\" d=\"M 114.745178 224.64 \nL 118.089833 224.64 \nL 118.089833 214.141287 \nL 114.745178 214.141287 \nz\n\" style=\"fill:#1f77b4;\"/>\n   </g>\n   <g id=\"patch_20\">\n    <path clip-path=\"url(#pffc6de36ed)\" d=\"M 118.089833 224.64 \nL 121.434489 224.64 \nL 121.434489 211.71475 \nL 118.089833 211.71475 \nz\n\" style=\"fill:#1f77b4;\"/>\n   </g>\n   <g id=\"patch_21\">\n    <path clip-path=\"url(#pffc6de36ed)\" d=\"M 121.434489 224.64 \nL 124.779144 224.64 \nL 124.779144 208.758583 \nL 121.434489 208.758583 \nz\n\" style=\"fill:#1f77b4;\"/>\n   </g>\n   <g id=\"patch_22\">\n    <path clip-path=\"url(#pffc6de36ed)\" d=\"M 124.779144 224.64 \nL 128.1238 224.64 \nL 128.1238 205.31786 \nL 124.779144 205.31786 \nz\n\" style=\"fill:#1f77b4;\"/>\n   </g>\n   <g id=\"patch_23\">\n    <path clip-path=\"url(#pffc6de36ed)\" d=\"M 128.1238 224.64 \nL 131.468455 224.64 \nL 131.468455 201.854599 \nL 128.1238 201.854599 \nz\n\" style=\"fill:#1f77b4;\"/>\n   </g>\n   <g id=\"patch_24\">\n    <path clip-path=\"url(#pffc6de36ed)\" d=\"M 131.468455 224.64 \nL 134.81311 224.64 \nL 134.81311 198.196013 \nL 131.468455 198.196013 \nz\n\" style=\"fill:#1f77b4;\"/>\n   </g>\n   <g id=\"patch_25\">\n    <path clip-path=\"url(#pffc6de36ed)\" d=\"M 134.81311 224.64 \nL 138.157755 224.64 \nL 138.157755 194.233172 \nL 134.81311 194.233172 \nz\n\" style=\"fill:#1f77b4;\"/>\n   </g>\n   <g id=\"patch_26\">\n    <path clip-path=\"url(#pffc6de36ed)\" d=\"M 138.15776 224.64 \nL 141.502415 224.64 \nL 141.502415 189.582936 \nL 138.15776 189.582936 \nz\n\" style=\"fill:#1f77b4;\"/>\n   </g>\n   <g id=\"patch_27\">\n    <path clip-path=\"url(#pffc6de36ed)\" d=\"M 141.502415 224.64 \nL 144.847071 224.64 \nL 144.847071 185.041632 \nL 141.502415 185.041632 \nz\n\" style=\"fill:#1f77b4;\"/>\n   </g>\n   <g id=\"patch_28\">\n    <path clip-path=\"url(#pffc6de36ed)\" d=\"M 144.847074 224.64 \nL 148.191729 224.64 \nL 148.191729 182.051659 \nL 144.847074 182.051659 \nz\n\" style=\"fill:#1f77b4;\"/>\n   </g>\n   <g id=\"patch_29\">\n    <path clip-path=\"url(#pffc6de36ed)\" d=\"M 148.191729 224.64 \nL 151.536384 224.64 \nL 151.536384 177.187318 \nL 148.191729 177.187318 \nz\n\" style=\"fill:#1f77b4;\"/>\n   </g>\n   <g id=\"patch_30\">\n    <path clip-path=\"url(#pffc6de36ed)\" d=\"M 151.536384 224.64 \nL 154.88104 224.64 \nL 154.88104 174.227394 \nL 151.536384 174.227394 \nz\n\" style=\"fill:#1f77b4;\"/>\n   </g>\n   <g id=\"patch_31\">\n    <path clip-path=\"url(#pffc6de36ed)\" d=\"M 154.88104 224.64 \nL 158.225695 224.64 \nL 158.225695 170.568809 \nL 154.88104 170.568809 \nz\n\" style=\"fill:#1f77b4;\"/>\n   </g>\n   <g id=\"patch_32\">\n    <path clip-path=\"url(#pffc6de36ed)\" d=\"M 158.225695 224.64 \nL 161.57035 224.64 \nL 161.57035 168.953622 \nL 158.225695 168.953622 \nz\n\" style=\"fill:#1f77b4;\"/>\n   </g>\n   <g id=\"patch_33\">\n    <path clip-path=\"url(#pffc6de36ed)\" d=\"M 161.57035 224.64 \nL 164.915006 224.64 \nL 164.915006 167.38351 \nL 161.57035 167.38351 \nz\n\" style=\"fill:#1f77b4;\"/>\n   </g>\n   <g id=\"patch_34\">\n    <path clip-path=\"url(#pffc6de36ed)\" d=\"M 164.915004 224.64 \nL 168.25966 224.64 \nL 168.25966 166.805048 \nL 164.915004 166.805048 \nz\n\" style=\"fill:#1f77b4;\"/>\n   </g>\n   <g id=\"patch_35\">\n    <path clip-path=\"url(#pffc6de36ed)\" d=\"M 168.25966 224.64 \nL 171.604315 224.64 \nL 171.604315 165.730761 \nL 168.25966 165.730761 \nz\n\" style=\"fill:#1f77b4;\"/>\n   </g>\n   <g id=\"patch_36\">\n    <path clip-path=\"url(#pffc6de36ed)\" d=\"M 171.604315 224.64 \nL 174.94897 224.64 \nL 174.94897 164.99078 \nL 171.604315 164.99078 \nz\n\" style=\"fill:#1f77b4;\"/>\n   </g>\n   <g id=\"patch_37\">\n    <path clip-path=\"url(#pffc6de36ed)\" d=\"M 174.94897 224.64 \nL 178.293626 224.64 \nL 178.293626 165.614317 \nL 174.94897 165.614317 \nz\n\" style=\"fill:#1f77b4;\"/>\n   </g>\n   <g id=\"patch_38\">\n    <path clip-path=\"url(#pffc6de36ed)\" d=\"M 178.293626 224.64 \nL 181.638281 224.64 \nL 181.638281 166.549623 \nL 178.293626 166.549623 \nz\n\" style=\"fill:#1f77b4;\"/>\n   </g>\n   <g id=\"patch_39\">\n    <path clip-path=\"url(#pffc6de36ed)\" d=\"M 181.638281 224.64 \nL 184.982936 224.64 \nL 184.982936 167.210723 \nL 181.638281 167.210723 \nz\n\" style=\"fill:#1f77b4;\"/>\n   </g>\n   <g id=\"patch_40\">\n    <path clip-path=\"url(#pffc6de36ed)\" d=\"M 184.982936 224.64 \nL 188.327591 224.64 \nL 188.327591 170.091765 \nL 184.982936 170.091765 \nz\n\" style=\"fill:#1f77b4;\"/>\n   </g>\n   <g id=\"patch_41\">\n    <path clip-path=\"url(#pffc6de36ed)\" d=\"M 188.327591 224.64 \nL 191.672246 224.64 \nL 191.672246 172.567133 \nL 188.327591 172.567133 \nz\n\" style=\"fill:#1f77b4;\"/>\n   </g>\n   <g id=\"patch_42\">\n    <path clip-path=\"url(#pffc6de36ed)\" d=\"M 191.672246 224.64 \nL 195.016902 224.64 \nL 195.016902 173.397263 \nL 191.672246 173.397263 \nz\n\" style=\"fill:#1f77b4;\"/>\n   </g>\n   <g id=\"patch_43\">\n    <path clip-path=\"url(#pffc6de36ed)\" d=\"M 195.016901 224.64 \nL 198.361556 224.64 \nL 198.361556 176.270793 \nL 195.016901 176.270793 \nz\n\" style=\"fill:#1f77b4;\"/>\n   </g>\n   <g id=\"patch_44\">\n    <path clip-path=\"url(#pffc6de36ed)\" d=\"M 198.361556 224.64 \nL 201.706212 224.64 \nL 201.706212 179.482385 \nL 198.361556 179.482385 \nz\n\" style=\"fill:#1f77b4;\"/>\n   </g>\n   <g id=\"patch_45\">\n    <path clip-path=\"url(#pffc6de36ed)\" d=\"M 201.706212 224.64 \nL 205.050867 224.64 \nL 205.050867 181.168941 \nL 201.706212 181.168941 \nz\n\" style=\"fill:#1f77b4;\"/>\n   </g>\n   <g id=\"patch_46\">\n    <path clip-path=\"url(#pffc6de36ed)\" d=\"M 205.050867 224.64 \nL 208.395522 224.64 \nL 208.395522 182.645146 \nL 205.050867 182.645146 \nz\n\" style=\"fill:#1f77b4;\"/>\n   </g>\n   <g id=\"patch_47\">\n    <path clip-path=\"url(#pffc6de36ed)\" d=\"M 208.395522 224.64 \nL 211.740178 224.64 \nL 211.740178 185.469845 \nL 208.395522 185.469845 \nz\n\" style=\"fill:#1f77b4;\"/>\n   </g>\n   <g id=\"patch_48\">\n    <path clip-path=\"url(#pffc6de36ed)\" d=\"M 211.740178 224.64 \nL 215.084833 224.64 \nL 215.084833 187.592125 \nL 211.740178 187.592125 \nz\n\" style=\"fill:#1f77b4;\"/>\n   </g>\n   <g id=\"patch_49\">\n    <path clip-path=\"url(#pffc6de36ed)\" d=\"M 215.084833 224.64 \nL 218.429488 224.64 \nL 218.429488 190.597123 \nL 215.084833 190.597123 \nz\n\" style=\"fill:#1f77b4;\"/>\n   </g>\n   <g id=\"patch_50\">\n    <path clip-path=\"url(#pffc6de36ed)\" d=\"M 218.429488 224.64 \nL 221.774144 224.64 \nL 221.774144 192.381341 \nL 218.429488 192.381341 \nz\n\" style=\"fill:#1f77b4;\"/>\n   </g>\n   <g id=\"patch_51\">\n    <path clip-path=\"url(#pffc6de36ed)\" d=\"M 221.774144 224.64 \nL 225.118799 224.64 \nL 225.118799 194.06414 \nL 221.774144 194.06414 \nz\n\" style=\"fill:#1f77b4;\"/>\n   </g>\n   <g id=\"patch_52\">\n    <path clip-path=\"url(#pffc6de36ed)\" d=\"M 225.118799 224.64 \nL 228.463454 224.64 \nL 228.463454 195.761965 \nL 225.118799 195.761965 \nz\n\" style=\"fill:#1f77b4;\"/>\n   </g>\n   <g id=\"patch_53\">\n    <path clip-path=\"url(#pffc6de36ed)\" d=\"M 228.463454 224.64 \nL 231.80811 224.64 \nL 231.80811 197.805364 \nL 228.463454 197.805364 \nz\n\" style=\"fill:#1f77b4;\"/>\n   </g>\n   <g id=\"patch_54\">\n    <path clip-path=\"url(#pffc6de36ed)\" d=\"M 231.80811 224.64 \nL 235.152765 224.64 \nL 235.152765 199.473138 \nL 231.80811 199.473138 \nz\n\" style=\"fill:#1f77b4;\"/>\n   </g>\n   <g id=\"patch_55\">\n    <path clip-path=\"url(#pffc6de36ed)\" d=\"M 235.152765 224.64 \nL 238.49742 224.64 \nL 238.49742 200.663868 \nL 235.152765 200.663868 \nz\n\" style=\"fill:#1f77b4;\"/>\n   </g>\n   <g id=\"patch_56\">\n    <path clip-path=\"url(#pffc6de36ed)\" d=\"M 238.49742 224.64 \nL 241.842076 224.64 \nL 241.842076 202.106268 \nL 238.49742 202.106268 \nz\n\" style=\"fill:#1f77b4;\"/>\n   </g>\n   <g id=\"patch_57\">\n    <path clip-path=\"url(#pffc6de36ed)\" d=\"M 241.842076 224.64 \nL 245.186731 224.64 \nL 245.186731 203.203092 \nL 241.842076 203.203092 \nz\n\" style=\"fill:#1f77b4;\"/>\n   </g>\n   <g id=\"patch_58\">\n    <path clip-path=\"url(#pffc6de36ed)\" d=\"M 245.186731 224.64 \nL 248.531387 224.64 \nL 248.531387 204.08581 \nL 245.186731 204.08581 \nz\n\" style=\"fill:#1f77b4;\"/>\n   </g>\n   <g id=\"patch_59\">\n    <path clip-path=\"url(#pffc6de36ed)\" d=\"M 248.531387 224.64 \nL 251.876042 224.64 \nL 251.876042 205.325372 \nL 248.531387 205.325372 \nz\n\" style=\"fill:#1f77b4;\"/>\n   </g>\n   <g id=\"patch_60\">\n    <path clip-path=\"url(#pffc6de36ed)\" d=\"M 251.876042 224.64 \nL 255.220697 224.64 \nL 255.220697 205.753585 \nL 251.876042 205.753585 \nz\n\" style=\"fill:#1f77b4;\"/>\n   </g>\n   <g id=\"patch_61\">\n    <path clip-path=\"url(#pffc6de36ed)\" d=\"M 255.220697 224.64 \nL 258.565353 224.64 \nL 258.565353 206.602497 \nL 255.220697 206.602497 \nz\n\" style=\"fill:#1f77b4;\"/>\n   </g>\n   <g id=\"patch_62\">\n    <path clip-path=\"url(#pffc6de36ed)\" d=\"M 258.565353 224.64 \nL 261.910008 224.64 \nL 261.910008 207.413846 \nL 258.565353 207.413846 \nz\n\" style=\"fill:#1f77b4;\"/>\n   </g>\n   <g id=\"patch_63\">\n    <path clip-path=\"url(#pffc6de36ed)\" d=\"M 261.910008 224.64 \nL 265.254663 224.64 \nL 265.254663 207.778202 \nL 261.910008 207.778202 \nz\n\" style=\"fill:#1f77b4;\"/>\n   </g>\n   <g id=\"patch_64\">\n    <path clip-path=\"url(#pffc6de36ed)\" d=\"M 265.254663 224.64 \nL 268.599319 224.64 \nL 268.599319 207.635465 \nL 265.254663 207.635465 \nz\n\" style=\"fill:#1f77b4;\"/>\n   </g>\n   <g id=\"patch_65\">\n    <path clip-path=\"url(#pffc6de36ed)\" d=\"M 268.599319 224.64 \nL 271.943974 224.64 \nL 271.943974 208.266515 \nL 268.599319 208.266515 \nz\n\" style=\"fill:#1f77b4;\"/>\n   </g>\n   <g id=\"patch_66\">\n    <path clip-path=\"url(#pffc6de36ed)\" d=\"M 271.943974 224.64 \nL 275.288629 224.64 \nL 275.288629 207.894646 \nL 271.943974 207.894646 \nz\n\" style=\"fill:#1f77b4;\"/>\n   </g>\n   <g id=\"patch_67\">\n    <path clip-path=\"url(#pffc6de36ed)\" d=\"M 275.288635 224.64 \nL 278.633279 224.64 \nL 278.633279 207.845815 \nL 275.288635 207.845815 \nz\n\" style=\"fill:#1f77b4;\"/>\n   </g>\n   <g id=\"patch_68\">\n    <path clip-path=\"url(#pffc6de36ed)\" d=\"M 278.633268 224.64 \nL 281.977924 224.64 \nL 281.977924 207.165934 \nL 278.633268 207.165934 \nz\n\" style=\"fill:#1f77b4;\"/>\n   </g>\n   <g id=\"patch_69\">\n    <path clip-path=\"url(#pffc6de36ed)\" d=\"M 281.977935 224.64 \nL 285.32259 224.64 \nL 285.32259 207.353746 \nL 281.977935 207.353746 \nz\n\" style=\"fill:#1f77b4;\"/>\n   </g>\n   <g id=\"patch_70\">\n    <path clip-path=\"url(#pffc6de36ed)\" d=\"M 285.322579 224.64 \nL 288.667234 224.64 \nL 288.667234 206.061597 \nL 285.322579 206.061597 \nz\n\" style=\"fill:#1f77b4;\"/>\n   </g>\n   <g id=\"patch_71\">\n    <path clip-path=\"url(#pffc6de36ed)\" d=\"M 288.667245 224.64 \nL 292.011901 224.64 \nL 292.011901 205.374203 \nL 288.667245 205.374203 \nz\n\" style=\"fill:#1f77b4;\"/>\n   </g>\n   <g id=\"patch_72\">\n    <path clip-path=\"url(#pffc6de36ed)\" d=\"M 292.01189 224.64 \nL 295.356545 224.64 \nL 295.356545 204.483973 \nL 292.01189 204.483973 \nz\n\" style=\"fill:#1f77b4;\"/>\n   </g>\n   <g id=\"patch_73\">\n    <path clip-path=\"url(#pffc6de36ed)\" d=\"M 295.356556 224.64 \nL 298.701211 224.64 \nL 298.701211 203.049086 \nL 295.356556 203.049086 \nz\n\" style=\"fill:#1f77b4;\"/>\n   </g>\n   <g id=\"patch_74\">\n    <path clip-path=\"url(#pffc6de36ed)\" d=\"M 298.7012 224.64 \nL 302.045856 224.64 \nL 302.045856 202.316618 \nL 298.7012 202.316618 \nz\n\" style=\"fill:#1f77b4;\"/>\n   </g>\n   <g id=\"patch_75\">\n    <path clip-path=\"url(#pffc6de36ed)\" d=\"M 302.045867 224.64 \nL 305.390522 224.64 \nL 305.390522 200.239412 \nL 302.045867 200.239412 \nz\n\" style=\"fill:#1f77b4;\"/>\n   </g>\n   <g id=\"patch_76\">\n    <path clip-path=\"url(#pffc6de36ed)\" d=\"M 305.390511 224.64 \nL 308.735167 224.64 \nL 308.735167 198.353776 \nL 305.390511 198.353776 \nz\n\" style=\"fill:#1f77b4;\"/>\n   </g>\n   <g id=\"patch_77\">\n    <path clip-path=\"url(#pffc6de36ed)\" d=\"M 308.735177 224.64 \nL 312.079833 224.64 \nL 312.079833 196.156371 \nL 308.735177 196.156371 \nz\n\" style=\"fill:#1f77b4;\"/>\n   </g>\n   <g id=\"patch_78\">\n    <path clip-path=\"url(#pffc6de36ed)\" d=\"M 312.079822 224.64 \nL 315.424477 224.64 \nL 315.424477 192.670572 \nL 312.079822 192.670572 \nz\n\" style=\"fill:#1f77b4;\"/>\n   </g>\n   <g id=\"patch_79\">\n    <path clip-path=\"url(#pffc6de36ed)\" d=\"M 315.424488 224.64 \nL 318.769143 224.64 \nL 318.769143 189.575424 \nL 315.424488 189.575424 \nz\n\" style=\"fill:#1f77b4;\"/>\n   </g>\n   <g id=\"patch_80\">\n    <path clip-path=\"url(#pffc6de36ed)\" d=\"M 318.769133 224.64 \nL 322.113788 224.64 \nL 322.113788 185.481114 \nL 318.769133 185.481114 \nz\n\" style=\"fill:#1f77b4;\"/>\n   </g>\n   <g id=\"patch_81\">\n    <path clip-path=\"url(#pffc6de36ed)\" d=\"M 322.113799 224.64 \nL 325.458454 224.64 \nL 325.458454 180.530379 \nL 322.113799 180.530379 \nz\n\" style=\"fill:#1f77b4;\"/>\n   </g>\n   <g id=\"patch_82\">\n    <path clip-path=\"url(#pffc6de36ed)\" d=\"M 325.458443 224.64 \nL 328.803099 224.64 \nL 328.803099 174.554188 \nL 325.458443 174.554188 \nz\n\" style=\"fill:#1f77b4;\"/>\n   </g>\n   <g id=\"patch_83\">\n    <path clip-path=\"url(#pffc6de36ed)\" d=\"M 328.803109 224.64 \nL 332.147765 224.64 \nL 332.147765 167.131842 \nL 328.803109 167.131842 \nz\n\" style=\"fill:#1f77b4;\"/>\n   </g>\n   <g id=\"patch_84\">\n    <path clip-path=\"url(#pffc6de36ed)\" d=\"M 332.147754 224.64 \nL 335.492409 224.64 \nL 335.492409 158.364758 \nL 332.147754 158.364758 \nz\n\" style=\"fill:#1f77b4;\"/>\n   </g>\n   <g id=\"patch_85\">\n    <path clip-path=\"url(#pffc6de36ed)\" d=\"M 335.49242 224.64 \nL 338.837075 224.64 \nL 338.837075 148.534657 \nL 335.49242 148.534657 \nz\n\" style=\"fill:#1f77b4;\"/>\n   </g>\n   <g id=\"patch_86\">\n    <path clip-path=\"url(#pffc6de36ed)\" d=\"M 338.837065 224.64 \nL 342.18172 224.64 \nL 342.18172 135.598139 \nL 338.837065 135.598139 \nz\n\" style=\"fill:#1f77b4;\"/>\n   </g>\n   <g id=\"patch_87\">\n    <path clip-path=\"url(#pffc6de36ed)\" d=\"M 342.181731 224.64 \nL 345.526386 224.64 \nL 345.526386 119.202116 \nL 342.181731 119.202116 \nz\n\" style=\"fill:#1f77b4;\"/>\n   </g>\n   <g id=\"patch_88\">\n    <path clip-path=\"url(#pffc6de36ed)\" d=\"M 345.526375 224.64 \nL 348.871031 224.64 \nL 348.871031 100.924212 \nL 345.526375 100.924212 \nz\n\" style=\"fill:#1f77b4;\"/>\n   </g>\n   <g id=\"patch_89\">\n    <path clip-path=\"url(#pffc6de36ed)\" d=\"M 348.871041 224.64 \nL 352.215697 224.64 \nL 352.215697 77.654255 \nL 348.871041 77.654255 \nz\n\" style=\"fill:#1f77b4;\"/>\n   </g>\n   <g id=\"patch_90\">\n    <path clip-path=\"url(#pffc6de36ed)\" d=\"M 352.215686 224.64 \nL 355.560341 224.64 \nL 355.560341 47.202352 \nL 352.215686 47.202352 \nz\n\" style=\"fill:#1f77b4;\"/>\n   </g>\n   <g id=\"patch_91\">\n    <path clip-path=\"url(#pffc6de36ed)\" d=\"M 355.560352 224.64 \nL 358.905007 224.64 \nL 358.905007 17.554286 \nL 355.560352 17.554286 \nz\n\" style=\"fill:#1f77b4;\"/>\n   </g>\n   <g id=\"patch_92\">\n    <path clip-path=\"url(#pffc6de36ed)\" d=\"M 358.904997 224.64 \nL 362.249652 224.64 \nL 362.249652 21.212871 \nL 358.904997 21.212871 \nz\n\" style=\"fill:#1f77b4;\"/>\n   </g>\n   <g id=\"patch_93\">\n    <path clip-path=\"url(#pffc6de36ed)\" d=\"M 362.249663 224.64 \nL 365.594318 224.64 \nL 365.594318 174.8622 \nL 362.249663 174.8622 \nz\n\" style=\"fill:#1f77b4;\"/>\n   </g>\n   <g id=\"matplotlib.axis_1\">\n    <g id=\"xtick_1\">\n     <g id=\"line2d_1\">\n      <defs>\n       <path d=\"M 0 0 \nL 0 3.5 \n\" id=\"m5b67d0899a\" style=\"stroke:#000000;stroke-width:0.8;\"/>\n      </defs>\n      <g>\n       <use style=\"stroke:#000000;stroke-width:0.8;\" x=\"50.851236\" xlink:href=\"#m5b67d0899a\" y=\"224.64\"/>\n      </g>\n     </g>\n     <g id=\"text_1\">\n      <!-- −0.75 -->\n      <g transform=\"translate(35.52858 239.238438)scale(0.1 -0.1)\">\n       <defs>\n        <path d=\"M 678 2272 \nL 4684 2272 \nL 4684 1741 \nL 678 1741 \nL 678 2272 \nz\n\" id=\"DejaVuSans-2212\" transform=\"scale(0.015625)\"/>\n        <path d=\"M 2034 4250 \nQ 1547 4250 1301 3770 \nQ 1056 3291 1056 2328 \nQ 1056 1369 1301 889 \nQ 1547 409 2034 409 \nQ 2525 409 2770 889 \nQ 3016 1369 3016 2328 \nQ 3016 3291 2770 3770 \nQ 2525 4250 2034 4250 \nz\nM 2034 4750 \nQ 2819 4750 3233 4129 \nQ 3647 3509 3647 2328 \nQ 3647 1150 3233 529 \nQ 2819 -91 2034 -91 \nQ 1250 -91 836 529 \nQ 422 1150 422 2328 \nQ 422 3509 836 4129 \nQ 1250 4750 2034 4750 \nz\n\" id=\"DejaVuSans-30\" transform=\"scale(0.015625)\"/>\n        <path d=\"M 684 794 \nL 1344 794 \nL 1344 0 \nL 684 0 \nL 684 794 \nz\n\" id=\"DejaVuSans-2e\" transform=\"scale(0.015625)\"/>\n        <path d=\"M 525 4666 \nL 3525 4666 \nL 3525 4397 \nL 1831 0 \nL 1172 0 \nL 2766 4134 \nL 525 4134 \nL 525 4666 \nz\n\" id=\"DejaVuSans-37\" transform=\"scale(0.015625)\"/>\n        <path d=\"M 691 4666 \nL 3169 4666 \nL 3169 4134 \nL 1269 4134 \nL 1269 2991 \nQ 1406 3038 1543 3061 \nQ 1681 3084 1819 3084 \nQ 2600 3084 3056 2656 \nQ 3513 2228 3513 1497 \nQ 3513 744 3044 326 \nQ 2575 -91 1722 -91 \nQ 1428 -91 1123 -41 \nQ 819 9 494 109 \nL 494 744 \nQ 775 591 1075 516 \nQ 1375 441 1709 441 \nQ 2250 441 2565 725 \nQ 2881 1009 2881 1497 \nQ 2881 1984 2565 2268 \nQ 2250 2553 1709 2553 \nQ 1456 2553 1204 2497 \nQ 953 2441 691 2322 \nL 691 4666 \nz\n\" id=\"DejaVuSans-35\" transform=\"scale(0.015625)\"/>\n       </defs>\n       <use xlink:href=\"#DejaVuSans-2212\"/>\n       <use x=\"83.789062\" xlink:href=\"#DejaVuSans-30\"/>\n       <use x=\"147.412109\" xlink:href=\"#DejaVuSans-2e\"/>\n       <use x=\"179.199219\" xlink:href=\"#DejaVuSans-37\"/>\n       <use x=\"242.822266\" xlink:href=\"#DejaVuSans-35\"/>\n      </g>\n     </g>\n    </g>\n    <g id=\"xtick_2\">\n     <g id=\"line2d_2\">\n      <g>\n       <use style=\"stroke:#000000;stroke-width:0.8;\" x=\"96.217589\" xlink:href=\"#m5b67d0899a\" y=\"224.64\"/>\n      </g>\n     </g>\n     <g id=\"text_2\">\n      <!-- −0.50 -->\n      <g transform=\"translate(80.894933 239.238438)scale(0.1 -0.1)\">\n       <use xlink:href=\"#DejaVuSans-2212\"/>\n       <use x=\"83.789062\" xlink:href=\"#DejaVuSans-30\"/>\n       <use x=\"147.412109\" xlink:href=\"#DejaVuSans-2e\"/>\n       <use x=\"179.199219\" xlink:href=\"#DejaVuSans-35\"/>\n       <use x=\"242.822266\" xlink:href=\"#DejaVuSans-30\"/>\n      </g>\n     </g>\n    </g>\n    <g id=\"xtick_3\">\n     <g id=\"line2d_3\">\n      <g>\n       <use style=\"stroke:#000000;stroke-width:0.8;\" x=\"141.583942\" xlink:href=\"#m5b67d0899a\" y=\"224.64\"/>\n      </g>\n     </g>\n     <g id=\"text_3\">\n      <!-- −0.25 -->\n      <g transform=\"translate(126.261286 239.238438)scale(0.1 -0.1)\">\n       <defs>\n        <path d=\"M 1228 531 \nL 3431 531 \nL 3431 0 \nL 469 0 \nL 469 531 \nQ 828 903 1448 1529 \nQ 2069 2156 2228 2338 \nQ 2531 2678 2651 2914 \nQ 2772 3150 2772 3378 \nQ 2772 3750 2511 3984 \nQ 2250 4219 1831 4219 \nQ 1534 4219 1204 4116 \nQ 875 4013 500 3803 \nL 500 4441 \nQ 881 4594 1212 4672 \nQ 1544 4750 1819 4750 \nQ 2544 4750 2975 4387 \nQ 3406 4025 3406 3419 \nQ 3406 3131 3298 2873 \nQ 3191 2616 2906 2266 \nQ 2828 2175 2409 1742 \nQ 1991 1309 1228 531 \nz\n\" id=\"DejaVuSans-32\" transform=\"scale(0.015625)\"/>\n       </defs>\n       <use xlink:href=\"#DejaVuSans-2212\"/>\n       <use x=\"83.789062\" xlink:href=\"#DejaVuSans-30\"/>\n       <use x=\"147.412109\" xlink:href=\"#DejaVuSans-2e\"/>\n       <use x=\"179.199219\" xlink:href=\"#DejaVuSans-32\"/>\n       <use x=\"242.822266\" xlink:href=\"#DejaVuSans-35\"/>\n      </g>\n     </g>\n    </g>\n    <g id=\"xtick_4\">\n     <g id=\"line2d_4\">\n      <g>\n       <use style=\"stroke:#000000;stroke-width:0.8;\" x=\"186.950296\" xlink:href=\"#m5b67d0899a\" y=\"224.64\"/>\n      </g>\n     </g>\n     <g id=\"text_4\">\n      <!-- 0.00 -->\n      <g transform=\"translate(175.817483 239.238438)scale(0.1 -0.1)\">\n       <use xlink:href=\"#DejaVuSans-30\"/>\n       <use x=\"63.623047\" xlink:href=\"#DejaVuSans-2e\"/>\n       <use x=\"95.410156\" xlink:href=\"#DejaVuSans-30\"/>\n       <use x=\"159.033203\" xlink:href=\"#DejaVuSans-30\"/>\n      </g>\n     </g>\n    </g>\n    <g id=\"xtick_5\">\n     <g id=\"line2d_5\">\n      <g>\n       <use style=\"stroke:#000000;stroke-width:0.8;\" x=\"232.316649\" xlink:href=\"#m5b67d0899a\" y=\"224.64\"/>\n      </g>\n     </g>\n     <g id=\"text_5\">\n      <!-- 0.25 -->\n      <g transform=\"translate(221.183836 239.238438)scale(0.1 -0.1)\">\n       <use xlink:href=\"#DejaVuSans-30\"/>\n       <use x=\"63.623047\" xlink:href=\"#DejaVuSans-2e\"/>\n       <use x=\"95.410156\" xlink:href=\"#DejaVuSans-32\"/>\n       <use x=\"159.033203\" xlink:href=\"#DejaVuSans-35\"/>\n      </g>\n     </g>\n    </g>\n    <g id=\"xtick_6\">\n     <g id=\"line2d_6\">\n      <g>\n       <use style=\"stroke:#000000;stroke-width:0.8;\" x=\"277.683002\" xlink:href=\"#m5b67d0899a\" y=\"224.64\"/>\n      </g>\n     </g>\n     <g id=\"text_6\">\n      <!-- 0.50 -->\n      <g transform=\"translate(266.550189 239.238438)scale(0.1 -0.1)\">\n       <use xlink:href=\"#DejaVuSans-30\"/>\n       <use x=\"63.623047\" xlink:href=\"#DejaVuSans-2e\"/>\n       <use x=\"95.410156\" xlink:href=\"#DejaVuSans-35\"/>\n       <use x=\"159.033203\" xlink:href=\"#DejaVuSans-30\"/>\n      </g>\n     </g>\n    </g>\n    <g id=\"xtick_7\">\n     <g id=\"line2d_7\">\n      <g>\n       <use style=\"stroke:#000000;stroke-width:0.8;\" x=\"323.049355\" xlink:href=\"#m5b67d0899a\" y=\"224.64\"/>\n      </g>\n     </g>\n     <g id=\"text_7\">\n      <!-- 0.75 -->\n      <g transform=\"translate(311.916543 239.238438)scale(0.1 -0.1)\">\n       <use xlink:href=\"#DejaVuSans-30\"/>\n       <use x=\"63.623047\" xlink:href=\"#DejaVuSans-2e\"/>\n       <use x=\"95.410156\" xlink:href=\"#DejaVuSans-37\"/>\n       <use x=\"159.033203\" xlink:href=\"#DejaVuSans-35\"/>\n      </g>\n     </g>\n    </g>\n    <g id=\"xtick_8\">\n     <g id=\"line2d_8\">\n      <g>\n       <use style=\"stroke:#000000;stroke-width:0.8;\" x=\"368.415708\" xlink:href=\"#m5b67d0899a\" y=\"224.64\"/>\n      </g>\n     </g>\n     <g id=\"text_8\">\n      <!-- 1.00 -->\n      <g transform=\"translate(357.282896 239.238438)scale(0.1 -0.1)\">\n       <defs>\n        <path d=\"M 794 531 \nL 1825 531 \nL 1825 4091 \nL 703 3866 \nL 703 4441 \nL 1819 4666 \nL 2450 4666 \nL 2450 531 \nL 3481 531 \nL 3481 0 \nL 794 0 \nL 794 531 \nz\n\" id=\"DejaVuSans-31\" transform=\"scale(0.015625)\"/>\n       </defs>\n       <use xlink:href=\"#DejaVuSans-31\"/>\n       <use x=\"63.623047\" xlink:href=\"#DejaVuSans-2e\"/>\n       <use x=\"95.410156\" xlink:href=\"#DejaVuSans-30\"/>\n       <use x=\"159.033203\" xlink:href=\"#DejaVuSans-30\"/>\n      </g>\n     </g>\n    </g>\n   </g>\n   <g id=\"matplotlib.axis_2\">\n    <g id=\"ytick_1\">\n     <g id=\"line2d_9\">\n      <defs>\n       <path d=\"M 0 0 \nL -3.5 0 \n\" id=\"mdd6e64fbd3\" style=\"stroke:#000000;stroke-width:0.8;\"/>\n      </defs>\n      <g>\n       <use style=\"stroke:#000000;stroke-width:0.8;\" x=\"46.0125\" xlink:href=\"#mdd6e64fbd3\" y=\"224.64\"/>\n      </g>\n     </g>\n     <g id=\"text_9\">\n      <!-- 0 -->\n      <g transform=\"translate(32.65 228.439219)scale(0.1 -0.1)\">\n       <use xlink:href=\"#DejaVuSans-30\"/>\n      </g>\n     </g>\n    </g>\n    <g id=\"ytick_2\">\n     <g id=\"line2d_10\">\n      <g>\n       <use style=\"stroke:#000000;stroke-width:0.8;\" x=\"46.0125\" xlink:href=\"#mdd6e64fbd3\" y=\"187.077519\"/>\n      </g>\n     </g>\n     <g id=\"text_10\">\n      <!-- 10000 -->\n      <g transform=\"translate(7.2 190.876738)scale(0.1 -0.1)\">\n       <use xlink:href=\"#DejaVuSans-31\"/>\n       <use x=\"63.623047\" xlink:href=\"#DejaVuSans-30\"/>\n       <use x=\"127.246094\" xlink:href=\"#DejaVuSans-30\"/>\n       <use x=\"190.869141\" xlink:href=\"#DejaVuSans-30\"/>\n       <use x=\"254.492188\" xlink:href=\"#DejaVuSans-30\"/>\n      </g>\n     </g>\n    </g>\n    <g id=\"ytick_3\">\n     <g id=\"line2d_11\">\n      <g>\n       <use style=\"stroke:#000000;stroke-width:0.8;\" x=\"46.0125\" xlink:href=\"#mdd6e64fbd3\" y=\"149.515038\"/>\n      </g>\n     </g>\n     <g id=\"text_11\">\n      <!-- 20000 -->\n      <g transform=\"translate(7.2 153.314257)scale(0.1 -0.1)\">\n       <use xlink:href=\"#DejaVuSans-32\"/>\n       <use x=\"63.623047\" xlink:href=\"#DejaVuSans-30\"/>\n       <use x=\"127.246094\" xlink:href=\"#DejaVuSans-30\"/>\n       <use x=\"190.869141\" xlink:href=\"#DejaVuSans-30\"/>\n       <use x=\"254.492188\" xlink:href=\"#DejaVuSans-30\"/>\n      </g>\n     </g>\n    </g>\n    <g id=\"ytick_4\">\n     <g id=\"line2d_12\">\n      <g>\n       <use style=\"stroke:#000000;stroke-width:0.8;\" x=\"46.0125\" xlink:href=\"#mdd6e64fbd3\" y=\"111.952557\"/>\n      </g>\n     </g>\n     <g id=\"text_12\">\n      <!-- 30000 -->\n      <g transform=\"translate(7.2 115.751776)scale(0.1 -0.1)\">\n       <defs>\n        <path d=\"M 2597 2516 \nQ 3050 2419 3304 2112 \nQ 3559 1806 3559 1356 \nQ 3559 666 3084 287 \nQ 2609 -91 1734 -91 \nQ 1441 -91 1130 -33 \nQ 819 25 488 141 \nL 488 750 \nQ 750 597 1062 519 \nQ 1375 441 1716 441 \nQ 2309 441 2620 675 \nQ 2931 909 2931 1356 \nQ 2931 1769 2642 2001 \nQ 2353 2234 1838 2234 \nL 1294 2234 \nL 1294 2753 \nL 1863 2753 \nQ 2328 2753 2575 2939 \nQ 2822 3125 2822 3475 \nQ 2822 3834 2567 4026 \nQ 2313 4219 1838 4219 \nQ 1578 4219 1281 4162 \nQ 984 4106 628 3988 \nL 628 4550 \nQ 988 4650 1302 4700 \nQ 1616 4750 1894 4750 \nQ 2613 4750 3031 4423 \nQ 3450 4097 3450 3541 \nQ 3450 3153 3228 2886 \nQ 3006 2619 2597 2516 \nz\n\" id=\"DejaVuSans-33\" transform=\"scale(0.015625)\"/>\n       </defs>\n       <use xlink:href=\"#DejaVuSans-33\"/>\n       <use x=\"63.623047\" xlink:href=\"#DejaVuSans-30\"/>\n       <use x=\"127.246094\" xlink:href=\"#DejaVuSans-30\"/>\n       <use x=\"190.869141\" xlink:href=\"#DejaVuSans-30\"/>\n       <use x=\"254.492188\" xlink:href=\"#DejaVuSans-30\"/>\n      </g>\n     </g>\n    </g>\n    <g id=\"ytick_5\">\n     <g id=\"line2d_13\">\n      <g>\n       <use style=\"stroke:#000000;stroke-width:0.8;\" x=\"46.0125\" xlink:href=\"#mdd6e64fbd3\" y=\"74.390076\"/>\n      </g>\n     </g>\n     <g id=\"text_13\">\n      <!-- 40000 -->\n      <g transform=\"translate(7.2 78.189295)scale(0.1 -0.1)\">\n       <defs>\n        <path d=\"M 2419 4116 \nL 825 1625 \nL 2419 1625 \nL 2419 4116 \nz\nM 2253 4666 \nL 3047 4666 \nL 3047 1625 \nL 3713 1625 \nL 3713 1100 \nL 3047 1100 \nL 3047 0 \nL 2419 0 \nL 2419 1100 \nL 313 1100 \nL 313 1709 \nL 2253 4666 \nz\n\" id=\"DejaVuSans-34\" transform=\"scale(0.015625)\"/>\n       </defs>\n       <use xlink:href=\"#DejaVuSans-34\"/>\n       <use x=\"63.623047\" xlink:href=\"#DejaVuSans-30\"/>\n       <use x=\"127.246094\" xlink:href=\"#DejaVuSans-30\"/>\n       <use x=\"190.869141\" xlink:href=\"#DejaVuSans-30\"/>\n       <use x=\"254.492188\" xlink:href=\"#DejaVuSans-30\"/>\n      </g>\n     </g>\n    </g>\n    <g id=\"ytick_6\">\n     <g id=\"line2d_14\">\n      <g>\n       <use style=\"stroke:#000000;stroke-width:0.8;\" x=\"46.0125\" xlink:href=\"#mdd6e64fbd3\" y=\"36.827595\"/>\n      </g>\n     </g>\n     <g id=\"text_14\">\n      <!-- 50000 -->\n      <g transform=\"translate(7.2 40.626813)scale(0.1 -0.1)\">\n       <use xlink:href=\"#DejaVuSans-35\"/>\n       <use x=\"63.623047\" xlink:href=\"#DejaVuSans-30\"/>\n       <use x=\"127.246094\" xlink:href=\"#DejaVuSans-30\"/>\n       <use x=\"190.869141\" xlink:href=\"#DejaVuSans-30\"/>\n       <use x=\"254.492188\" xlink:href=\"#DejaVuSans-30\"/>\n      </g>\n     </g>\n    </g>\n   </g>\n   <g id=\"patch_94\">\n    <path d=\"M 46.0125 224.64 \nL 46.0125 7.2 \n\" style=\"fill:none;stroke:#000000;stroke-linecap:square;stroke-linejoin:miter;stroke-width:0.8;\"/>\n   </g>\n   <g id=\"patch_95\">\n    <path d=\"M 380.8125 224.64 \nL 380.8125 7.2 \n\" style=\"fill:none;stroke:#000000;stroke-linecap:square;stroke-linejoin:miter;stroke-width:0.8;\"/>\n   </g>\n   <g id=\"patch_96\">\n    <path d=\"M 46.0125 224.64 \nL 380.8125 224.64 \n\" style=\"fill:none;stroke:#000000;stroke-linecap:square;stroke-linejoin:miter;stroke-width:0.8;\"/>\n   </g>\n   <g id=\"patch_97\">\n    <path d=\"M 46.0125 7.2 \nL 380.8125 7.2 \n\" style=\"fill:none;stroke:#000000;stroke-linecap:square;stroke-linejoin:miter;stroke-width:0.8;\"/>\n   </g>\n  </g>\n </g>\n <defs>\n  <clipPath id=\"pffc6de36ed\">\n   <rect height=\"217.44\" width=\"334.8\" x=\"46.0125\" y=\"7.2\"/>\n  </clipPath>\n </defs>\n</svg>\n",
            "image/png": "[encoded data removed]"
          },
          "metadata": {
            "needs_background": "light"
          }
        },
        {
          "output_type": "stream",
          "name": "stdout",
          "text": [
            "AUC and Bin_acc after training 1 on train dataloader is (0.9301026252592359, 0.7684317227712446) and confusion matrix is [[247868 212343]\n",
            " [   798 459415]]\n",
            "    0 iterations have been done in 0.6501374244689941 seconds\n",
            "/home/ckm/anaconda3/envs/visualqa/lib/python3.8/site-packages/PIL/Image.py:962: UserWarning: Palette images with Transparency expressed in bytes should be converted to RGBA images\n",
            "  warnings.warn(\n",
            "/home/ckm/anaconda3/envs/visualqa/lib/python3.8/site-packages/PIL/Image.py:962: UserWarning: Palette images with Transparency expressed in bytes should be converted to RGBA images\n",
            "  warnings.warn(\n",
            "/home/ckm/anaconda3/envs/visualqa/lib/python3.8/site-packages/PIL/Image.py:962: UserWarning: Palette images with Transparency expressed in bytes should be converted to RGBA images\n",
            "  warnings.warn(\n",
            "/home/ckm/anaconda3/envs/visualqa/lib/python3.8/site-packages/PIL/Image.py:962: UserWarning: Palette images with Transparency expressed in bytes should be converted to RGBA images\n",
            "  warnings.warn(\n",
            "cannot identify image file '/home/ckm/visualqatickets/superuser/Data/images/1141373_2.png'\n",
            "/home/ckm/anaconda3/envs/visualqa/lib/python3.8/site-packages/PIL/Image.py:962: UserWarning: Palette images with Transparency expressed in bytes should be converted to RGBA images\n",
            "  warnings.warn(\n",
            "    1000 iterations have been done in 257.9103615283966 seconds\n",
            "/home/ckm/anaconda3/envs/visualqa/lib/python3.8/site-packages/PIL/Image.py:962: UserWarning: Palette images with Transparency expressed in bytes should be converted to RGBA images\n",
            "  warnings.warn(\n",
            "image file is truncated\n",
            "Something went wrong with the image of id 154842.0\n",
            "/home/ckm/anaconda3/envs/visualqa/lib/python3.8/site-packages/PIL/Image.py:962: UserWarning: Palette images with Transparency expressed in bytes should be converted to RGBA images\n",
            "  warnings.warn(\n",
            "cannot identify image file '/home/ckm/visualqatickets/superuser/Data/images/1141373_2.png'\n",
            "    2000 iterations have been done in 516.7709674835205 seconds\n",
            "image file is truncated\n",
            "Something went wrong with the image of id 154842.0\n"
          ]
        },
        {
          "output_type": "display_data",
          "data": {
            "text/plain": "<Figure size 432x288 with 1 Axes>",
            "image/svg+xml": "<?xml version=\"1.0\" encoding=\"utf-8\" standalone=\"no\"?>\n<!DOCTYPE svg PUBLIC \"-//W3C//DTD SVG 1.1//EN\"\n  \"http://www.w3.org/Graphics/SVG/1.1/DTD/svg11.dtd\">\n<svg height=\"248.518125pt\" version=\"1.1\" viewBox=\"0 0 381.65 248.518125\" width=\"381.65pt\" xmlns=\"http://www.w3.org/2000/svg\" xmlns:xlink=\"http://www.w3.org/1999/xlink\">\n <metadata>\n  <rdf:RDF xmlns:cc=\"http://creativecommons.org/ns#\" xmlns:dc=\"http://purl.org/dc/elements/1.1/\" xmlns:rdf=\"http://www.w3.org/1999/02/22-rdf-syntax-ns#\">\n   <cc:Work>\n    <dc:type rdf:resource=\"http://purl.org/dc/dcmitype/StillImage\"/>\n    <dc:date>2021-05-15T03:14:07.330775</dc:date>\n    <dc:format>image/svg+xml</dc:format>\n    <dc:creator>\n     <cc:Agent>\n      <dc:title>Matplotlib v3.4.1, https://matplotlib.org/</dc:title>\n     </cc:Agent>\n    </dc:creator>\n   </cc:Work>\n  </rdf:RDF>\n </metadata>\n <defs>\n  <style type=\"text/css\">*{stroke-linecap:butt;stroke-linejoin:round;}</style>\n </defs>\n <g id=\"figure_1\">\n  <g id=\"patch_1\">\n   <path d=\"M -0 248.518125 \nL 381.65 248.518125 \nL 381.65 0 \nL -0 0 \nz\n\" style=\"fill:none;\"/>\n  </g>\n  <g id=\"axes_1\">\n   <g id=\"patch_2\">\n    <path d=\"M 39.65 224.64 \nL 374.45 224.64 \nL 374.45 7.2 \nL 39.65 7.2 \nz\n\" style=\"fill:#ffffff;\"/>\n   </g>\n   <g id=\"patch_3\">\n    <path clip-path=\"url(#p19da464c7b)\" d=\"M 54.868182 224.64 \nL 67.042732 224.64 \nL 67.042732 224.244893 \nL 54.868182 224.244893 \nz\n\" style=\"fill:#1f77b4;\"/>\n   </g>\n   <g id=\"patch_4\">\n    <path clip-path=\"url(#p19da464c7b)\" d=\"M 67.04272 224.64 \nL 79.217259 224.64 \nL 79.217259 222.713851 \nL 67.04272 222.713851 \nz\n\" style=\"fill:#1f77b4;\"/>\n   </g>\n   <g id=\"patch_5\">\n    <path clip-path=\"url(#p19da464c7b)\" d=\"M 79.21727 224.64 \nL 91.391809 224.64 \nL 91.391809 216.589685 \nL 79.21727 216.589685 \nz\n\" style=\"fill:#1f77b4;\"/>\n   </g>\n   <g id=\"patch_6\">\n    <path clip-path=\"url(#p19da464c7b)\" d=\"M 91.391809 224.64 \nL 103.566348 224.64 \nL 103.566348 211.897783 \nL 91.391809 211.897783 \nz\n\" style=\"fill:#1f77b4;\"/>\n   </g>\n   <g id=\"patch_7\">\n    <path clip-path=\"url(#p19da464c7b)\" d=\"M 103.566359 224.64 \nL 115.740898 224.64 \nL 115.740898 196.883699 \nL 103.566359 196.883699 \nz\n\" style=\"fill:#1f77b4;\"/>\n   </g>\n   <g id=\"patch_8\">\n    <path clip-path=\"url(#p19da464c7b)\" d=\"M 115.740898 224.64 \nL 127.915448 224.64 \nL 127.915448 177.128324 \nL 115.740898 177.128324 \nz\n\" style=\"fill:#1f77b4;\"/>\n   </g>\n   <g id=\"patch_9\">\n    <path clip-path=\"url(#p19da464c7b)\" d=\"M 127.915442 224.64 \nL 140.089992 224.64 \nL 140.089992 167.991463 \nL 127.915442 167.991463 \nz\n\" style=\"fill:#1f77b4;\"/>\n   </g>\n   <g id=\"patch_10\">\n    <path clip-path=\"url(#p19da464c7b)\" d=\"M 140.089989 224.64 \nL 152.264539 224.64 \nL 152.264539 163.299562 \nL 140.089989 163.299562 \nz\n\" style=\"fill:#1f77b4;\"/>\n   </g>\n   <g id=\"patch_11\">\n    <path clip-path=\"url(#p19da464c7b)\" d=\"M 152.264536 224.64 \nL 164.439086 224.64 \nL 164.439086 162.311793 \nL 152.264536 162.311793 \nz\n\" style=\"fill:#1f77b4;\"/>\n   </g>\n   <g id=\"patch_12\">\n    <path clip-path=\"url(#p19da464c7b)\" d=\"M 164.439081 224.64 \nL 176.613631 224.64 \nL 176.613631 168.435959 \nL 164.439081 168.435959 \nz\n\" style=\"fill:#1f77b4;\"/>\n   </g>\n   <g id=\"patch_13\">\n    <path clip-path=\"url(#p19da464c7b)\" d=\"M 176.613628 224.64 \nL 188.788178 224.64 \nL 188.788178 173.671134 \nL 176.613628 173.671134 \nz\n\" style=\"fill:#1f77b4;\"/>\n   </g>\n   <g id=\"patch_14\">\n    <path clip-path=\"url(#p19da464c7b)\" d=\"M 188.788175 224.64 \nL 200.962725 224.64 \nL 200.962725 183.301879 \nL 188.788175 183.301879 \nz\n\" style=\"fill:#1f77b4;\"/>\n   </g>\n   <g id=\"patch_15\">\n    <path clip-path=\"url(#p19da464c7b)\" d=\"M 200.962725 224.64 \nL 213.137264 224.64 \nL 213.137264 194.3155 \nL 200.962725 194.3155 \nz\n\" style=\"fill:#1f77b4;\"/>\n   </g>\n   <g id=\"patch_16\">\n    <path clip-path=\"url(#p19da464c7b)\" d=\"M 213.137264 224.64 \nL 225.311814 224.64 \nL 225.311814 199.600063 \nL 213.137264 199.600063 \nz\n\" style=\"fill:#1f77b4;\"/>\n   </g>\n   <g id=\"patch_17\">\n    <path clip-path=\"url(#p19da464c7b)\" d=\"M 225.311814 224.64 \nL 237.486352 224.64 \nL 237.486352 200.982939 \nL 225.311814 200.982939 \nz\n\" style=\"fill:#1f77b4;\"/>\n   </g>\n   <g id=\"patch_18\">\n    <path clip-path=\"url(#p19da464c7b)\" d=\"M 237.486364 224.64 \nL 249.660902 224.64 \nL 249.660902 204.193187 \nL 237.486364 204.193187 \nz\n\" style=\"fill:#1f77b4;\"/>\n   </g>\n   <g id=\"patch_19\">\n    <path clip-path=\"url(#p19da464c7b)\" d=\"M 249.660902 224.64 \nL 261.835452 224.64 \nL 261.835452 207.699766 \nL 249.660902 207.699766 \nz\n\" style=\"fill:#1f77b4;\"/>\n   </g>\n   <g id=\"patch_20\">\n    <path clip-path=\"url(#p19da464c7b)\" d=\"M 261.835447 224.64 \nL 274.009991 224.64 \nL 274.009991 208.144262 \nL 261.835447 208.144262 \nz\n\" style=\"fill:#1f77b4;\"/>\n   </g>\n   <g id=\"patch_21\">\n    <path clip-path=\"url(#p19da464c7b)\" d=\"M 274.010002 224.64 \nL 286.184541 224.64 \nL 286.184541 204.835237 \nL 274.010002 204.835237 \nz\n\" style=\"fill:#1f77b4;\"/>\n   </g>\n   <g id=\"patch_22\">\n    <path clip-path=\"url(#p19da464c7b)\" d=\"M 286.184552 224.64 \nL 298.359102 224.64 \nL 298.359102 201.822542 \nL 286.184552 201.822542 \nz\n\" style=\"fill:#1f77b4;\"/>\n   </g>\n   <g id=\"patch_23\">\n    <path clip-path=\"url(#p19da464c7b)\" d=\"M 298.359091 224.64 \nL 310.53363 224.64 \nL 310.53363 190.957086 \nL 298.359091 190.957086 \nz\n\" style=\"fill:#1f77b4;\"/>\n   </g>\n   <g id=\"patch_24\">\n    <path clip-path=\"url(#p19da464c7b)\" d=\"M 310.53363 224.64 \nL 322.70818 224.64 \nL 322.70818 177.57282 \nL 310.53363 177.57282 \nz\n\" style=\"fill:#1f77b4;\"/>\n   </g>\n   <g id=\"patch_25\">\n    <path clip-path=\"url(#p19da464c7b)\" d=\"M 322.708191 224.64 \nL 334.882741 224.64 \nL 334.882741 150.40918 \nL 322.708191 150.40918 \nz\n\" style=\"fill:#1f77b4;\"/>\n   </g>\n   <g id=\"patch_26\">\n    <path clip-path=\"url(#p19da464c7b)\" d=\"M 334.88273 224.64 \nL 347.057268 224.64 \nL 347.057268 89.858957 \nL 334.88273 89.858957 \nz\n\" style=\"fill:#1f77b4;\"/>\n   </g>\n   <g id=\"patch_27\">\n    <path clip-path=\"url(#p19da464c7b)\" d=\"M 347.057268 224.64 \nL 359.231818 224.64 \nL 359.231818 17.554286 \nL 347.057268 17.554286 \nz\n\" style=\"fill:#1f77b4;\"/>\n   </g>\n   <g id=\"matplotlib.axis_1\">\n    <g id=\"xtick_1\">\n     <g id=\"line2d_1\">\n      <defs>\n       <path d=\"M 0 0 \nL 0 3.5 \n\" id=\"m42c83e8d57\" style=\"stroke:#000000;stroke-width:0.8;\"/>\n      </defs>\n      <g>\n       <use style=\"stroke:#000000;stroke-width:0.8;\" x=\"55.473955\" xlink:href=\"#m42c83e8d57\" y=\"224.64\"/>\n      </g>\n     </g>\n     <g id=\"text_1\">\n      <!-- −0.6 -->\n      <g transform=\"translate(43.332549 239.238437)scale(0.1 -0.1)\">\n       <defs>\n        <path d=\"M 678 2272 \nL 4684 2272 \nL 4684 1741 \nL 678 1741 \nL 678 2272 \nz\n\" id=\"DejaVuSans-2212\" transform=\"scale(0.015625)\"/>\n        <path d=\"M 2034 4250 \nQ 1547 4250 1301 3770 \nQ 1056 3291 1056 2328 \nQ 1056 1369 1301 889 \nQ 1547 409 2034 409 \nQ 2525 409 2770 889 \nQ 3016 1369 3016 2328 \nQ 3016 3291 2770 3770 \nQ 2525 4250 2034 4250 \nz\nM 2034 4750 \nQ 2819 4750 3233 4129 \nQ 3647 3509 3647 2328 \nQ 3647 1150 3233 529 \nQ 2819 -91 2034 -91 \nQ 1250 -91 836 529 \nQ 422 1150 422 2328 \nQ 422 3509 836 4129 \nQ 1250 4750 2034 4750 \nz\n\" id=\"DejaVuSans-30\" transform=\"scale(0.015625)\"/>\n        <path d=\"M 684 794 \nL 1344 794 \nL 1344 0 \nL 684 0 \nL 684 794 \nz\n\" id=\"DejaVuSans-2e\" transform=\"scale(0.015625)\"/>\n        <path d=\"M 2113 2584 \nQ 1688 2584 1439 2293 \nQ 1191 2003 1191 1497 \nQ 1191 994 1439 701 \nQ 1688 409 2113 409 \nQ 2538 409 2786 701 \nQ 3034 994 3034 1497 \nQ 3034 2003 2786 2293 \nQ 2538 2584 2113 2584 \nz\nM 3366 4563 \nL 3366 3988 \nQ 3128 4100 2886 4159 \nQ 2644 4219 2406 4219 \nQ 1781 4219 1451 3797 \nQ 1122 3375 1075 2522 \nQ 1259 2794 1537 2939 \nQ 1816 3084 2150 3084 \nQ 2853 3084 3261 2657 \nQ 3669 2231 3669 1497 \nQ 3669 778 3244 343 \nQ 2819 -91 2113 -91 \nQ 1303 -91 875 529 \nQ 447 1150 447 2328 \nQ 447 3434 972 4092 \nQ 1497 4750 2381 4750 \nQ 2619 4750 2861 4703 \nQ 3103 4656 3366 4563 \nz\n\" id=\"DejaVuSans-36\" transform=\"scale(0.015625)\"/>\n       </defs>\n       <use xlink:href=\"#DejaVuSans-2212\"/>\n       <use x=\"83.789062\" xlink:href=\"#DejaVuSans-30\"/>\n       <use x=\"147.412109\" xlink:href=\"#DejaVuSans-2e\"/>\n       <use x=\"179.199219\" xlink:href=\"#DejaVuSans-36\"/>\n      </g>\n     </g>\n    </g>\n    <g id=\"xtick_2\">\n     <g id=\"line2d_2\">\n      <g>\n       <use style=\"stroke:#000000;stroke-width:0.8;\" x=\"93.448437\" xlink:href=\"#m42c83e8d57\" y=\"224.64\"/>\n      </g>\n     </g>\n     <g id=\"text_2\">\n      <!-- −0.4 -->\n      <g transform=\"translate(81.307031 239.238437)scale(0.1 -0.1)\">\n       <defs>\n        <path d=\"M 2419 4116 \nL 825 1625 \nL 2419 1625 \nL 2419 4116 \nz\nM 2253 4666 \nL 3047 4666 \nL 3047 1625 \nL 3713 1625 \nL 3713 1100 \nL 3047 1100 \nL 3047 0 \nL 2419 0 \nL 2419 1100 \nL 313 1100 \nL 313 1709 \nL 2253 4666 \nz\n\" id=\"DejaVuSans-34\" transform=\"scale(0.015625)\"/>\n       </defs>\n       <use xlink:href=\"#DejaVuSans-2212\"/>\n       <use x=\"83.789062\" xlink:href=\"#DejaVuSans-30\"/>\n       <use x=\"147.412109\" xlink:href=\"#DejaVuSans-2e\"/>\n       <use x=\"179.199219\" xlink:href=\"#DejaVuSans-34\"/>\n      </g>\n     </g>\n    </g>\n    <g id=\"xtick_3\">\n     <g id=\"line2d_3\">\n      <g>\n       <use style=\"stroke:#000000;stroke-width:0.8;\" x=\"131.422919\" xlink:href=\"#m42c83e8d57\" y=\"224.64\"/>\n      </g>\n     </g>\n     <g id=\"text_3\">\n      <!-- −0.2 -->\n      <g transform=\"translate(119.281513 239.238437)scale(0.1 -0.1)\">\n       <defs>\n        <path d=\"M 1228 531 \nL 3431 531 \nL 3431 0 \nL 469 0 \nL 469 531 \nQ 828 903 1448 1529 \nQ 2069 2156 2228 2338 \nQ 2531 2678 2651 2914 \nQ 2772 3150 2772 3378 \nQ 2772 3750 2511 3984 \nQ 2250 4219 1831 4219 \nQ 1534 4219 1204 4116 \nQ 875 4013 500 3803 \nL 500 4441 \nQ 881 4594 1212 4672 \nQ 1544 4750 1819 4750 \nQ 2544 4750 2975 4387 \nQ 3406 4025 3406 3419 \nQ 3406 3131 3298 2873 \nQ 3191 2616 2906 2266 \nQ 2828 2175 2409 1742 \nQ 1991 1309 1228 531 \nz\n\" id=\"DejaVuSans-32\" transform=\"scale(0.015625)\"/>\n       </defs>\n       <use xlink:href=\"#DejaVuSans-2212\"/>\n       <use x=\"83.789062\" xlink:href=\"#DejaVuSans-30\"/>\n       <use x=\"147.412109\" xlink:href=\"#DejaVuSans-2e\"/>\n       <use x=\"179.199219\" xlink:href=\"#DejaVuSans-32\"/>\n      </g>\n     </g>\n    </g>\n    <g id=\"xtick_4\">\n     <g id=\"line2d_4\">\n      <g>\n       <use style=\"stroke:#000000;stroke-width:0.8;\" x=\"169.397401\" xlink:href=\"#m42c83e8d57\" y=\"224.64\"/>\n      </g>\n     </g>\n     <g id=\"text_4\">\n      <!-- 0.0 -->\n      <g transform=\"translate(161.445838 239.238437)scale(0.1 -0.1)\">\n       <use xlink:href=\"#DejaVuSans-30\"/>\n       <use x=\"63.623047\" xlink:href=\"#DejaVuSans-2e\"/>\n       <use x=\"95.410156\" xlink:href=\"#DejaVuSans-30\"/>\n      </g>\n     </g>\n    </g>\n    <g id=\"xtick_5\">\n     <g id=\"line2d_5\">\n      <g>\n       <use style=\"stroke:#000000;stroke-width:0.8;\" x=\"207.371883\" xlink:href=\"#m42c83e8d57\" y=\"224.64\"/>\n      </g>\n     </g>\n     <g id=\"text_5\">\n      <!-- 0.2 -->\n      <g transform=\"translate(199.42032 239.238437)scale(0.1 -0.1)\">\n       <use xlink:href=\"#DejaVuSans-30\"/>\n       <use x=\"63.623047\" xlink:href=\"#DejaVuSans-2e\"/>\n       <use x=\"95.410156\" xlink:href=\"#DejaVuSans-32\"/>\n      </g>\n     </g>\n    </g>\n    <g id=\"xtick_6\">\n     <g id=\"line2d_6\">\n      <g>\n       <use style=\"stroke:#000000;stroke-width:0.8;\" x=\"245.346365\" xlink:href=\"#m42c83e8d57\" y=\"224.64\"/>\n      </g>\n     </g>\n     <g id=\"text_6\">\n      <!-- 0.4 -->\n      <g transform=\"translate(237.394802 239.238437)scale(0.1 -0.1)\">\n       <use xlink:href=\"#DejaVuSans-30\"/>\n       <use x=\"63.623047\" xlink:href=\"#DejaVuSans-2e\"/>\n       <use x=\"95.410156\" xlink:href=\"#DejaVuSans-34\"/>\n      </g>\n     </g>\n    </g>\n    <g id=\"xtick_7\">\n     <g id=\"line2d_7\">\n      <g>\n       <use style=\"stroke:#000000;stroke-width:0.8;\" x=\"283.320846\" xlink:href=\"#m42c83e8d57\" y=\"224.64\"/>\n      </g>\n     </g>\n     <g id=\"text_7\">\n      <!-- 0.6 -->\n      <g transform=\"translate(275.369284 239.238437)scale(0.1 -0.1)\">\n       <use xlink:href=\"#DejaVuSans-30\"/>\n       <use x=\"63.623047\" xlink:href=\"#DejaVuSans-2e\"/>\n       <use x=\"95.410156\" xlink:href=\"#DejaVuSans-36\"/>\n      </g>\n     </g>\n    </g>\n    <g id=\"xtick_8\">\n     <g id=\"line2d_8\">\n      <g>\n       <use style=\"stroke:#000000;stroke-width:0.8;\" x=\"321.295328\" xlink:href=\"#m42c83e8d57\" y=\"224.64\"/>\n      </g>\n     </g>\n     <g id=\"text_8\">\n      <!-- 0.8 -->\n      <g transform=\"translate(313.343766 239.238437)scale(0.1 -0.1)\">\n       <defs>\n        <path d=\"M 2034 2216 \nQ 1584 2216 1326 1975 \nQ 1069 1734 1069 1313 \nQ 1069 891 1326 650 \nQ 1584 409 2034 409 \nQ 2484 409 2743 651 \nQ 3003 894 3003 1313 \nQ 3003 1734 2745 1975 \nQ 2488 2216 2034 2216 \nz\nM 1403 2484 \nQ 997 2584 770 2862 \nQ 544 3141 544 3541 \nQ 544 4100 942 4425 \nQ 1341 4750 2034 4750 \nQ 2731 4750 3128 4425 \nQ 3525 4100 3525 3541 \nQ 3525 3141 3298 2862 \nQ 3072 2584 2669 2484 \nQ 3125 2378 3379 2068 \nQ 3634 1759 3634 1313 \nQ 3634 634 3220 271 \nQ 2806 -91 2034 -91 \nQ 1263 -91 848 271 \nQ 434 634 434 1313 \nQ 434 1759 690 2068 \nQ 947 2378 1403 2484 \nz\nM 1172 3481 \nQ 1172 3119 1398 2916 \nQ 1625 2713 2034 2713 \nQ 2441 2713 2670 2916 \nQ 2900 3119 2900 3481 \nQ 2900 3844 2670 4047 \nQ 2441 4250 2034 4250 \nQ 1625 4250 1398 4047 \nQ 1172 3844 1172 3481 \nz\n\" id=\"DejaVuSans-38\" transform=\"scale(0.015625)\"/>\n       </defs>\n       <use xlink:href=\"#DejaVuSans-30\"/>\n       <use x=\"63.623047\" xlink:href=\"#DejaVuSans-2e\"/>\n       <use x=\"95.410156\" xlink:href=\"#DejaVuSans-38\"/>\n      </g>\n     </g>\n    </g>\n    <g id=\"xtick_9\">\n     <g id=\"line2d_9\">\n      <g>\n       <use style=\"stroke:#000000;stroke-width:0.8;\" x=\"359.26981\" xlink:href=\"#m42c83e8d57\" y=\"224.64\"/>\n      </g>\n     </g>\n     <g id=\"text_9\">\n      <!-- 1.0 -->\n      <g transform=\"translate(351.318248 239.238437)scale(0.1 -0.1)\">\n       <defs>\n        <path d=\"M 794 531 \nL 1825 531 \nL 1825 4091 \nL 703 3866 \nL 703 4441 \nL 1819 4666 \nL 2450 4666 \nL 2450 531 \nL 3481 531 \nL 3481 0 \nL 794 0 \nL 794 531 \nz\n\" id=\"DejaVuSans-31\" transform=\"scale(0.015625)\"/>\n       </defs>\n       <use xlink:href=\"#DejaVuSans-31\"/>\n       <use x=\"63.623047\" xlink:href=\"#DejaVuSans-2e\"/>\n       <use x=\"95.410156\" xlink:href=\"#DejaVuSans-30\"/>\n      </g>\n     </g>\n    </g>\n   </g>\n   <g id=\"matplotlib.axis_2\">\n    <g id=\"ytick_1\">\n     <g id=\"line2d_10\">\n      <defs>\n       <path d=\"M 0 0 \nL -3.5 0 \n\" id=\"md907637026\" style=\"stroke:#000000;stroke-width:0.8;\"/>\n      </defs>\n      <g>\n       <use style=\"stroke:#000000;stroke-width:0.8;\" x=\"39.65\" xlink:href=\"#md907637026\" y=\"224.64\"/>\n      </g>\n     </g>\n     <g id=\"text_10\">\n      <!-- 0 -->\n      <g transform=\"translate(26.2875 228.439219)scale(0.1 -0.1)\">\n       <use xlink:href=\"#DejaVuSans-30\"/>\n      </g>\n     </g>\n    </g>\n    <g id=\"ytick_2\">\n     <g id=\"line2d_11\">\n      <g>\n       <use style=\"stroke:#000000;stroke-width:0.8;\" x=\"39.65\" xlink:href=\"#md907637026\" y=\"199.945782\"/>\n      </g>\n     </g>\n     <g id=\"text_11\">\n      <!-- 500 -->\n      <g transform=\"translate(13.5625 203.745)scale(0.1 -0.1)\">\n       <defs>\n        <path d=\"M 691 4666 \nL 3169 4666 \nL 3169 4134 \nL 1269 4134 \nL 1269 2991 \nQ 1406 3038 1543 3061 \nQ 1681 3084 1819 3084 \nQ 2600 3084 3056 2656 \nQ 3513 2228 3513 1497 \nQ 3513 744 3044 326 \nQ 2575 -91 1722 -91 \nQ 1428 -91 1123 -41 \nQ 819 9 494 109 \nL 494 744 \nQ 775 591 1075 516 \nQ 1375 441 1709 441 \nQ 2250 441 2565 725 \nQ 2881 1009 2881 1497 \nQ 2881 1984 2565 2268 \nQ 2250 2553 1709 2553 \nQ 1456 2553 1204 2497 \nQ 953 2441 691 2322 \nL 691 4666 \nz\n\" id=\"DejaVuSans-35\" transform=\"scale(0.015625)\"/>\n       </defs>\n       <use xlink:href=\"#DejaVuSans-35\"/>\n       <use x=\"63.623047\" xlink:href=\"#DejaVuSans-30\"/>\n       <use x=\"127.246094\" xlink:href=\"#DejaVuSans-30\"/>\n      </g>\n     </g>\n    </g>\n    <g id=\"ytick_3\">\n     <g id=\"line2d_12\">\n      <g>\n       <use style=\"stroke:#000000;stroke-width:0.8;\" x=\"39.65\" xlink:href=\"#md907637026\" y=\"175.251563\"/>\n      </g>\n     </g>\n     <g id=\"text_12\">\n      <!-- 1000 -->\n      <g transform=\"translate(7.2 179.050782)scale(0.1 -0.1)\">\n       <use xlink:href=\"#DejaVuSans-31\"/>\n       <use x=\"63.623047\" xlink:href=\"#DejaVuSans-30\"/>\n       <use x=\"127.246094\" xlink:href=\"#DejaVuSans-30\"/>\n       <use x=\"190.869141\" xlink:href=\"#DejaVuSans-30\"/>\n      </g>\n     </g>\n    </g>\n    <g id=\"ytick_4\">\n     <g id=\"line2d_13\">\n      <g>\n       <use style=\"stroke:#000000;stroke-width:0.8;\" x=\"39.65\" xlink:href=\"#md907637026\" y=\"150.557345\"/>\n      </g>\n     </g>\n     <g id=\"text_13\">\n      <!-- 1500 -->\n      <g transform=\"translate(7.2 154.356564)scale(0.1 -0.1)\">\n       <use xlink:href=\"#DejaVuSans-31\"/>\n       <use x=\"63.623047\" xlink:href=\"#DejaVuSans-35\"/>\n       <use x=\"127.246094\" xlink:href=\"#DejaVuSans-30\"/>\n       <use x=\"190.869141\" xlink:href=\"#DejaVuSans-30\"/>\n      </g>\n     </g>\n    </g>\n    <g id=\"ytick_5\">\n     <g id=\"line2d_14\">\n      <g>\n       <use style=\"stroke:#000000;stroke-width:0.8;\" x=\"39.65\" xlink:href=\"#md907637026\" y=\"125.863127\"/>\n      </g>\n     </g>\n     <g id=\"text_14\">\n      <!-- 2000 -->\n      <g transform=\"translate(7.2 129.662346)scale(0.1 -0.1)\">\n       <use xlink:href=\"#DejaVuSans-32\"/>\n       <use x=\"63.623047\" xlink:href=\"#DejaVuSans-30\"/>\n       <use x=\"127.246094\" xlink:href=\"#DejaVuSans-30\"/>\n       <use x=\"190.869141\" xlink:href=\"#DejaVuSans-30\"/>\n      </g>\n     </g>\n    </g>\n    <g id=\"ytick_6\">\n     <g id=\"line2d_15\">\n      <g>\n       <use style=\"stroke:#000000;stroke-width:0.8;\" x=\"39.65\" xlink:href=\"#md907637026\" y=\"101.168909\"/>\n      </g>\n     </g>\n     <g id=\"text_15\">\n      <!-- 2500 -->\n      <g transform=\"translate(7.2 104.968127)scale(0.1 -0.1)\">\n       <use xlink:href=\"#DejaVuSans-32\"/>\n       <use x=\"63.623047\" xlink:href=\"#DejaVuSans-35\"/>\n       <use x=\"127.246094\" xlink:href=\"#DejaVuSans-30\"/>\n       <use x=\"190.869141\" xlink:href=\"#DejaVuSans-30\"/>\n      </g>\n     </g>\n    </g>\n    <g id=\"ytick_7\">\n     <g id=\"line2d_16\">\n      <g>\n       <use style=\"stroke:#000000;stroke-width:0.8;\" x=\"39.65\" xlink:href=\"#md907637026\" y=\"76.47469\"/>\n      </g>\n     </g>\n     <g id=\"text_16\">\n      <!-- 3000 -->\n      <g transform=\"translate(7.2 80.273909)scale(0.1 -0.1)\">\n       <defs>\n        <path d=\"M 2597 2516 \nQ 3050 2419 3304 2112 \nQ 3559 1806 3559 1356 \nQ 3559 666 3084 287 \nQ 2609 -91 1734 -91 \nQ 1441 -91 1130 -33 \nQ 819 25 488 141 \nL 488 750 \nQ 750 597 1062 519 \nQ 1375 441 1716 441 \nQ 2309 441 2620 675 \nQ 2931 909 2931 1356 \nQ 2931 1769 2642 2001 \nQ 2353 2234 1838 2234 \nL 1294 2234 \nL 1294 2753 \nL 1863 2753 \nQ 2328 2753 2575 2939 \nQ 2822 3125 2822 3475 \nQ 2822 3834 2567 4026 \nQ 2313 4219 1838 4219 \nQ 1578 4219 1281 4162 \nQ 984 4106 628 3988 \nL 628 4550 \nQ 988 4650 1302 4700 \nQ 1616 4750 1894 4750 \nQ 2613 4750 3031 4423 \nQ 3450 4097 3450 3541 \nQ 3450 3153 3228 2886 \nQ 3006 2619 2597 2516 \nz\n\" id=\"DejaVuSans-33\" transform=\"scale(0.015625)\"/>\n       </defs>\n       <use xlink:href=\"#DejaVuSans-33\"/>\n       <use x=\"63.623047\" xlink:href=\"#DejaVuSans-30\"/>\n       <use x=\"127.246094\" xlink:href=\"#DejaVuSans-30\"/>\n       <use x=\"190.869141\" xlink:href=\"#DejaVuSans-30\"/>\n      </g>\n     </g>\n    </g>\n    <g id=\"ytick_8\">\n     <g id=\"line2d_17\">\n      <g>\n       <use style=\"stroke:#000000;stroke-width:0.8;\" x=\"39.65\" xlink:href=\"#md907637026\" y=\"51.780472\"/>\n      </g>\n     </g>\n     <g id=\"text_17\">\n      <!-- 3500 -->\n      <g transform=\"translate(7.2 55.579691)scale(0.1 -0.1)\">\n       <use xlink:href=\"#DejaVuSans-33\"/>\n       <use x=\"63.623047\" xlink:href=\"#DejaVuSans-35\"/>\n       <use x=\"127.246094\" xlink:href=\"#DejaVuSans-30\"/>\n       <use x=\"190.869141\" xlink:href=\"#DejaVuSans-30\"/>\n      </g>\n     </g>\n    </g>\n    <g id=\"ytick_9\">\n     <g id=\"line2d_18\">\n      <g>\n       <use style=\"stroke:#000000;stroke-width:0.8;\" x=\"39.65\" xlink:href=\"#md907637026\" y=\"27.086254\"/>\n      </g>\n     </g>\n     <g id=\"text_18\">\n      <!-- 4000 -->\n      <g transform=\"translate(7.2 30.885473)scale(0.1 -0.1)\">\n       <use xlink:href=\"#DejaVuSans-34\"/>\n       <use x=\"63.623047\" xlink:href=\"#DejaVuSans-30\"/>\n       <use x=\"127.246094\" xlink:href=\"#DejaVuSans-30\"/>\n       <use x=\"190.869141\" xlink:href=\"#DejaVuSans-30\"/>\n      </g>\n     </g>\n    </g>\n   </g>\n   <g id=\"patch_28\">\n    <path d=\"M 39.65 224.64 \nL 39.65 7.2 \n\" style=\"fill:none;stroke:#000000;stroke-linecap:square;stroke-linejoin:miter;stroke-width:0.8;\"/>\n   </g>\n   <g id=\"patch_29\">\n    <path d=\"M 374.45 224.64 \nL 374.45 7.2 \n\" style=\"fill:none;stroke:#000000;stroke-linecap:square;stroke-linejoin:miter;stroke-width:0.8;\"/>\n   </g>\n   <g id=\"patch_30\">\n    <path d=\"M 39.65 224.64 \nL 374.45 224.64 \n\" style=\"fill:none;stroke:#000000;stroke-linecap:square;stroke-linejoin:miter;stroke-width:0.8;\"/>\n   </g>\n   <g id=\"patch_31\">\n    <path d=\"M 39.65 7.2 \nL 374.45 7.2 \n\" style=\"fill:none;stroke:#000000;stroke-linecap:square;stroke-linejoin:miter;stroke-width:0.8;\"/>\n   </g>\n  </g>\n </g>\n <defs>\n  <clipPath id=\"p19da464c7b\">\n   <rect height=\"217.44\" width=\"334.8\" x=\"39.65\" y=\"7.2\"/>\n  </clipPath>\n </defs>\n</svg>\n",
            "image/png": "[encoded data removed]"
          },
          "metadata": {
            "needs_background": "light"
          }
        },
        {
          "output_type": "stream",
          "name": "stdout",
          "text": [
            "AUC and Bin_acc after training 1 on dev dataloader is (0.9279507377232272, 0.7745688106360044) and the confusion matris is [[ 6140  4992]\n",
            " [   27 11105]]\n",
            "Model is saved after 1 epochs \n"
          ]
        }
      ]
    },
    {
      "cell_type": "markdown",
      "metadata": {
        "id": "ZuGYeCAq97yQ"
      },
      "source": [
        "# Evaluator"
      ]
    },
    {
      "cell_type": "markdown",
      "metadata": {
        "id": "kYlESuc6HmGF"
      },
      "source": [
        "## Binary Classification Evaluator"
      ]
    },
    {
      "cell_type": "code",
      "metadata": {
        "id": "NJ-NKaASKXoM"
      },
      "source": [
        "# from . import SentenceEvaluator\n",
        "import logging\n",
        "import os\n",
        "import csv\n",
        "from sklearn.metrics.pairwise import paired_cosine_distances, paired_euclidean_distances, paired_manhattan_distances\n",
        "from sklearn.metrics import average_precision_score\n",
        "import numpy as np\n",
        "from typing import List\n",
        "# from ..readers import InputExample\n",
        "\n",
        "\n",
        "logger = logging.getLogger(__name__)\n"
      ],
      "execution_count": null,
      "outputs": []
    },
    {
      "cell_type": "code",
      "metadata": {
        "id": "LWrcz7PMHlaJ"
      },
      "source": [
        "class BinaryClassificationEvaluator():\n",
        "    \"\"\"\n",
        "    Evaluate a model based on the similarity of the embeddings by calculating the accuracy of identifying similar and\n",
        "    dissimilar sentences.\n",
        "    The metrics are the cosine similarity as well as euclidean and Manhattan distance\n",
        "    The returned score is the accuracy with a specified metric.\n",
        "    The results are written in a CSV. If a CSV already exists, then values are appended.\n",
        "    The labels need to be 0 for dissimilar pairs and 1 for similar pairs.\n",
        "    :param sentences1: The first column of sentences\n",
        "    :param sentences2: The second column of sentences\n",
        "    :param labels: labels[i] is the label for the pair (sentences1[i], sentences2[i]). Must be 0 or 1\n",
        "    :param name: Name for the output\n",
        "    :param batch_size: Batch size used to compute embeddings\n",
        "    :param show_progress_bar: If true, prints a progress bar\n",
        "    :param write_csv: Write results to a CSV file\n",
        "    \"\"\"\n",
        "\n",
        "    def __init__(self,\n",
        "                 dataset,\n",
        "                 name: str = '',\n",
        "                 batch_size: int = 32,\n",
        "                 show_progress_bar: bool = False,\n",
        "                 write_csv: bool = True\n",
        "                 ):\n",
        "        \n",
        "        self.dataset = dataset\n",
        "        self.labels = list()\n",
        "        self.write_csv = write_csv\n",
        "        self.name = name\n",
        "        self.batch_size = batch_size\n",
        "        self.dataloader = DataLoader(\n",
        "            self.dataset,\n",
        "            batch_size=self.batch_size,\n",
        "            pin_memory=True,\n",
        "            num_workers = 8,\n",
        "            shuffle = True\n",
        "        )\n",
        "\n",
        "        if show_progress_bar is None:\n",
        "            show_progress_bar = (logger.getEffectiveLevel() == logging.INFO or logger.getEffectiveLevel() == logging.DEBUG)\n",
        "        self.show_progress_bar = show_progress_bar\n",
        "\n",
        "        self.csv_file = \"binary_classification_evaluation\" + (\"_\"+name if name else '') + \"_results.csv\"\n",
        "        self.csv_headers = [\"epoch\", \"steps\",\n",
        "                            \"cosine_acc\", \"cosine_acc_threshold\", \"cosine_f1\", \"cosine_precision\", \"cosine_recall\", \"cosine_f1_threshold\", \"cosine_average_precision\",\n",
        "                            \"manhatten_acc\", \"manhatten_acc_threshold\", \"manhatten_f1\", \"manhatten_precision\", \"manhatten_recall\", \"manhatten_f1_threshold\", \"manhatten_average_precision\",\n",
        "                            \"eucledian_acc\", \"eucledian_acc_threshold\", \"eucledian_f1\", \"eucledian_precision\", \"eucledian_recall\", \"eucledian_f1_threshold\", \"eucledian_average_precision\"]\n",
        "\n",
        "\n",
        "    # @classmethod\n",
        "    # def from_input_examples(cls, examples: List[InputExample], **kwargs):\n",
        "    #     sentences1 = []\n",
        "    #     sentences2 = []\n",
        "    #     scores = []\n",
        "\n",
        "    #     for example in examples:\n",
        "    #         sentences1.append(example.texts[0])\n",
        "    #         sentences2.append(example.texts[1])\n",
        "    #         scores.append(example.label)\n",
        "    #     return cls(sentences1, sentences2, scores, **kwargs)\n",
        "\n",
        "    def __call__(self, model, output_path: str = None, epoch: int = -1, steps: int = -1) -> float:\n",
        "\n",
        "        if epoch != -1:\n",
        "            if steps == -1:\n",
        "                out_txt = f\" after epoch {epoch}:\"\n",
        "            else:\n",
        "                out_txt = f\" in epoch {epoch} after {steps} steps:\"\n",
        "        else:\n",
        "            out_txt = \":\"\n",
        "\n",
        "        logger.info(\"Binary Accuracy Evaluation of the model on \" + self.name + \" dataset\" + out_txt)\n",
        "        \n",
        "        embeddings1 = list()\n",
        "        embeddings2 = list()\n",
        "\n",
        "        with torch.no_grad():\n",
        "            model.eval()\n",
        "            for i, batch in enumerate(self.dataloader):\n",
        "                images = batch[\"image\"]\n",
        "                label = batch[\"label\"]\n",
        "                label = label.float()\n",
        "                token = batch[\"token\"]\n",
        "                \n",
        "                # print(images,label,token)\n",
        "\n",
        "                images[0],images[1] = images[0].to(device),images[1].to(device)\n",
        "                token[0],token[1] = token[0].to(device), token[1].to(device)\n",
        "                label = label.to(device)\n",
        "                \n",
        "                # compute the model output\n",
        "                yhat1 = model(images[0], token[0])\n",
        "                yhat2 = model(images[1],token[1])\n",
        "\n",
        "                for j in yhat1:\n",
        "                    embeddings1.append(j.cpu().detach().numpy())\n",
        "                for j in yhat2:\n",
        "                    embeddings2.append(j.cpu().detach().numpy())\n",
        "                for j in label:\n",
        "                    self.labels.append(float(j))\n",
        "                \n",
        "                if(i%30==0 and i!=0):\n",
        "                    print(f'Completed {i} iterations')\n",
        "\n",
        "        cosine_scores = 1-paired_cosine_distances(embeddings1, embeddings2)\n",
        "        manhattan_distances = paired_manhattan_distances(embeddings1, embeddings2)\n",
        "        euclidean_distances = paired_euclidean_distances(embeddings1, embeddings2)\n",
        "\n",
        "\n",
        "        labels = np.asarray(self.labels)\n",
        "\n",
        "        file_output_data = [epoch, steps]\n",
        "\n",
        "        main_score = None\n",
        "        for name, scores, reverse in [['Cosine-Similarity', cosine_scores, True], ['Manhatten-Distance', manhattan_distances, False], ['Euclidean-Distance', euclidean_distances, False]]:\n",
        "            acc, acc_threshold = self.find_best_acc_and_threshold(scores, labels, reverse)\n",
        "            f1, precision, recall, f1_threshold = self.find_best_f1_and_threshold(scores, labels, reverse)\n",
        "            ap = average_precision_score(labels, scores * (1 if reverse else -1))\n",
        "\n",
        "            logger.info(\"Accuracy with {}:           {:.2f}\\t(Threshold: {:.4f})\".format(name, acc * 100, acc_threshold))\n",
        "            logger.info(\"F1 with {}:                 {:.2f}\\t(Threshold: {:.4f})\".format(name, f1 * 100, f1_threshold))\n",
        "            logger.info(\"Precision with {}:          {:.2f}\".format(name, precision * 100))\n",
        "            logger.info(\"Recall with {}:             {:.2f}\".format(name, recall * 100))\n",
        "            logger.info(\"Average Precision with {}:  {:.2f}\\n\".format(name, ap * 100))\n",
        "\n",
        "            file_output_data.extend([acc, acc_threshold, f1, precision, recall, f1_threshold, ap])\n",
        "\n",
        "            if main_score is None: #Use AveragePrecision with Cosine-Similarity as main score\n",
        "                main_score = ap\n",
        "\n",
        "        if output_path is not None and self.write_csv:\n",
        "            csv_path = os.path.join(output_path, self.csv_file)\n",
        "            if not os.path.isfile(csv_path):\n",
        "                with open(csv_path, mode=\"w\", encoding=\"utf-8\") as f:\n",
        "                    writer = csv.writer(f)\n",
        "                    writer.writerow(self.csv_headers)\n",
        "                    writer.writerow(file_output_data)\n",
        "            else:\n",
        "                with open(csv_path, mode=\"a\", encoding=\"utf-8\") as f:\n",
        "                    writer = csv.writer(f)\n",
        "                    writer.writerow(file_output_data)\n",
        "\n",
        "        return main_score\n",
        "\n",
        "    @staticmethod\n",
        "    def find_best_acc_and_threshold(scores, labels, high_score_more_similar: bool):\n",
        "        # assert len(scores) == len(labels)\n",
        "        rows = list(zip(scores, labels))\n",
        "\n",
        "        rows = sorted(rows, key=lambda x: x[0], reverse=high_score_more_similar)\n",
        "\n",
        "        max_acc = 0\n",
        "        best_threshold = -1\n",
        "\n",
        "        positive_so_far = 0\n",
        "        remaining_negatives = sum(labels == 0)\n",
        "\n",
        "        for i in range(len(rows)-1):\n",
        "            score, label = rows[i]\n",
        "            if label == 1:\n",
        "                positive_so_far += 1\n",
        "            else:\n",
        "                remaining_negatives -= 1\n",
        "\n",
        "            acc = (positive_so_far + remaining_negatives) / len(labels)\n",
        "            if acc > max_acc:\n",
        "                max_acc = acc\n",
        "                best_threshold = (rows[i][0] + rows[i+1][0]) / 2\n",
        "\n",
        "        return max_acc, best_threshold\n",
        "\n",
        "    @staticmethod\n",
        "    def find_best_f1_and_threshold(scores, labels, high_score_more_similar: bool):\n",
        "        # assert len(scores) == len(labels)\n",
        "\n",
        "        scores = np.asarray(scores)\n",
        "        labels = np.asarray(labels)\n",
        "\n",
        "        rows = list(zip(scores, labels))\n",
        "\n",
        "        rows = sorted(rows, key=lambda x: x[0], reverse=high_score_more_similar)\n",
        "\n",
        "        best_f1 = best_precision = best_recall = 0\n",
        "        threshold = 0\n",
        "        nextract = 0\n",
        "        ncorrect = 0\n",
        "        total_num_duplicates = sum(labels)\n",
        "\n",
        "        for i in range(len(rows)-1):\n",
        "            score, label = rows[i]\n",
        "            nextract += 1\n",
        "\n",
        "            if label == 1:\n",
        "                ncorrect += 1\n",
        "\n",
        "            if ncorrect > 0:\n",
        "                precision = ncorrect / nextract\n",
        "                recall = ncorrect / total_num_duplicates\n",
        "                f1 = 2 * precision * recall / (precision + recall)\n",
        "                if f1 > best_f1:\n",
        "                    best_f1 = f1\n",
        "                    best_precision = precision\n",
        "                    best_recall = recall\n",
        "                    threshold = (rows[i][0] + rows[i + 1][0]) / 2\n",
        "\n",
        "        return best_f1, best_precision, best_recall, threshold"
      ],
      "execution_count": null,
      "outputs": []
    },
    {
      "cell_type": "code",
      "metadata": {
        "id": "iSnnK9vk-U_J"
      },
      "source": [
        "dev_BCEvaluator = BinaryClassificationEvaluator(dev_dataset,batch_size=BATCH_SIZE,show_progress_bar=True)\n",
        "os.makedirs(folder+'/dev',exist_ok = True)\n",
        "dev_BCEvaluator(model,output_path=folder+'/dev')"
      ],
      "execution_count": null,
      "outputs": []
    },
    {
      "cell_type": "code",
      "metadata": {
        "id": "pdO-HPtiEcIn"
      },
      "source": [
        "train_BCEvaluator = BinaryClassificationEvaluator(train_dataset,batch_size=BATCH_SIZE,show_progress_bar=True)\n",
        "os.makedirs(folder+'/train',exist_ok = True)\n",
        "train_BCEvaluator(model,output_path=folder+'/train')"
      ],
      "execution_count": null,
      "outputs": []
    },
    {
      "cell_type": "markdown",
      "metadata": {
        "id": "MQ3f5gO7Hhu0"
      },
      "source": [
        "## Information retreival evaluator"
      ]
    },
    {
      "cell_type": "code",
      "metadata": {
        "id": "f4yW9Gn2DL9i"
      },
      "source": [
        "import torch\n",
        "import logging\n",
        "from tqdm import tqdm, trange\n",
        "import os\n",
        "import numpy as np\n",
        "from typing import List, Tuple, Dict, Set"
      ],
      "execution_count": null,
      "outputs": []
    },
    {
      "cell_type": "code",
      "metadata": {
        "id": "izMNQie5XZmi"
      },
      "source": [
        "class infodataset(Dataset):\n",
        "    def __init__(self,qr,qr_idx,img_dir,transform = None):\n",
        "        self.qr = qr\n",
        "        self.qr_idx = qr_idx\n",
        "        self.img_dir = img_dir\n",
        "        self.transform = transform\n",
        "\n",
        "    def image_adder(self,id1):\n",
        "        img_id1 = list()\n",
        "        if((self.qr.at[id1,'Attachments'])!=None):\n",
        "            for i in self.qr.at[id1,'Attachments']:\n",
        "                try:\n",
        "                    img_path = os.path.join(self.img_dir,i)\n",
        "                    img = Image.open(img_path).convert('RGB')\n",
        "                    if(self.transform):\n",
        "                        img = self.transform(img)\n",
        "                        img.permute_(2,0,1)\n",
        "                    img_id1.append(img)\n",
        "                except Exception as e: \n",
        "                    print(e)\n",
        "        else:\n",
        "            img_id1.append(torch.zeros(3,224,224))\n",
        "\n",
        "        # Work on this, for few examples, it is still saying list index out of range\n",
        "        if(len(img_id1)==0):\n",
        "            # print('No attachments found for id {}'.format(id1))\n",
        "            print(f'Something went wrong with the image of id {id1}')\n",
        "            img_id1.append(torch.zeros(3,224,224))\n",
        "\n",
        "        return img_id1\n",
        "    \n",
        "    def __getitem__(self,idx):\n",
        "        id1 = self.qr_idx[idx]\n",
        "        img_id1 = self.image_adder(id1)\n",
        "\n",
        "        # print(len(img_id1))\n",
        "\n",
        "        # print('Printing id1 {} and len {} and id2 {} and len {} '.format(\n",
        "        #     id1,len(img_id1),\n",
        "        #     id2, len(img_id2)\n",
        "        # ))\n",
        "\n",
        "        # print('Printing id1 shape {} and id2  shape {}'.format(\n",
        "        #     img_id1[0].shape,\n",
        "        #     img_id2[0].shape\n",
        "        # ))        \n",
        "\n",
        "        sample = {\n",
        "            'image': img_id1[0]    #Currently taking only one input image\n",
        "        }\n",
        "\n",
        "        t1 = '[CLS]' + self.qr.loc[id1,'Title'] + ' ' + ' '.join(self.qr.loc[id1,'Tags']) + ' ' + self.qr.loc[id1,'Text'] + '[SEP]'\n",
        "        tokenizer = BertTokenizerFast.from_pretrained('bert-base-uncased')\n",
        "        t1_token = tokenizer.tokenize(t1)\n",
        "        indexed_t1 = tokenizer.convert_tokens_to_ids(t1_token)\n",
        "        \n",
        "        while(len(indexed_t1)<512):\n",
        "            indexed_t1.append(0)\n",
        "        \n",
        "        ten_t1 = torch.tensor(indexed_t1)[:512]\n",
        "        \n",
        "        try:\n",
        "            sample[\"token\"] = ten_t1 # torch.Size([batch_size, 512])\n",
        "        except Exception as e:\n",
        "            print(e)\n",
        "        \n",
        "        return sample\n",
        "\n",
        "    def __len__(self):\n",
        "        return len(self.qr_idx)"
      ],
      "execution_count": null,
      "outputs": []
    },
    {
      "cell_type": "code",
      "metadata": {
        "id": "qhOlgHW9El3T"
      },
      "source": [
        "class InformationRetreivalEvaluator():\n",
        "    def __init__(self,\n",
        "                 qr,\n",
        "                 queries: Dict[str, str],  #qid => query\n",
        "                 corpus: Dict[str, str],  #cid => doc\n",
        "                 relevant_docs: Dict[str, Set[str]],  #qid => Set[cid]\n",
        "                 corpus_chunk_size: int = 50000,\n",
        "                 mrr_at_k: List[int] = [10],\n",
        "                 ndcg_at_k: List[int] = [10],\n",
        "                 accuracy_at_k: List[int] = [1, 3, 5, 10],\n",
        "                 precision_recall_at_k: List[int] = [1, 3, 5, 10],\n",
        "                 map_at_k: List[int] = [100],\n",
        "                 show_progress_bar: bool = False,\n",
        "                 batch_size: int = 32,\n",
        "                 name: str = '',\n",
        "                 write_csv: bool = True\n",
        "                 ):\n",
        "        \n",
        "        self.qr = qr\n",
        "        self.queries_ids = []\n",
        "        for qid in queries:\n",
        "            if qid in relevant_docs and len(relevant_docs[qid]) > 0:\n",
        "                self.queries_ids.append(qid)\n",
        "\n",
        "        self.queries = [queries[qid] for qid in self.queries_ids]\n",
        "\n",
        "        self.corpus_ids = list(corpus.keys())\n",
        "        self.corpus = [corpus[cid] for cid in self.corpus_ids]\n",
        "\n",
        "        self.relevant_docs = relevant_docs\n",
        "        self.corpus_chunk_size = corpus_chunk_size\n",
        "        self.mrr_at_k = mrr_at_k\n",
        "        self.ndcg_at_k = ndcg_at_k\n",
        "        self.accuracy_at_k = accuracy_at_k\n",
        "        self.precision_recall_at_k = precision_recall_at_k\n",
        "        self.map_at_k = map_at_k\n",
        "\n",
        "        self.show_progress_bar = show_progress_bar\n",
        "        self.batch_size = batch_size\n",
        "        self.name = name\n",
        "        self.write_csv = write_csv\n",
        "\n",
        "        if name:\n",
        "            name = \"_\" + name\n",
        "\n",
        "        self.csv_file: str = \"Information-Retrieval_evaluation\" + name + \"_results.csv\"\n",
        "        self.csv_headers = [\"epoch\", \"steps\"]\n",
        "\n",
        "\n",
        "        for k in accuracy_at_k:\n",
        "            self.csv_headers.append(\"Accuracy@{}\".format(k))\n",
        "\n",
        "        for k in precision_recall_at_k:\n",
        "            self.csv_headers.append(\"Precision@{}\".format(k))\n",
        "            self.csv_headers.append(\"Recall@{}\".format(k))\n",
        "\n",
        "        for k in mrr_at_k:\n",
        "            self.csv_headers.append(\"MRR@{}\".format(k))\n",
        "\n",
        "        for k in ndcg_at_k:\n",
        "            self.csv_headers.append(\"NDCG@{}\".format(k))\n",
        "\n",
        "        for k in map_at_k:\n",
        "            self.csv_headers.append(\"MAP@{}\".format(k))\n",
        "    \n",
        "    def __call__(self,model : BridgeModel,output_path: str = None,epoch: int = -1, steps: int = -1) ->float:\n",
        "        if epoch != -1:\n",
        "            out_txt = \" after epoch {}:\".format(epoch) if steps == -1 else \" in epoch {} after {} steps:\".format(epoch, steps)\n",
        "        else:\n",
        "            out_txt = \":\"\n",
        "\n",
        "        logger.info(\"Information Retrieval Evaluation on \" + self.name + \" dataset\" + out_txt)\n",
        "\n",
        "        max_k = max(max(self.mrr_at_k), max(self.ndcg_at_k), max(self.accuracy_at_k), max(self.precision_recall_at_k), max(self.map_at_k))\n",
        "\n",
        "        query_embeddings = self.get_embeddings(model,self.qr,self.queries_ids)\n",
        "\n",
        "        queries_result_list = [[] for _ in range(len(query_embeddings))]\n",
        "\n",
        "        itr = range(0, len(self.corpus), self.corpus_chunk_size)\n",
        "\n",
        "        if self.show_progress_bar:\n",
        "            itr = tqdm(itr, desc='Corpus Chunks')\n",
        "\n",
        "        #Iterate over chunks of the corpus\n",
        "        for corpus_start_idx in itr:\n",
        "            corpus_end_idx = min(corpus_start_idx + self.corpus_chunk_size, len(self.corpus))\n",
        "\n",
        "            #Encode chunk of corpus\n",
        "            sub_corpus_embeddings = self.get_embeddings(model,self.qr,self.corpus_ids[corpus_start_idx:corpus_end_idx])\n",
        "\n",
        "            #Compute cosine similarites\n",
        "            cos_scores = pytorch_cos_sim(query_embeddings, sub_corpus_embeddings)\n",
        "            del sub_corpus_embeddings\n",
        "\n",
        "            #Get top-k values\n",
        "            cos_scores_top_k_values, cos_scores_top_k_idx = torch.topk(cos_scores, min(max_k, len(cos_scores[0])), dim=1, largest=True, sorted=False)\n",
        "            cos_scores_top_k_values = cos_scores_top_k_values.cpu().tolist()\n",
        "            cos_scores_top_k_idx = cos_scores_top_k_idx.cpu().tolist()\n",
        "            del cos_scores\n",
        "\n",
        "            for query_itr in range(len(query_embeddings)):\n",
        "                for sub_corpus_id, score in zip(cos_scores_top_k_idx[query_itr], cos_scores_top_k_values[query_itr]):\n",
        "                    corpus_id = self.corpus_ids[corpus_start_idx+sub_corpus_id]\n",
        "                    queries_result_list[query_itr].append({'corpus_id': corpus_id, 'score': score})\n",
        "\n",
        "\n",
        "        #Compute scores\n",
        "        scores = self.compute_metrics(queries_result_list)\n",
        "\n",
        "        #Output\n",
        "        self.output_scores(scores)\n",
        "\n",
        "\n",
        "        # logger.info(\"Queries: {}\".format(len(self.queries)))\n",
        "        # logger.info(\"Corpus: {}\\n\".format(len(self.corpus)))\n",
        "\n",
        "        if output_path is not None and self.write_csv:\n",
        "            csv_path = os.path.join(output_path, self.csv_file)\n",
        "            if not os.path.isfile(csv_path):\n",
        "                fOut = open(csv_path, mode=\"w\", encoding=\"utf-8\")\n",
        "                fOut.write(\",\".join(self.csv_headers))\n",
        "                fOut.write(\"\\n\")\n",
        "\n",
        "            else:\n",
        "                fOut = open(csv_path, mode=\"a\", encoding=\"utf-8\")\n",
        "\n",
        "            output_data = [epoch, steps]\n",
        "            for k in self.accuracy_at_k:\n",
        "                output_data.append(scores['accuracy@k'][k])\n",
        "\n",
        "            for k in self.precision_recall_at_k:\n",
        "                output_data.append(scores['precision@k'][k])\n",
        "                output_data.append(scores['recall@k'][k])\n",
        "\n",
        "            for k in self.mrr_at_k:\n",
        "                output_data.append(scores['mrr@k'][k])\n",
        "\n",
        "            for k in self.ndcg_at_k:\n",
        "                output_data.append(scores['ndcg@k'][k])\n",
        "\n",
        "            for k in self.map_at_k:\n",
        "                output_data.append(scores['map@k'][k])\n",
        "\n",
        "            fOut.write(\",\".join(map(str,output_data)))\n",
        "            fOut.write(\"\\n\")\n",
        "            fOut.close()\n",
        "\n",
        "        return scores['map@k'][max(self.map_at_k)]\n",
        "\n",
        "\n",
        "    def compute_metrics(self, queries_result_list: List[object]):\n",
        "        # Init score computation values\n",
        "        num_hits_at_k = {k: 0 for k in self.accuracy_at_k}\n",
        "        precisions_at_k = {k: [] for k in self.precision_recall_at_k}\n",
        "        recall_at_k = {k: [] for k in self.precision_recall_at_k}\n",
        "        MRR = {k: 0 for k in self.mrr_at_k}\n",
        "        ndcg = {k: [] for k in self.ndcg_at_k}\n",
        "        AveP_at_k = {k: [] for k in self.map_at_k}\n",
        "\n",
        "        # Compute scores on results\n",
        "        for query_itr in range(len(queries_result_list)):\n",
        "            query_id = self.queries_ids[query_itr]\n",
        "\n",
        "            # Sort scores\n",
        "            top_hits = sorted(queries_result_list[query_itr], key=lambda x: x['score'], reverse=True)\n",
        "            query_relevant_docs = self.relevant_docs[query_id]\n",
        "\n",
        "            # Accuracy@k - We count the result correct, if at least one relevant doc is accross the top-k documents\n",
        "            for k_val in self.accuracy_at_k:\n",
        "                for hit in top_hits[0:k_val]:\n",
        "                    if hit['corpus_id'] in query_relevant_docs:\n",
        "                        num_hits_at_k[k_val] += 1\n",
        "                        break\n",
        "\n",
        "            # Precision and Recall@k\n",
        "            for k_val in self.precision_recall_at_k:\n",
        "                num_correct = 0\n",
        "                for hit in top_hits[0:k_val]:\n",
        "                    if hit['corpus_id'] in query_relevant_docs:\n",
        "                        num_correct += 1\n",
        "\n",
        "                precisions_at_k[k_val].append(num_correct / k_val)\n",
        "                recall_at_k[k_val].append(num_correct / len(query_relevant_docs))\n",
        "\n",
        "            # MRR@k\n",
        "            for k_val in self.mrr_at_k:\n",
        "                for rank, hit in enumerate(top_hits[0:k_val]):\n",
        "                    if hit['corpus_id'] in query_relevant_docs:\n",
        "                        MRR[k_val] += 1.0 / (rank + 1)\n",
        "                        break\n",
        "\n",
        "            # NDCG@k\n",
        "            for k_val in self.ndcg_at_k:\n",
        "                predicted_relevance = [1 if top_hit['corpus_id'] in query_relevant_docs else 0 for top_hit in top_hits[0:k_val]]\n",
        "                true_relevances = [1] * len(query_relevant_docs)\n",
        "\n",
        "                ndcg_value = self.compute_dcg_at_k(predicted_relevance, k_val) / self.compute_dcg_at_k(true_relevances, k_val)\n",
        "                ndcg[k_val].append(ndcg_value)\n",
        "\n",
        "            # MAP@k\n",
        "            for k_val in self.map_at_k:\n",
        "                num_correct = 0\n",
        "                sum_precisions = 0\n",
        "\n",
        "                for rank, hit in enumerate(top_hits[0:k_val]):\n",
        "                    if hit['corpus_id'] in query_relevant_docs:\n",
        "                        num_correct += 1\n",
        "                        sum_precisions += num_correct / (rank + 1)\n",
        "\n",
        "                avg_precision = sum_precisions / min(k_val, len(query_relevant_docs))\n",
        "                AveP_at_k[k_val].append(avg_precision)\n",
        "\n",
        "        # Compute averages\n",
        "        for k in num_hits_at_k:\n",
        "            num_hits_at_k[k] /= len(self.queries_ids)\n",
        "\n",
        "        for k in precisions_at_k:\n",
        "            precisions_at_k[k] = np.mean(precisions_at_k[k])\n",
        "\n",
        "        for k in recall_at_k:\n",
        "            recall_at_k[k] = np.mean(recall_at_k[k])\n",
        "\n",
        "        for k in ndcg:\n",
        "            ndcg[k] = np.mean(ndcg[k])\n",
        "\n",
        "        for k in MRR:\n",
        "            MRR[k] /= len(self.queries_ids)\n",
        "\n",
        "        for k in AveP_at_k:\n",
        "            AveP_at_k[k] = np.mean(AveP_at_k[k])\n",
        "\n",
        "\n",
        "        return {'accuracy@k': num_hits_at_k, 'precision@k': precisions_at_k, 'recall@k': recall_at_k, 'ndcg@k': ndcg, 'mrr@k': MRR, 'map@k': AveP_at_k}\n",
        "\n",
        "\n",
        "    def output_scores(self, scores):\n",
        "        for k in scores['accuracy@k']:\n",
        "            logger.info(\"Accuracy@{}: {:.2f}%\".format(k, scores['accuracy@k'][k]*100))\n",
        "\n",
        "        for k in scores['precision@k']:\n",
        "            logger.info(\"Precision@{}: {:.2f}%\".format(k, scores['precision@k'][k]*100))\n",
        "\n",
        "        for k in scores['recall@k']:\n",
        "            logger.info(\"Recall@{}: {:.2f}%\".format(k, scores['recall@k'][k]*100))\n",
        "\n",
        "        for k in scores['mrr@k']:\n",
        "            logger.info(\"MRR@{}: {:.4f}\".format(k, scores['mrr@k'][k]))\n",
        "\n",
        "        for k in scores['ndcg@k']:\n",
        "            logger.info(\"NDCG@{}: {:.4f}\".format(k, scores['ndcg@k'][k]))\n",
        "\n",
        "        for k in scores['map@k']:\n",
        "            logger.info(\"MAP@{}: {:.4f}\".format(k, scores['map@k'][k]))\n",
        "\n",
        "\n",
        "    @staticmethod\n",
        "    def compute_dcg_at_k(relevances, k):\n",
        "        dcg = 0\n",
        "        for i in range(min(len(relevances), k)):\n",
        "            dcg += relevances[i] / np.log2(i + 2)  #+2 as we start our idx at 0\n",
        "        return dcg\n",
        "    \n",
        "    def get_embeddings(self,model,qr,qr_idx):\n",
        "        info_dataset = infodataset(qr,qr_idx,img_dir,transform = transform_pipe)\n",
        "        info_loader = DataLoader(\n",
        "            info_dataset,\n",
        "            batch_size=BATCH_SIZE,\n",
        "            pin_memory=True,\n",
        "            num_workers = 8,\n",
        "            )\n",
        "        \n",
        "        embeddings = list()\n",
        "        since = time.time()\n",
        "        for i,batch in enumerate(info_loader):\n",
        "            model.eval()\n",
        "\n",
        "            text = batch['token']\n",
        "            images = batch['image']\n",
        "\n",
        "            text,images = torch.tensor(text).to(device), torch.tensor(images).to(device)\n",
        "\n",
        "            with torch.no_grad():\n",
        "                yhat = model.forward(images,text)\n",
        "            \n",
        "            for j in yhat:\n",
        "                embeddings.append(j.cpu().detach().numpy())\n",
        "            \n",
        "            if(i%40==0):\n",
        "                print(f'{i} iterations hase been completed, and model is running for {time.time()-since}')\n",
        "        \n",
        "        return embeddings\n"
      ],
      "execution_count": null,
      "outputs": []
    },
    {
      "cell_type": "code",
      "metadata": {
        "id": "pZFzkQT1oKEP"
      },
      "source": [
        "with open(folder_quora+'/devinfo_100.txt','rb') as a:\n",
        "    queries_dev = pickle.load(a)\n",
        "    rel_docs_dev= pickle.load(a)\n",
        "\n",
        "with open(folder_quora+'/testinfo_100.txt','rb') as a:\n",
        "    queries_test= pickle.load(a)\n",
        "    rel_docs_test= pickle.load(a)\n",
        "\n",
        "with open(folder_quora+'/traininfo_100.txt','rb') as a:\n",
        "    queries_train= pickle.load(a)\n",
        "    rel_docs_train= pickle.load(a)"
      ],
      "execution_count": null,
      "outputs": []
    },
    {
      "cell_type": "code",
      "metadata": {
        "id": "5XTuVNlbeF-5"
      },
      "source": [
        "def corpus(qr):\n",
        "    corpus = dict()\n",
        "    for i in qr.index.values:\n",
        "        corpus[i] = 'I dont care'\n",
        "    return corpus"
      ],
      "execution_count": null,
      "outputs": []
    },
    {
      "cell_type": "code",
      "metadata": {
        "id": "zFwNBTJCoOS4"
      },
      "source": [
        "train_inforet = InformationRetreivalEvaluator(train_qr,queries_train,corpus(train_qr),rel_docs_train)\n",
        "os.makedirs(folder+'/train',exist_ok=True)\n",
        "train_inforet(model,folder+'/train')"
      ],
      "execution_count": null,
      "outputs": []
    },
    {
      "cell_type": "code",
      "metadata": {
        "id": "WktSxgTYEqg1"
      },
      "source": [
        "dev_inforet = InformationRetreivalEvaluator(pd.concat([train_qr,dev_qr]),queries_dev,corpus(train_qr),rel_docs_dev)\n",
        "os.makedirs(folder+'/dev',exist_ok=True)\n",
        "dev_inforet(model,folder+'/dev')"
      ],
      "execution_count": null,
      "outputs": []
    }
  ]
}